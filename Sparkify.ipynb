{
  "cells": [
    {
      "cell_type": "markdown",
      "metadata": {
        "id": "DgJezjZyLLh4"
      },
      "source": [
        "# High-level overview:\n",
        "The purpose of the Sparkify project is to develop a machine learning model to predict customer churn for the Sparkify music streaming service. Customer churn refers to the phenomenon where customers discontinue their subscription or stop using the service. By predicting churn, Sparkify can take proactive measures to retain customers and improve user engagement. The project involves analyzing a dataset of user activity logs, applying data preprocessing techniques, conducting exploratory data analysis, and implementing machine learning models to predict churn."
      ]
    },
    {
      "cell_type": "code",
      "execution_count": 2,
      "metadata": {
        "id": "8s_9pRXnLLh7"
      },
      "outputs": [],
      "source": [
        "# import libraries\n",
        "import pyspark\n",
        "from pyspark.sql import SparkSession, Row\n",
        "import pyspark.sql.functions as F\n",
        "import pyspark.sql.types as T\n",
        "\n",
        "from pyspark.ml import Pipeline, PipelineModel\n",
        "import pyspark.ml.classification as cl\n",
        "import pyspark.ml.evaluation as ev\n",
        "import pyspark.ml.feature as ft\n",
        "from pyspark.ml.tuning import CrossValidator, ParamGridBuilder\n",
        "\n",
        "import re\n",
        "import boto3\n",
        "import botocore"
      ]
    },
    {
      "cell_type": "code",
      "execution_count": 3,
      "metadata": {
        "colab": {
          "base_uri": "https://localhost:8080/",
          "height": 35
        },
        "id": "AT2IR25MLLh8",
        "outputId": "c1e9f53b-a2a0-4d57-d723-965994897656"
      },
      "outputs": [
        {
          "output_type": "execute_result",
          "data": {
            "text/plain": [
              "'3.4.1'"
            ],
            "application/vnd.google.colaboratory.intrinsic+json": {
              "type": "string"
            }
          },
          "metadata": {},
          "execution_count": 3
        }
      ],
      "source": [
        "pyspark.__version__"
      ]
    },
    {
      "cell_type": "code",
      "execution_count": 4,
      "metadata": {
        "colab": {
          "base_uri": "https://localhost:8080/"
        },
        "id": "v9cVFOSvLLh-",
        "outputId": "cfe597e1-c21f-4bbe-9e56-3cfa2ced768f"
      },
      "outputs": [
        {
          "output_type": "execute_result",
          "data": {
            "text/plain": [
              "[('spark.executor.id', 'driver'),\n",
              " ('spark.app.id', 'local-1689250207780'),\n",
              " ('spark.driver.port', '43907'),\n",
              " ('spark.driver.extraJavaOptions',\n",
              "  '-Djava.net.preferIPv6Addresses=false -XX:+IgnoreUnrecognizedVMOptions --add-opens=java.base/java.lang=ALL-UNNAMED --add-opens=java.base/java.lang.invoke=ALL-UNNAMED --add-opens=java.base/java.lang.reflect=ALL-UNNAMED --add-opens=java.base/java.io=ALL-UNNAMED --add-opens=java.base/java.net=ALL-UNNAMED --add-opens=java.base/java.nio=ALL-UNNAMED --add-opens=java.base/java.util=ALL-UNNAMED --add-opens=java.base/java.util.concurrent=ALL-UNNAMED --add-opens=java.base/java.util.concurrent.atomic=ALL-UNNAMED --add-opens=java.base/sun.nio.ch=ALL-UNNAMED --add-opens=java.base/sun.nio.cs=ALL-UNNAMED --add-opens=java.base/sun.security.action=ALL-UNNAMED --add-opens=java.base/sun.util.calendar=ALL-UNNAMED --add-opens=java.security.jgss/sun.security.krb5=ALL-UNNAMED -Djdk.reflect.useDirectMethodHandle=false'),\n",
              " ('spark.rdd.compress', 'True'),\n",
              " ('spark.app.submitTime', '1689250203420'),\n",
              " ('spark.app.startTime', '1689250203836'),\n",
              " ('spark.app.name', 'Sparkify'),\n",
              " ('spark.serializer.objectStreamReset', '100'),\n",
              " ('spark.master', 'local[*]'),\n",
              " ('spark.submit.pyFiles', ''),\n",
              " ('spark.submit.deployMode', 'client'),\n",
              " ('spark.driver.host', '2f30d5c7bd3f'),\n",
              " ('spark.ui.showConsoleProgress', 'true'),\n",
              " ('spark.executor.extraJavaOptions',\n",
              "  '-Djava.net.preferIPv6Addresses=false -XX:+IgnoreUnrecognizedVMOptions --add-opens=java.base/java.lang=ALL-UNNAMED --add-opens=java.base/java.lang.invoke=ALL-UNNAMED --add-opens=java.base/java.lang.reflect=ALL-UNNAMED --add-opens=java.base/java.io=ALL-UNNAMED --add-opens=java.base/java.net=ALL-UNNAMED --add-opens=java.base/java.nio=ALL-UNNAMED --add-opens=java.base/java.util=ALL-UNNAMED --add-opens=java.base/java.util.concurrent=ALL-UNNAMED --add-opens=java.base/java.util.concurrent.atomic=ALL-UNNAMED --add-opens=java.base/sun.nio.ch=ALL-UNNAMED --add-opens=java.base/sun.nio.cs=ALL-UNNAMED --add-opens=java.base/sun.security.action=ALL-UNNAMED --add-opens=java.base/sun.util.calendar=ALL-UNNAMED --add-opens=java.security.jgss/sun.security.krb5=ALL-UNNAMED -Djdk.reflect.useDirectMethodHandle=false')]"
            ]
          },
          "metadata": {},
          "execution_count": 4
        }
      ],
      "source": [
        "# create a Spark session\n",
        "spark = SparkSession \\\n",
        "    .builder \\\n",
        "    .appName(\"Sparkify\") \\\n",
        "    .getOrCreate()\n",
        "spark.sparkContext.getConf().getAll()"
      ]
    },
    {
      "cell_type": "code",
      "execution_count": 5,
      "metadata": {
        "colab": {
          "base_uri": "https://localhost:8080/",
          "height": 219
        },
        "id": "7QSnAsYMLLh_",
        "outputId": "3311f1a1-9ab1-43e8-fd3c-db5d04d0ba43"
      },
      "outputs": [
        {
          "output_type": "execute_result",
          "data": {
            "text/plain": [
              "<pyspark.sql.session.SparkSession at 0x7dc4b1a8ef20>"
            ],
            "text/html": [
              "\n",
              "            <div>\n",
              "                <p><b>SparkSession - in-memory</b></p>\n",
              "                \n",
              "        <div>\n",
              "            <p><b>SparkContext</b></p>\n",
              "\n",
              "            <p><a href=\"http://2f30d5c7bd3f:4040\">Spark UI</a></p>\n",
              "\n",
              "            <dl>\n",
              "              <dt>Version</dt>\n",
              "                <dd><code>v3.4.1</code></dd>\n",
              "              <dt>Master</dt>\n",
              "                <dd><code>local[*]</code></dd>\n",
              "              <dt>AppName</dt>\n",
              "                <dd><code>Sparkify</code></dd>\n",
              "            </dl>\n",
              "        </div>\n",
              "        \n",
              "            </div>\n",
              "        "
            ]
          },
          "metadata": {},
          "execution_count": 5
        }
      ],
      "source": [
        "spark"
      ]
    },
    {
      "cell_type": "markdown",
      "metadata": {
        "id": "bNCGxvmELLh_"
      },
      "source": [
        "# Load and Clean Dataset\n",
        "In this workspace, the mini-dataset file is `mini_sparkify_event_data.json`. Load and clean the dataset, checking for invalid or missing data - for example, records without userids or sessionids."
      ]
    },
    {
      "cell_type": "code",
      "execution_count": 6,
      "metadata": {
        "id": "9u8gzII-ZNAW"
      },
      "outputs": [],
      "source": [
        "#@title Insert your AWS key id and secret key here.\n",
        "\n",
        "boto3.setup_default_session(aws_access_key_id='',\n",
        "                            aws_secret_access_key='')\n"
      ]
    },
    {
      "cell_type": "code",
      "execution_count": 7,
      "metadata": {
        "colab": {
          "base_uri": "https://localhost:8080/"
        },
        "id": "x-6vyNuyZQPo",
        "outputId": "49a65792-d39b-41e8-ee4c-39b525d5f7a8"
      },
      "outputs": [
        {
          "output_type": "stream",
          "name": "stdout",
          "text": [
            "File downloaded successfully!\n"
          ]
        }
      ],
      "source": [
        "s3 = boto3.resource('s3')\n",
        "bucket_name = 'udacity-dsnd'\n",
        "key = 'sparkify/sparkify_event_data.json'\n",
        "local_file_path = '/content/sparkify_event_data.json'  # Specify the local path where you want to save the file\n",
        "\n",
        "try:\n",
        "    s3.Bucket(bucket_name).download_file(key, local_file_path)\n",
        "    print(\"File downloaded successfully!\")\n",
        "except botocore.exceptions.ClientError as e:\n",
        "    if e.response['Error']['Code'] == \"404\":\n",
        "        print(\"The object does not exist.\")\n",
        "    else:\n",
        "        raise\n"
      ]
    },
    {
      "cell_type": "code",
      "execution_count": 8,
      "metadata": {
        "id": "9eNLy1c1LLiA"
      },
      "outputs": [],
      "source": [
        "dataset = spark.read.json(local_file_path)"
      ]
    },
    {
      "cell_type": "code",
      "execution_count": 9,
      "metadata": {
        "colab": {
          "base_uri": "https://localhost:8080/"
        },
        "id": "udr3-cOHLLiA",
        "outputId": "16dfbc2b-cf7d-4d61-b598-3d33d20b9654"
      },
      "outputs": [
        {
          "output_type": "stream",
          "name": "stdout",
          "text": [
            "root\n",
            " |-- artist: string (nullable = true)\n",
            " |-- auth: string (nullable = true)\n",
            " |-- firstName: string (nullable = true)\n",
            " |-- gender: string (nullable = true)\n",
            " |-- itemInSession: long (nullable = true)\n",
            " |-- lastName: string (nullable = true)\n",
            " |-- length: double (nullable = true)\n",
            " |-- level: string (nullable = true)\n",
            " |-- location: string (nullable = true)\n",
            " |-- method: string (nullable = true)\n",
            " |-- page: string (nullable = true)\n",
            " |-- registration: long (nullable = true)\n",
            " |-- sessionId: long (nullable = true)\n",
            " |-- song: string (nullable = true)\n",
            " |-- status: long (nullable = true)\n",
            " |-- ts: long (nullable = true)\n",
            " |-- userAgent: string (nullable = true)\n",
            " |-- userId: string (nullable = true)\n",
            "\n"
          ]
        }
      ],
      "source": [
        "dataset.printSchema()"
      ]
    },
    {
      "cell_type": "code",
      "execution_count": 10,
      "metadata": {
        "colab": {
          "base_uri": "https://localhost:8080/"
        },
        "id": "zdvbiBWOLLiA",
        "outputId": "60477958-2a02-4cc5-d169-f12d4cea40a0"
      },
      "outputs": [
        {
          "output_type": "execute_result",
          "data": {
            "text/plain": [
              "[Row(artist='Martha Tilston', auth='Logged In', firstName='Colin', gender='M', itemInSession=50, lastName='Freeman', length=277.89016, level='paid', location='Bakersfield, CA', method='PUT', page='NextSong', registration=1538173362000, sessionId=29, song='Rockpools', status=200, ts=1538352117000, userAgent='Mozilla/5.0 (Windows NT 6.1; WOW64; rv:31.0) Gecko/20100101 Firefox/31.0', userId='30'),\n",
              " Row(artist='Five Iron Frenzy', auth='Logged In', firstName='Micah', gender='M', itemInSession=79, lastName='Long', length=236.09424, level='free', location='Boston-Cambridge-Newton, MA-NH', method='PUT', page='NextSong', registration=1538331630000, sessionId=8, song='Canada', status=200, ts=1538352180000, userAgent='\"Mozilla/5.0 (Windows NT 6.1; WOW64) AppleWebKit/537.36 (KHTML, like Gecko) Chrome/37.0.2062.103 Safari/537.36\"', userId='9'),\n",
              " Row(artist='Adam Lambert', auth='Logged In', firstName='Colin', gender='M', itemInSession=51, lastName='Freeman', length=282.8273, level='paid', location='Bakersfield, CA', method='PUT', page='NextSong', registration=1538173362000, sessionId=29, song='Time For Miracles', status=200, ts=1538352394000, userAgent='Mozilla/5.0 (Windows NT 6.1; WOW64; rv:31.0) Gecko/20100101 Firefox/31.0', userId='30')]"
            ]
          },
          "metadata": {},
          "execution_count": 10
        }
      ],
      "source": [
        "dataset.take(3)"
      ]
    },
    {
      "cell_type": "code",
      "execution_count": 11,
      "metadata": {
        "id": "RHzGZdkTLLiB"
      },
      "outputs": [],
      "source": [
        "cols=['userId', 'page','location','userAgent','gender','artist','song']"
      ]
    },
    {
      "cell_type": "code",
      "execution_count": 12,
      "metadata": {
        "id": "_XX_klPpLLiB"
      },
      "outputs": [],
      "source": [
        "dataset=dataset.select(cols)"
      ]
    },
    {
      "cell_type": "code",
      "execution_count": 13,
      "metadata": {
        "id": "J0apq7guLLiB"
      },
      "outputs": [],
      "source": [
        "dataset=dataset.dropna(how = \"any\", subset = [\"userId\",])"
      ]
    },
    {
      "cell_type": "code",
      "execution_count": 14,
      "metadata": {
        "id": "9Rlu4M92LLiB"
      },
      "outputs": [],
      "source": [
        "dataset=dataset.fillna(\"None\")"
      ]
    },
    {
      "cell_type": "code",
      "execution_count": 15,
      "metadata": {
        "id": "nka5FOFYLLiC"
      },
      "outputs": [],
      "source": [
        "isdigit=F.udf(lambda str:str.isdigit(),T.BooleanType())"
      ]
    },
    {
      "cell_type": "code",
      "execution_count": 16,
      "metadata": {
        "id": "gDd4qr3LLLiC"
      },
      "outputs": [],
      "source": [
        "dataset=dataset.filter(isdigit(dataset.userId))"
      ]
    },
    {
      "cell_type": "code",
      "execution_count": 17,
      "metadata": {
        "colab": {
          "base_uri": "https://localhost:8080/"
        },
        "id": "GiLJ5r42LLiC",
        "outputId": "a3d4c7f1-8bc5-4ade-d7d1-0451eb39c7ec"
      },
      "outputs": [
        {
          "output_type": "execute_result",
          "data": {
            "text/plain": [
              "278154"
            ]
          },
          "metadata": {},
          "execution_count": 17
        }
      ],
      "source": [
        "dataset.count()"
      ]
    },
    {
      "cell_type": "markdown",
      "metadata": {
        "id": "ulRlPTRhLLiC"
      },
      "source": [
        "Set the type of `usedId` to integer."
      ]
    },
    {
      "cell_type": "code",
      "execution_count": 18,
      "metadata": {
        "id": "olaefJXCLLiC"
      },
      "outputs": [],
      "source": [
        "dataset=dataset.withColumn(\"userId\",dataset.userId.cast('long'))"
      ]
    },
    {
      "cell_type": "code",
      "execution_count": 19,
      "metadata": {
        "colab": {
          "base_uri": "https://localhost:8080/"
        },
        "id": "DHTyIFgNLLiC",
        "outputId": "6c29e018-9d26-43e4-c0db-ab3a62c9bda6"
      },
      "outputs": [
        {
          "output_type": "execute_result",
          "data": {
            "text/plain": [
              "DataFrame[userId: bigint, page: string, location: string, userAgent: string, gender: string, artist: string, song: string]"
            ]
          },
          "metadata": {},
          "execution_count": 19
        }
      ],
      "source": [
        "dataset.persist()"
      ]
    },
    {
      "cell_type": "markdown",
      "metadata": {
        "id": "jnZFdd9EXVT7"
      },
      "source": [
        "# Description of Input Data:\n",
        "The dataset used for the project consists of user activity logs from Sparkify. It includes information such as timestamps, user interactions (e.g., song plays, likes, and dislikes), demographic data (e.g., gender, location), and other relevant features. The variables in the dataset play a crucial role in predicting churn. For example, the frequency of user interactions, the length of active sessions, and the user's subscription level could be indicative of potential churn. Exploring and understanding these variables helps in building an effective churn prediction model."
      ]
    },
    {
      "cell_type": "markdown",
      "metadata": {
        "id": "lg5ClSSpLLiC"
      },
      "source": [
        "# Exploratory Data Analysis\n",
        "When you're working with the full dataset, perform EDA by loading a small subset of the data and doing basic manipulations within Spark. In this workspace, you are already provided a small subset of data you can explore.\n",
        "\n",
        "### Define Churn\n",
        "\n",
        "Once you've done some preliminary analysis, create a column `Churn` to use as the label for your model. I suggest using the `Cancellation Confirmation` events to define your churn, which happen for both paid and free users. As a bonus task, you can also look into the `Downgrade` events.\n",
        "\n",
        "#Strategy for solving the problem:\n",
        "The overall approach to solving the churn prediction problem involves several key steps. Initially, the dataset is loaded and preprocessed to handle missing values, outliers, and data inconsistencies. Exploratory data analysis is conducted to gain insights into the data and identify patterns or trends related to churn. Feature engineering techniques are applied to extract relevant features from the dataset. Classifiers are trained and evaluated for their predictive performance. The chosen model is then fine-tuned through hyperparameter optimization to improve its effectiveness in predicting churn.\n",
        "\n",
        "# Discussion of the expected solution:\n",
        "The proposed solution typically involves developing a machine learning pipeline for churn prediction. The pipeline includes data preprocessing steps, such as handling missing values, followed by feature engineering techniques to extract meaningful features. The preprocessed data is then used to train and evaluate different machine learning models. The best-performing model is selected based on evaluation metrics, such as F1 score, precision, recall, and AUC-ROC. The final model is deployed to predict churn for new, unseen data.\n",
        "\n",
        "# Data Preprocessing:\n",
        "Data preprocessing steps include handling missing values, removing duplicates, addressing outliers, and performing feature engineering. Missing values are either imputed or discarded, duplicates are dropped to ensure data integrity, outliers are handled based on their impact on the analysis, and feature engineering techniques, such as creating aggregate features or transforming variables, are applied to extract meaningful information that improves the predictive power of the model."
      ]
    },
    {
      "cell_type": "code",
      "execution_count": 20,
      "metadata": {
        "id": "m0p2-N57LLiD",
        "colab": {
          "base_uri": "https://localhost:8080/"
        },
        "outputId": "5f4a477a-295d-4d44-f31b-03a16738af39"
      },
      "outputs": [
        {
          "output_type": "stream",
          "name": "stdout",
          "text": [
            "+--------------------+\n",
            "|                page|\n",
            "+--------------------+\n",
            "|              Cancel|\n",
            "|    Submit Downgrade|\n",
            "|         Thumbs Down|\n",
            "|                Home|\n",
            "|           Downgrade|\n",
            "|         Roll Advert|\n",
            "|              Logout|\n",
            "|       Save Settings|\n",
            "|Cancellation Conf...|\n",
            "|               About|\n",
            "|            Settings|\n",
            "|     Add to Playlist|\n",
            "|          Add Friend|\n",
            "|            NextSong|\n",
            "|           Thumbs Up|\n",
            "|                Help|\n",
            "|             Upgrade|\n",
            "|               Error|\n",
            "|      Submit Upgrade|\n",
            "+--------------------+\n",
            "\n"
          ]
        }
      ],
      "source": [
        "dataset.select('page').distinct().show()"
      ]
    },
    {
      "cell_type": "markdown",
      "metadata": {
        "id": "-U-NLXr7LLiD"
      },
      "source": [
        "In order to look for the `churn`s, we will group the data by `userId` and collect all the `page`s as `history`."
      ]
    },
    {
      "cell_type": "code",
      "execution_count": 21,
      "metadata": {
        "id": "R0D3ZDvULLiD"
      },
      "outputs": [],
      "source": [
        "history=dataset.select(['userId','page']).groupby('userId').agg(F.collect_list('page').alias('history'))"
      ]
    },
    {
      "cell_type": "code",
      "execution_count": 22,
      "metadata": {
        "id": "vMZYDxHeLLiD",
        "colab": {
          "base_uri": "https://localhost:8080/"
        },
        "outputId": "35b8f041-33d0-47cb-ba35-e6658f1d6406"
      },
      "outputs": [
        {
          "output_type": "stream",
          "name": "stdout",
          "text": [
            "+------+--------------------+\n",
            "|userId|             history|\n",
            "+------+--------------------+\n",
            "|     2|[NextSong, NextSo...|\n",
            "|     3|[NextSong, NextSo...|\n",
            "|     4|[NextSong, NextSo...|\n",
            "|     5|[Home, NextSong, ...|\n",
            "|     6|[NextSong, NextSo...|\n",
            "|     7|[NextSong, NextSo...|\n",
            "|     8|[Home, NextSong, ...|\n",
            "|     9|[Home, NextSong, ...|\n",
            "|    10|[NextSong, NextSo...|\n",
            "|    11|[NextSong, Roll A...|\n",
            "|    12|[NextSong, NextSo...|\n",
            "|    13|[NextSong, Settin...|\n",
            "|    14|[NextSong, Downgr...|\n",
            "|    15|[NextSong, NextSo...|\n",
            "|    16|[NextSong, Add to...|\n",
            "|    17|[NextSong, NextSo...|\n",
            "|    18|[Home, NextSong, ...|\n",
            "|    19|[NextSong, NextSo...|\n",
            "|    20|[NextSong, NextSo...|\n",
            "|    21|[Home, NextSong, ...|\n",
            "+------+--------------------+\n",
            "only showing top 20 rows\n",
            "\n"
          ]
        }
      ],
      "source": [
        "history.show()"
      ]
    },
    {
      "cell_type": "markdown",
      "metadata": {
        "id": "qmJ-avv-LLiD"
      },
      "source": [
        "Then, we define `churn` to be `1` if `{'Cancellation Confirmation','Submit Downgrade'}` is subset of the `history` and `0` otherwise."
      ]
    },
    {
      "cell_type": "code",
      "execution_count": 23,
      "metadata": {
        "id": "zSErExD6LLiD"
      },
      "outputs": [],
      "source": [
        "issubset = F.udf(lambda l: int('Cancellation Confirmation' in l), T.IntegerType())"
      ]
    },
    {
      "cell_type": "code",
      "execution_count": 24,
      "metadata": {
        "id": "X4wW97ZpLLiD"
      },
      "outputs": [],
      "source": [
        "history=history.withColumn(\"churn\",issubset(history.history))"
      ]
    },
    {
      "cell_type": "code",
      "execution_count": 25,
      "metadata": {
        "id": "UNXZNvngLLiD",
        "colab": {
          "base_uri": "https://localhost:8080/"
        },
        "outputId": "09b2e880-842f-4e2b-eae4-cee1ceb488a0"
      },
      "outputs": [
        {
          "output_type": "stream",
          "name": "stdout",
          "text": [
            "+------+--------------------+-----+\n",
            "|userId|             history|churn|\n",
            "+------+--------------------+-----+\n",
            "|     2|[NextSong, NextSo...|    0|\n",
            "|     3|[NextSong, NextSo...|    1|\n",
            "|     4|[NextSong, NextSo...|    0|\n",
            "|     5|[Home, NextSong, ...|    0|\n",
            "|     6|[NextSong, NextSo...|    0|\n",
            "|     7|[NextSong, NextSo...|    0|\n",
            "|     8|[Home, NextSong, ...|    0|\n",
            "|     9|[Home, NextSong, ...|    0|\n",
            "|    10|[NextSong, NextSo...|    0|\n",
            "|    11|[NextSong, Roll A...|    0|\n",
            "|    12|[NextSong, NextSo...|    1|\n",
            "|    13|[NextSong, Settin...|    0|\n",
            "|    14|[NextSong, Downgr...|    0|\n",
            "|    15|[NextSong, NextSo...|    0|\n",
            "|    16|[NextSong, Add to...|    0|\n",
            "|    17|[NextSong, NextSo...|    1|\n",
            "|    18|[Home, NextSong, ...|    1|\n",
            "|    19|[NextSong, NextSo...|    0|\n",
            "|    20|[NextSong, NextSo...|    0|\n",
            "|    21|[Home, NextSong, ...|    0|\n",
            "+------+--------------------+-----+\n",
            "only showing top 20 rows\n",
            "\n"
          ]
        }
      ],
      "source": [
        "history.show()"
      ]
    },
    {
      "cell_type": "markdown",
      "metadata": {
        "id": "f14PfrQxLLiE"
      },
      "source": [
        "We compute now the length of the history as an indicator of user activity."
      ]
    },
    {
      "cell_type": "code",
      "execution_count": 26,
      "metadata": {
        "id": "dg3pIlEiLLiE"
      },
      "outputs": [],
      "source": [
        "Len=F.udf(len,T.IntegerType())"
      ]
    },
    {
      "cell_type": "code",
      "execution_count": 27,
      "metadata": {
        "id": "PVWMRlC0LLiE"
      },
      "outputs": [],
      "source": [
        "history=history.withColumn(\"nHist\",Len(\"history\"))"
      ]
    },
    {
      "cell_type": "code",
      "execution_count": 28,
      "metadata": {
        "id": "PsYXPF9QLLiE",
        "scrolled": true,
        "colab": {
          "base_uri": "https://localhost:8080/"
        },
        "outputId": "528da5ae-feea-4818-e61e-23c56d2f7f4a"
      },
      "outputs": [
        {
          "output_type": "stream",
          "name": "stdout",
          "text": [
            "+------+--------------------+-----+-----+\n",
            "|userId|             history|churn|nHist|\n",
            "+------+--------------------+-----+-----+\n",
            "|     2|[NextSong, NextSo...|    0|  899|\n",
            "|     3|[NextSong, NextSo...|    1|  254|\n",
            "|     4|[NextSong, NextSo...|    0| 2442|\n",
            "|     5|[Home, NextSong, ...|    0|  218|\n",
            "|     6|[NextSong, NextSo...|    0| 3761|\n",
            "|     7|[NextSong, NextSo...|    0|  201|\n",
            "|     8|[Home, NextSong, ...|    0|  334|\n",
            "|     9|[Home, NextSong, ...|    0| 3191|\n",
            "|    10|[NextSong, NextSo...|    0|  795|\n",
            "|    11|[NextSong, Roll A...|    0|  848|\n",
            "|    12|[NextSong, NextSo...|    1| 1064|\n",
            "|    13|[NextSong, Settin...|    0| 1654|\n",
            "|    14|[NextSong, Downgr...|    0| 1432|\n",
            "|    15|[NextSong, NextSo...|    0| 2278|\n",
            "|    16|[NextSong, Add to...|    0|  819|\n",
            "|    17|[NextSong, NextSo...|    1| 1102|\n",
            "|    18|[Home, NextSong, ...|    1|  513|\n",
            "|    19|[NextSong, NextSo...|    0|  259|\n",
            "|    20|[NextSong, NextSo...|    0| 2195|\n",
            "|    21|[Home, NextSong, ...|    0|  589|\n",
            "+------+--------------------+-----+-----+\n",
            "only showing top 20 rows\n",
            "\n"
          ]
        }
      ],
      "source": [
        "history.show()"
      ]
    },
    {
      "cell_type": "code",
      "execution_count": 29,
      "metadata": {
        "id": "Mn4BOuFwLLiE",
        "colab": {
          "base_uri": "https://localhost:8080/"
        },
        "outputId": "f3643fd0-5d5b-4193-b5b2-83480d7a1253"
      },
      "outputs": [
        {
          "output_type": "stream",
          "name": "stdout",
          "text": [
            "+----------+----------+\n",
            "|min(nHist)|max(nHist)|\n",
            "+----------+----------+\n",
            "|         6|      9632|\n",
            "+----------+----------+\n",
            "\n"
          ]
        }
      ],
      "source": [
        "history.agg(F.min(\"nHist\"),F.max(\"nHist\")).show()"
      ]
    },
    {
      "cell_type": "code",
      "execution_count": 30,
      "metadata": {
        "id": "eiN-x03_LLiE"
      },
      "outputs": [],
      "source": [
        "history=history.drop(\"nHist\")"
      ]
    },
    {
      "cell_type": "markdown",
      "metadata": {
        "id": "5i1adfKgLLiE"
      },
      "source": [
        "We look for the person `trajectory`, we will group the data by `userId` and collect all the `location`s."
      ]
    },
    {
      "cell_type": "code",
      "execution_count": 31,
      "metadata": {
        "id": "0RKMEYUZLLiE"
      },
      "outputs": [],
      "source": [
        "trajectory=dataset.select(['userId','location']).groupby('userId').agg(F.collect_list('location').alias('trajectory'))"
      ]
    },
    {
      "cell_type": "code",
      "execution_count": 32,
      "metadata": {
        "id": "VS-vNscLLLiE"
      },
      "outputs": [],
      "source": [
        "lenSet=F.udf(lambda x:len(set(x)),T.IntegerType())"
      ]
    },
    {
      "cell_type": "code",
      "execution_count": 33,
      "metadata": {
        "id": "iWES7ymULLiE"
      },
      "outputs": [],
      "source": [
        "trajectory=trajectory.withColumn(\"nLoc\",lenSet(\"trajectory\"))"
      ]
    },
    {
      "cell_type": "code",
      "execution_count": 34,
      "metadata": {
        "id": "oZs023LNLLiF",
        "colab": {
          "base_uri": "https://localhost:8080/"
        },
        "outputId": "eff29221-d5a3-4544-cd41-7fd83560eea1"
      },
      "outputs": [
        {
          "output_type": "stream",
          "name": "stdout",
          "text": [
            "+---------+\n",
            "|max(nLoc)|\n",
            "+---------+\n",
            "|        1|\n",
            "+---------+\n",
            "\n"
          ]
        }
      ],
      "source": [
        "trajectory.agg(F.max(\"nLoc\")).show()"
      ]
    },
    {
      "cell_type": "markdown",
      "metadata": {
        "id": "a1pN5uAgLLiJ"
      },
      "source": [
        "We have only one location person. So we reduce all the list for the first element."
      ]
    },
    {
      "cell_type": "code",
      "execution_count": 35,
      "metadata": {
        "id": "0twTpOxSLLiJ"
      },
      "outputs": [],
      "source": [
        "trajectory=trajectory.drop(\"nLoc\")"
      ]
    },
    {
      "cell_type": "code",
      "execution_count": 36,
      "metadata": {
        "id": "dfOFs-g4LLiJ"
      },
      "outputs": [],
      "source": [
        "reduction=F.udf(lambda x:x[0])"
      ]
    },
    {
      "cell_type": "code",
      "execution_count": 37,
      "metadata": {
        "id": "K7HB9dblLLiJ"
      },
      "outputs": [],
      "source": [
        "trajectory=trajectory.withColumn(\"location\",reduction(\"trajectory\")).drop(\"trajectory\")"
      ]
    },
    {
      "cell_type": "code",
      "execution_count": 38,
      "metadata": {
        "id": "RDBUU23zLLiJ",
        "colab": {
          "base_uri": "https://localhost:8080/"
        },
        "outputId": "198eafc7-fd4c-444a-c972-676020125130"
      },
      "outputs": [
        {
          "output_type": "stream",
          "name": "stdout",
          "text": [
            "+------+--------------------+\n",
            "|userId|            location|\n",
            "+------+--------------------+\n",
            "|     2|         Raleigh, NC|\n",
            "|     3|         Bozeman, MT|\n",
            "|     4|Baltimore-Columbi...|\n",
            "|     5|Phoenix-Mesa-Scot...|\n",
            "|     6|Houston-The Woodl...|\n",
            "|     7|Seattle-Tacoma-Be...|\n",
            "|     8|    St. Louis, MO-IL|\n",
            "|     9|Boston-Cambridge-...|\n",
            "|    10|          Laurel, MS|\n",
            "|    11|Providence-Warwic...|\n",
            "|    12|Los Angeles-Long ...|\n",
            "|    13|Philadelphia-Camd...|\n",
            "|    14|        Syracuse, NY|\n",
            "|    15|      Morgantown, WV|\n",
            "|    16|   Winston-Salem, NC|\n",
            "|    17|Philadelphia-Camd...|\n",
            "|    18|  Kansas City, MO-KS|\n",
            "|    19|          Dayton, OH|\n",
            "|    20|Miami-Fort Lauder...|\n",
            "|    21|        Kankakee, IL|\n",
            "+------+--------------------+\n",
            "only showing top 20 rows\n",
            "\n"
          ]
        }
      ],
      "source": [
        "trajectory.show()"
      ]
    },
    {
      "cell_type": "code",
      "execution_count": 39,
      "metadata": {
        "id": "XnvwvhXSLLiK",
        "colab": {
          "base_uri": "https://localhost:8080/"
        },
        "outputId": "e97dba91-0757-4c7c-c698-8d74e4b8574f"
      },
      "outputs": [
        {
          "output_type": "execute_result",
          "data": {
            "text/plain": [
              "114"
            ]
          },
          "metadata": {},
          "execution_count": 39
        }
      ],
      "source": [
        "trajectory.select('location').distinct().count()"
      ]
    },
    {
      "cell_type": "markdown",
      "metadata": {
        "id": "QFg_13tmLLiK"
      },
      "source": [
        "We fo the same for `userAgent`."
      ]
    },
    {
      "cell_type": "code",
      "execution_count": 40,
      "metadata": {
        "id": "ZbLLXbDbLLiK"
      },
      "outputs": [],
      "source": [
        "userAgents=dataset.select(['userId','userAgent']).groupby('userId').agg(F.collect_list('userAgent').alias('userAgents'))"
      ]
    },
    {
      "cell_type": "code",
      "execution_count": 41,
      "metadata": {
        "id": "O3deSyg6LLiK"
      },
      "outputs": [],
      "source": [
        "userAgents=userAgents.withColumn(\"nAgent\",lenSet(\"userAgents\"))"
      ]
    },
    {
      "cell_type": "code",
      "execution_count": 42,
      "metadata": {
        "id": "METte0U2LLiK",
        "colab": {
          "base_uri": "https://localhost:8080/"
        },
        "outputId": "a3a42bcb-bce4-447a-fb39-6f775c4a71ba"
      },
      "outputs": [
        {
          "output_type": "stream",
          "name": "stdout",
          "text": [
            "+-----------+\n",
            "|max(nAgent)|\n",
            "+-----------+\n",
            "|          1|\n",
            "+-----------+\n",
            "\n"
          ]
        }
      ],
      "source": [
        "userAgents.agg(F.max(\"nAgent\")).show()"
      ]
    },
    {
      "cell_type": "markdown",
      "metadata": {
        "id": "I-9c5MD_LLiK"
      },
      "source": [
        "We have only one browser person. So we reduce all the list for the first element."
      ]
    },
    {
      "cell_type": "code",
      "execution_count": 43,
      "metadata": {
        "id": "yyg41wQtLLiK"
      },
      "outputs": [],
      "source": [
        "userAgents=userAgents.drop(\"nAgent\")"
      ]
    },
    {
      "cell_type": "code",
      "execution_count": 44,
      "metadata": {
        "id": "LLnQahL3LLiK"
      },
      "outputs": [],
      "source": [
        "userAgents=userAgents.withColumn(\"userAgent\",reduction(\"userAgents\")).drop(\"userAgents\")"
      ]
    },
    {
      "cell_type": "code",
      "execution_count": 45,
      "metadata": {
        "id": "GeNhCGWTLLiL",
        "colab": {
          "base_uri": "https://localhost:8080/"
        },
        "outputId": "87448ebf-b01a-4d29-ba76-f3375496117a"
      },
      "outputs": [
        {
          "output_type": "stream",
          "name": "stdout",
          "text": [
            "+------+--------------------+\n",
            "|userId|           userAgent|\n",
            "+------+--------------------+\n",
            "|     2|\"Mozilla/5.0 (Win...|\n",
            "|     3|\"Mozilla/5.0 (Win...|\n",
            "|     4|Mozilla/5.0 (Wind...|\n",
            "|     5|\"Mozilla/5.0 (Win...|\n",
            "|     6|\"Mozilla/5.0 (Mac...|\n",
            "|     7|Mozilla/5.0 (Wind...|\n",
            "|     8|\"Mozilla/5.0 (Win...|\n",
            "|     9|\"Mozilla/5.0 (Win...|\n",
            "|    10|\"Mozilla/5.0 (Mac...|\n",
            "|    11|Mozilla/5.0 (Wind...|\n",
            "|    12|Mozilla/5.0 (Wind...|\n",
            "|    13|\"Mozilla/5.0 (iPh...|\n",
            "|    14|Mozilla/5.0 (Maci...|\n",
            "|    15|\"Mozilla/5.0 (Win...|\n",
            "|    16|\"Mozilla/5.0 (Win...|\n",
            "|    17|Mozilla/5.0 (Wind...|\n",
            "|    18|\"Mozilla/5.0 (Mac...|\n",
            "|    19|Mozilla/5.0 (Wind...|\n",
            "|    20|\"Mozilla/5.0 (Win...|\n",
            "|    21|Mozilla/5.0 (Wind...|\n",
            "+------+--------------------+\n",
            "only showing top 20 rows\n",
            "\n"
          ]
        }
      ],
      "source": [
        "userAgents.show()"
      ]
    },
    {
      "cell_type": "code",
      "execution_count": 46,
      "metadata": {
        "id": "QecEG88ILLiL"
      },
      "outputs": [],
      "source": [
        "sub=F.udf(lambda x:re.sub('\"',\"\",x),T.StringType())"
      ]
    },
    {
      "cell_type": "code",
      "execution_count": 47,
      "metadata": {
        "id": "SvpoxuJqLLiL"
      },
      "outputs": [],
      "source": [
        "userAgents=userAgents.withColumn(\"userAgent\",sub(\"userAgent\"))"
      ]
    },
    {
      "cell_type": "code",
      "execution_count": 48,
      "metadata": {
        "id": "irK2HH1rLLiL",
        "colab": {
          "base_uri": "https://localhost:8080/"
        },
        "outputId": "ca0f766c-e26a-42c5-c00a-eae1074c6eba"
      },
      "outputs": [
        {
          "output_type": "execute_result",
          "data": {
            "text/plain": [
              "56"
            ]
          },
          "metadata": {},
          "execution_count": 48
        }
      ],
      "source": [
        "userAgents.select('userAgent').distinct().count()"
      ]
    },
    {
      "cell_type": "markdown",
      "metadata": {
        "id": "7QNdS0iBLLiL"
      },
      "source": [
        "We continue with same logic for the `gender`."
      ]
    },
    {
      "cell_type": "code",
      "execution_count": 49,
      "metadata": {
        "id": "68VZ8sUkLLiM",
        "colab": {
          "base_uri": "https://localhost:8080/"
        },
        "outputId": "15bd566d-89dc-48f2-816f-ea8bb55e5074"
      },
      "outputs": [
        {
          "output_type": "execute_result",
          "data": {
            "text/plain": [
              "2"
            ]
          },
          "metadata": {},
          "execution_count": 49
        }
      ],
      "source": [
        "dataset.select('gender').distinct().count()"
      ]
    },
    {
      "cell_type": "code",
      "execution_count": 50,
      "metadata": {
        "id": "2DZibAR_LLiM"
      },
      "outputs": [],
      "source": [
        "genders=dataset.select(['userId','gender']).groupby('userId').agg(F.collect_list('gender').alias('genders'))"
      ]
    },
    {
      "cell_type": "code",
      "execution_count": 51,
      "metadata": {
        "id": "u2oC6zLwLLiM"
      },
      "outputs": [],
      "source": [
        "genders=genders.withColumn(\"nGender\",lenSet(\"genders\"))"
      ]
    },
    {
      "cell_type": "code",
      "execution_count": 52,
      "metadata": {
        "id": "9zQTICtJLLiM",
        "colab": {
          "base_uri": "https://localhost:8080/"
        },
        "outputId": "1432e667-1612-4cfc-b721-0052d1608823"
      },
      "outputs": [
        {
          "output_type": "stream",
          "name": "stdout",
          "text": [
            "+------------+\n",
            "|max(nGender)|\n",
            "+------------+\n",
            "|           1|\n",
            "+------------+\n",
            "\n"
          ]
        }
      ],
      "source": [
        "genders.agg(F.max(\"nGender\")).show()"
      ]
    },
    {
      "cell_type": "code",
      "execution_count": 53,
      "metadata": {
        "id": "FyjJZK1SLLiM"
      },
      "outputs": [],
      "source": [
        "genders=genders.drop(\"nGender\")"
      ]
    },
    {
      "cell_type": "code",
      "execution_count": 54,
      "metadata": {
        "id": "NdsuhbLELLiN"
      },
      "outputs": [],
      "source": [
        "genders=genders.withColumn(\"gender\",reduction(\"genders\")).drop(\"genders\")"
      ]
    },
    {
      "cell_type": "code",
      "execution_count": 55,
      "metadata": {
        "id": "5r8NIT5aLLiN",
        "colab": {
          "base_uri": "https://localhost:8080/"
        },
        "outputId": "8f840335-2f5e-4986-befe-8387ad405380"
      },
      "outputs": [
        {
          "output_type": "stream",
          "name": "stdout",
          "text": [
            "+------+------+\n",
            "|userId|gender|\n",
            "+------+------+\n",
            "|     2|     F|\n",
            "|     3|     M|\n",
            "|     4|     M|\n",
            "|     5|     M|\n",
            "|     6|     M|\n",
            "|     7|     M|\n",
            "|     8|     F|\n",
            "|     9|     M|\n",
            "|    10|     M|\n",
            "|    11|     F|\n",
            "|    12|     F|\n",
            "|    13|     F|\n",
            "|    14|     M|\n",
            "|    15|     M|\n",
            "|    16|     F|\n",
            "|    17|     F|\n",
            "|    18|     M|\n",
            "|    19|     F|\n",
            "|    20|     F|\n",
            "|    21|     M|\n",
            "+------+------+\n",
            "only showing top 20 rows\n",
            "\n"
          ]
        }
      ],
      "source": [
        "genders.show()"
      ]
    },
    {
      "cell_type": "markdown",
      "metadata": {
        "id": "JDcDbN5ELLiN"
      },
      "source": [
        "For the artist and song, we will keep the wole list."
      ]
    },
    {
      "cell_type": "code",
      "execution_count": 56,
      "metadata": {
        "id": "KUd8Oyj-LLiN",
        "colab": {
          "base_uri": "https://localhost:8080/"
        },
        "outputId": "052907ec-5d2b-46f4-be8b-5e9966cf6ce5"
      },
      "outputs": [
        {
          "output_type": "execute_result",
          "data": {
            "text/plain": [
              "17656"
            ]
          },
          "metadata": {},
          "execution_count": 56
        }
      ],
      "source": [
        "dataset.select('artist').distinct().count()"
      ]
    },
    {
      "cell_type": "code",
      "execution_count": 57,
      "metadata": {
        "id": "I4S0DXJKLLiN"
      },
      "outputs": [],
      "source": [
        "artists=dataset.select(['userId','artist']).groupby('userId').agg(F.collect_list('artist').alias('artists'))"
      ]
    },
    {
      "cell_type": "code",
      "execution_count": 58,
      "metadata": {
        "id": "lJjkD_63LLiN"
      },
      "outputs": [],
      "source": [
        "artists=artists.withColumn(\"nArtist\",lenSet(\"artists\"))"
      ]
    },
    {
      "cell_type": "code",
      "execution_count": 59,
      "metadata": {
        "id": "Kq3Qp6IbLLiO",
        "colab": {
          "base_uri": "https://localhost:8080/"
        },
        "outputId": "b48a20fd-e917-41a3-d254-802c82f6ff67"
      },
      "outputs": [
        {
          "output_type": "stream",
          "name": "stdout",
          "text": [
            "+------------+\n",
            "|max(nArtist)|\n",
            "+------------+\n",
            "|        3545|\n",
            "+------------+\n",
            "\n"
          ]
        }
      ],
      "source": [
        "artists.agg(F.max(\"nArtist\")).show()"
      ]
    },
    {
      "cell_type": "code",
      "execution_count": 60,
      "metadata": {
        "id": "8ubbHrxZLLiO"
      },
      "outputs": [],
      "source": [
        "artists=artists.drop(\"nArtist\")"
      ]
    },
    {
      "cell_type": "code",
      "execution_count": 61,
      "metadata": {
        "id": "nTZHgHnVLLiO",
        "colab": {
          "base_uri": "https://localhost:8080/"
        },
        "outputId": "0af18f48-ab96-472f-ec00-8c1536789090"
      },
      "outputs": [
        {
          "output_type": "stream",
          "name": "stdout",
          "text": [
            "+------+--------------------+\n",
            "|userId|             artists|\n",
            "+------+--------------------+\n",
            "|    26|[None, Aerosmith,...|\n",
            "|    29|[None, David Holm...|\n",
            "|    65|[None, None, None...|\n",
            "|    19|[Red, Verona, Sea...|\n",
            "|    54|[A Day To Remembe...|\n",
            "|   112|[None, None, Pear...|\n",
            "|   113|[Paradise Lost, N...|\n",
            "|   155|[None, The Black ...|\n",
            "|    22|[None, None, None...|\n",
            "|     7|[None, Harmonia, ...|\n",
            "|    77|[None, Todd Barry...|\n",
            "|    34|[None, Lucero, Co...|\n",
            "|   126|[None, Jason Reev...|\n",
            "|    50|[None, Owl City, ...|\n",
            "|    94|[None, Phoenix, C...|\n",
            "|   149|[None, Spineshank...|\n",
            "|   110|[None, Maelo Ruiz...|\n",
            "|    57|[Dr Feelgood, Das...|\n",
            "|   136|[The Rolling Ston...|\n",
            "|   144|[None, None, Alis...|\n",
            "+------+--------------------+\n",
            "only showing top 20 rows\n",
            "\n"
          ]
        }
      ],
      "source": [
        "artists.show()"
      ]
    },
    {
      "cell_type": "code",
      "execution_count": 62,
      "metadata": {
        "id": "mCKZqEX6LLiO",
        "colab": {
          "base_uri": "https://localhost:8080/"
        },
        "outputId": "d20d4b33-17d5-4eea-808b-14016367012c"
      },
      "outputs": [
        {
          "output_type": "execute_result",
          "data": {
            "text/plain": [
              "58481"
            ]
          },
          "metadata": {},
          "execution_count": 62
        }
      ],
      "source": [
        "dataset.select('song').distinct().count()"
      ]
    },
    {
      "cell_type": "code",
      "execution_count": 63,
      "metadata": {
        "id": "d9-WM7VxLLiO"
      },
      "outputs": [],
      "source": [
        "songs=dataset.select(['userId','song']).groupby('userId').agg(F.collect_list('song').alias('songs'))"
      ]
    },
    {
      "cell_type": "code",
      "execution_count": 64,
      "metadata": {
        "id": "4g_oT1CDLLiO"
      },
      "outputs": [],
      "source": [
        "songs=songs.withColumn(\"nSong\",lenSet(\"songs\"))"
      ]
    },
    {
      "cell_type": "code",
      "execution_count": 65,
      "metadata": {
        "id": "XgQkRAYOLLiP",
        "colab": {
          "base_uri": "https://localhost:8080/"
        },
        "outputId": "c46d8a85-e460-4a94-b166-9064ac3265dd"
      },
      "outputs": [
        {
          "output_type": "stream",
          "name": "stdout",
          "text": [
            "+----------+\n",
            "|max(nSong)|\n",
            "+----------+\n",
            "|      5947|\n",
            "+----------+\n",
            "\n"
          ]
        }
      ],
      "source": [
        "songs.agg(F.max(\"nSong\")).show()"
      ]
    },
    {
      "cell_type": "code",
      "execution_count": 66,
      "metadata": {
        "id": "T00JjRijLLiP"
      },
      "outputs": [],
      "source": [
        "songs=songs.drop(\"nSong\")"
      ]
    },
    {
      "cell_type": "code",
      "execution_count": 67,
      "metadata": {
        "id": "ey-ZRFkJLLiP",
        "colab": {
          "base_uri": "https://localhost:8080/"
        },
        "outputId": "9c496e7c-0d9e-45ec-fa1d-63ea283914ed"
      },
      "outputs": [
        {
          "output_type": "stream",
          "name": "stdout",
          "text": [
            "+------+--------------------+\n",
            "|userId|               songs|\n",
            "+------+--------------------+\n",
            "|    26|[None, Walk This ...|\n",
            "|    29|[None, Gritty Sha...|\n",
            "|    65|[None, None, None...|\n",
            "|    19|[Ordinary World, ...|\n",
            "|    54|[Since U Been Gon...|\n",
            "|   112|[None, None, Rear...|\n",
            "|   113|[Nuclear Abominat...|\n",
            "|   155|[None, Busted, No...|\n",
            "|    22|[None, None, None...|\n",
            "|     7|[None, Sehr kosmi...|\n",
            "|    77|[None, Sugar Ray ...|\n",
            "|    34|[None, Cass, Spee...|\n",
            "|   126|[None, Wishing We...|\n",
            "|    50|[None, Meteor Sho...|\n",
            "|    94|[None, If It's No...|\n",
            "|   149|[None, Smothered ...|\n",
            "|   110|[None, Te Va A Do...|\n",
            "|    57|[That Ain't The W...|\n",
            "|   136|[Rocks Off, Sweet...|\n",
            "|   144|[None, None, I Gi...|\n",
            "+------+--------------------+\n",
            "only showing top 20 rows\n",
            "\n"
          ]
        }
      ],
      "source": [
        "songs.show()"
      ]
    },
    {
      "cell_type": "markdown",
      "metadata": {
        "id": "fTUyh638LLiP"
      },
      "source": [
        "Now, we combine all together."
      ]
    },
    {
      "cell_type": "code",
      "execution_count": 68,
      "metadata": {
        "id": "JhUG10XyLLiP"
      },
      "outputs": [],
      "source": [
        "del dataset\n",
        "data=history.orderBy('userId')\n",
        "del history\n",
        "\n",
        "for temp in [trajectory,userAgents,genders,artists,songs]:\n",
        "    data=data.join(temp,'userId')\n",
        "\n",
        "del trajectory,userAgents,genders,artists,songs,temp"
      ]
    },
    {
      "cell_type": "markdown",
      "metadata": {
        "id": "JYfiAzNOaJZ8"
      },
      "source": [
        "# EDA:\n",
        "During exploratory data analysis, statistical summaries, and analytical techniques are employed to uncover patterns and insights in the dataset. This includes analyzing the distribution of churned and non-churned users, exploring correlations between different variables, examining temporal trends, and identifying any significant factors related to churn. EDA helps in understanding the characteristics of churned users and provides insights that inform feature engineering and model selection."
      ]
    },
    {
      "cell_type": "code",
      "execution_count": 69,
      "metadata": {
        "id": "feAClsHaLLiP",
        "colab": {
          "base_uri": "https://localhost:8080/"
        },
        "outputId": "bf0c6cbd-68bb-4dd4-91e2-87995c02d8ad"
      },
      "outputs": [
        {
          "output_type": "stream",
          "name": "stdout",
          "text": [
            "-RECORD 0-------------------------\n",
            " userId    | 2                    \n",
            " history   | [NextSong, NextSo... \n",
            " churn     | 0                    \n",
            " location  | Raleigh, NC          \n",
            " userAgent | Mozilla/5.0 (Wind... \n",
            " gender    | F                    \n",
            " artists   | [The Offspring, S... \n",
            " songs     | [Hit That, Enjoy ... \n",
            "-RECORD 1-------------------------\n",
            " userId    | 3                    \n",
            " history   | [NextSong, NextSo... \n",
            " churn     | 1                    \n",
            " location  | Bozeman, MT          \n",
            " userAgent | Mozilla/5.0 (Wind... \n",
            " gender    | M                    \n",
            " artists   | [Kollaa KestÃÂ¤Ã... \n",
            " songs     | [Musti Sotakoira ... \n",
            "-RECORD 2-------------------------\n",
            " userId    | 4                    \n",
            " history   | [NextSong, NextSo... \n",
            " churn     | 0                    \n",
            " location  | Baltimore-Columbi... \n",
            " userAgent | Mozilla/5.0 (Wind... \n",
            " gender    | M                    \n",
            " artists   | [The J.B.'s, La M... \n",
            " songs     | [Pass The Peas, V... \n",
            "-RECORD 3-------------------------\n",
            " userId    | 5                    \n",
            " history   | [Home, NextSong, ... \n",
            " churn     | 0                    \n",
            " location  | Phoenix-Mesa-Scot... \n",
            " userAgent | Mozilla/5.0 (Wind... \n",
            " gender    | M                    \n",
            " artists   | [None, Ryan Adams... \n",
            " songs     | [None, The Hardes... \n",
            "-RECORD 4-------------------------\n",
            " userId    | 6                    \n",
            " history   | [NextSong, NextSo... \n",
            " churn     | 0                    \n",
            " location  | Houston-The Woodl... \n",
            " userAgent | Mozilla/5.0 (Maci... \n",
            " gender    | M                    \n",
            " artists   | [Cobra Starship F... \n",
            " songs     | [Good Girls Go Ba... \n",
            "-RECORD 5-------------------------\n",
            " userId    | 7                    \n",
            " history   | [NextSong, NextSo... \n",
            " churn     | 0                    \n",
            " location  | Seattle-Tacoma-Be... \n",
            " userAgent | Mozilla/5.0 (Wind... \n",
            " gender    | M                    \n",
            " artists   | [None, Harmonia, ... \n",
            " songs     | [None, Sehr kosmi... \n",
            "-RECORD 6-------------------------\n",
            " userId    | 8                    \n",
            " history   | [Home, NextSong, ... \n",
            " churn     | 0                    \n",
            " location  | St. Louis, MO-IL     \n",
            " userAgent | Mozilla/5.0 (Wind... \n",
            " gender    | F                    \n",
            " artists   | [Wiz Khalifa, Sal... \n",
            " songs     | [Ink My Whole Bod... \n",
            "-RECORD 7-------------------------\n",
            " userId    | 9                    \n",
            " history   | [Home, NextSong, ... \n",
            " churn     | 0                    \n",
            " location  | Boston-Cambridge-... \n",
            " userAgent | Mozilla/5.0 (Wind... \n",
            " gender    | M                    \n",
            " artists   | [None, Eminem, Ju... \n",
            " songs     | [None, Without Me... \n",
            "-RECORD 8-------------------------\n",
            " userId    | 10                   \n",
            " history   | [NextSong, NextSo... \n",
            " churn     | 0                    \n",
            " location  | Laurel, MS           \n",
            " userAgent | Mozilla/5.0 (Maci... \n",
            " gender    | M                    \n",
            " artists   | [Alexis & Fido, C... \n",
            " songs     | [Bartender, Suite... \n",
            "-RECORD 9-------------------------\n",
            " userId    | 11                   \n",
            " history   | [NextSong, Roll A... \n",
            " churn     | 0                    \n",
            " location  | Providence-Warwic... \n",
            " userAgent | Mozilla/5.0 (Wind... \n",
            " gender    | F                    \n",
            " artists   | [Carly Simon, Non... \n",
            " songs     | [He Likes To Roll... \n",
            "-RECORD 10------------------------\n",
            " userId    | 12                   \n",
            " history   | [NextSong, NextSo... \n",
            " churn     | 1                    \n",
            " location  | Los Angeles-Long ... \n",
            " userAgent | Mozilla/5.0 (Wind... \n",
            " gender    | F                    \n",
            " artists   | [Muse, Timbiriche... \n",
            " songs     | [Supermassive Bla... \n",
            "-RECORD 11------------------------\n",
            " userId    | 13                   \n",
            " history   | [NextSong, Settin... \n",
            " churn     | 0                    \n",
            " location  | Philadelphia-Camd... \n",
            " userAgent | Mozilla/5.0 (iPho... \n",
            " gender    | F                    \n",
            " artists   | [The Kills, None,... \n",
            " songs     | [Getting Down, No... \n",
            "-RECORD 12------------------------\n",
            " userId    | 14                   \n",
            " history   | [NextSong, Downgr... \n",
            " churn     | 0                    \n",
            " location  | Syracuse, NY         \n",
            " userAgent | Mozilla/5.0 (Maci... \n",
            " gender    | M                    \n",
            " artists   | [The Jacksons, Me... \n",
            " songs     | [Blame It On The ... \n",
            "-RECORD 13------------------------\n",
            " userId    | 15                   \n",
            " history   | [NextSong, NextSo... \n",
            " churn     | 0                    \n",
            " location  | Morgantown, WV       \n",
            " userAgent | Mozilla/5.0 (Wind... \n",
            " gender    | M                    \n",
            " artists   | [None, Cradle Of ... \n",
            " songs     | [None, Better To ... \n",
            "-RECORD 14------------------------\n",
            " userId    | 16                   \n",
            " history   | [NextSong, Add to... \n",
            " churn     | 0                    \n",
            " location  | Winston-Salem, NC    \n",
            " userAgent | Mozilla/5.0 (Wind... \n",
            " gender    | F                    \n",
            " artists   | [Freddie King, No... \n",
            " songs     | [Just A Little Bi... \n",
            "-RECORD 15------------------------\n",
            " userId    | 17                   \n",
            " history   | [NextSong, NextSo... \n",
            " churn     | 1                    \n",
            " location  | Philadelphia-Camd... \n",
            " userAgent | Mozilla/5.0 (Wind... \n",
            " gender    | F                    \n",
            " artists   | [Rise Against, Bo... \n",
            " songs     | [Savior, Skinny L... \n",
            "-RECORD 16------------------------\n",
            " userId    | 18                   \n",
            " history   | [Home, NextSong, ... \n",
            " churn     | 1                    \n",
            " location  | Kansas City, MO-KS   \n",
            " userAgent | Mozilla/5.0 (Maci... \n",
            " gender    | M                    \n",
            " artists   | [None, Mike And T... \n",
            " songs     | [None, A Beggar O... \n",
            "-RECORD 17------------------------\n",
            " userId    | 19                   \n",
            " history   | [NextSong, NextSo... \n",
            " churn     | 0                    \n",
            " location  | Dayton, OH           \n",
            " userAgent | Mozilla/5.0 (Wind... \n",
            " gender    | F                    \n",
            " artists   | [Red, Verona, Sea... \n",
            " songs     | [Ordinary World, ... \n",
            "-RECORD 18------------------------\n",
            " userId    | 20                   \n",
            " history   | [NextSong, NextSo... \n",
            " churn     | 0                    \n",
            " location  | Miami-Fort Lauder... \n",
            " userAgent | Mozilla/5.0 (Wind... \n",
            " gender    | F                    \n",
            " artists   | [Dixie Chicks, Di... \n",
            " songs     | [There's Your Tro... \n",
            "-RECORD 19------------------------\n",
            " userId    | 21                   \n",
            " history   | [Home, NextSong, ... \n",
            " churn     | 0                    \n",
            " location  | Kankakee, IL         \n",
            " userAgent | Mozilla/5.0 (Wind... \n",
            " gender    | M                    \n",
            " artists   | [None, Lonnie Gor... \n",
            " songs     | [None, Catch You ... \n",
            "only showing top 20 rows\n",
            "\n"
          ]
        }
      ],
      "source": [
        "data.show(vertical=True)"
      ]
    },
    {
      "cell_type": "code",
      "execution_count": 70,
      "metadata": {
        "id": "vQ5NwwZRLLiQ",
        "colab": {
          "base_uri": "https://localhost:8080/",
          "height": 444
        },
        "outputId": "726c37b6-94b2-40c3-c4a5-ad273173b3dd"
      },
      "outputs": [
        {
          "output_type": "display_data",
          "data": {
            "text/plain": [
              "<Figure size 640x480 with 1 Axes>"
            ],
            "image/png": "[encoded data removed]"
          },
          "metadata": {}
        }
      ],
      "source": [
        "data.groupby(\"churn\").count().toPandas().set_index(\"churn\").plot.bar();"
      ]
    },
    {
      "cell_type": "markdown",
      "metadata": {
        "id": "WkFTxZy_HSZB"
      },
      "source": [
        "Users who do not churn are three times more numerous than those who do."
      ]
    },
    {
      "cell_type": "code",
      "execution_count": 71,
      "metadata": {
        "id": "FmjH29OqLLiQ",
        "colab": {
          "base_uri": "https://localhost:8080/",
          "height": 447
        },
        "outputId": "0ae754c2-2d97-4606-9646-1cb35e583baf"
      },
      "outputs": [
        {
          "output_type": "display_data",
          "data": {
            "text/plain": [
              "<Figure size 640x480 with 1 Axes>"
            ],
            "image/png": "[encoded data removed]"
          },
          "metadata": {}
        }
      ],
      "source": [
        "data.groupby(\"gender\").count().toPandas().set_index(\"gender\").plot.bar();"
      ]
    },
    {
      "cell_type": "markdown",
      "metadata": {
        "id": "kdHBc9NdJJCJ"
      },
      "source": [
        "We have almost an equal number of female and male users."
      ]
    },
    {
      "cell_type": "code",
      "execution_count": 72,
      "metadata": {
        "id": "PlUiNTMaLLiQ",
        "colab": {
          "base_uri": "https://localhost:8080/"
        },
        "outputId": "0d7546d1-cb71-4563-f859-835c230d6c69"
      },
      "outputs": [
        {
          "output_type": "stream",
          "name": "stdout",
          "text": [
            "+-----+------+-----+\n",
            "|churn|gender|count|\n",
            "+-----+------+-----+\n",
            "|    1|     F|   20|\n",
            "|    0|     M|   89|\n",
            "|    1|     M|   32|\n",
            "|    0|     F|   84|\n",
            "+-----+------+-----+\n",
            "\n"
          ]
        }
      ],
      "source": [
        "data.groupby([\"churn\",\"gender\"]).count().show()"
      ]
    },
    {
      "cell_type": "code",
      "execution_count": 73,
      "metadata": {
        "id": "bj7pkz7mLLiQ",
        "colab": {
          "base_uri": "https://localhost:8080/"
        },
        "outputId": "cef59613-23d5-4f4b-87d9-dde1d042a42c"
      },
      "outputs": [
        {
          "output_type": "stream",
          "name": "stdout",
          "text": [
            "+--------------------+-----+\n",
            "|            location|count|\n",
            "+--------------------+-----+\n",
            "|     Gainesville, FL|    1|\n",
            "|Atlantic City-Ham...|    1|\n",
            "|Deltona-Daytona B...|    1|\n",
            "|San Diego-Carlsba...|    3|\n",
            "|Cleveland-Elyria, OH|    1|\n",
            "|Kingsport-Bristol...|    1|\n",
            "|New Haven-Milford...|    3|\n",
            "|Birmingham-Hoover...|    1|\n",
            "|  Corpus Christi, TX|    1|\n",
            "|         Dubuque, IA|    1|\n",
            "|Las Vegas-Henders...|    3|\n",
            "|Indianapolis-Carm...|    2|\n",
            "|Seattle-Tacoma-Be...|    2|\n",
            "|          Albany, OR|    1|\n",
            "|   Winston-Salem, NC|    1|\n",
            "|Los Angeles-Long ...|   16|\n",
            "|     Bakersfield, CA|    1|\n",
            "|Minneapolis-St. P...|    2|\n",
            "|San Francisco-Oak...|    2|\n",
            "|Phoenix-Mesa-Scot...|    7|\n",
            "+--------------------+-----+\n",
            "only showing top 20 rows\n",
            "\n"
          ]
        }
      ],
      "source": [
        "data.groupby(\"location\").count().show()"
      ]
    },
    {
      "cell_type": "code",
      "execution_count": 74,
      "metadata": {
        "id": "MPgVlEDALLiQ",
        "colab": {
          "base_uri": "https://localhost:8080/"
        },
        "outputId": "7c9f33b3-5885-46fb-bbb3-966562ed8f3d"
      },
      "outputs": [
        {
          "output_type": "stream",
          "name": "stdout",
          "text": [
            "+-----+--------------------+-----+\n",
            "|churn|            location|count|\n",
            "+-----+--------------------+-----+\n",
            "|    0|Seattle-Tacoma-Be...|    2|\n",
            "|    0|    St. Louis, MO-IL|    5|\n",
            "|    1|         Bozeman, MT|    1|\n",
            "|    1|          Albany, OR|    1|\n",
            "|    0|      Morgantown, WV|    1|\n",
            "|    1|           Flint, MI|    2|\n",
            "|    0|San Diego-Carlsba...|    2|\n",
            "|    0|       Fairbanks, AK|    1|\n",
            "|    0|San Francisco-Oak...|    1|\n",
            "|    0|Minneapolis-St. P...|    2|\n",
            "|    0|Los Angeles-Long ...|   13|\n",
            "|    0|Virginia Beach-No...|    1|\n",
            "|    0|        Syracuse, NY|    2|\n",
            "|    0|New York-Newark-J...|   10|\n",
            "|    0|Riverside-San Ber...|    1|\n",
            "|    0|      Montgomery, AL|    1|\n",
            "|    1|Houston-The Woodl...|    1|\n",
            "|    0|Hagerstown-Martin...|    1|\n",
            "|    1|Albany-Schenectad...|    1|\n",
            "|    0|Kingsport-Bristol...|    1|\n",
            "+-----+--------------------+-----+\n",
            "only showing top 20 rows\n",
            "\n"
          ]
        }
      ],
      "source": [
        "data.groupby([\"churn\",\"location\"]).count().show()"
      ]
    },
    {
      "cell_type": "code",
      "execution_count": 75,
      "metadata": {
        "id": "l2fW5RrRLLiQ",
        "colab": {
          "base_uri": "https://localhost:8080/"
        },
        "outputId": "a8066620-9a23-42a4-8d34-898a18b3ba50"
      },
      "outputs": [
        {
          "output_type": "stream",
          "name": "stdout",
          "text": [
            "+--------------------+-----+\n",
            "|           userAgent|count|\n",
            "+--------------------+-----+\n",
            "|Mozilla/5.0 (Wind...|   24|\n",
            "|Mozilla/5.0 (Wind...|    7|\n",
            "|Mozilla/5.0 (Maci...|    1|\n",
            "|Mozilla/5.0 (X11;...|    1|\n",
            "|Mozilla/5.0 (Maci...|    2|\n",
            "|Mozilla/5.0 (X11;...|    4|\n",
            "|Mozilla/5.0 (Wind...|    1|\n",
            "|Mozilla/5.0 (Maci...|    1|\n",
            "|Mozilla/5.0 (Maci...|   12|\n",
            "|Mozilla/5.0 (Wind...|    1|\n",
            "|Mozilla/5.0 (Wind...|    4|\n",
            "|Mozilla/5.0 (comp...|    3|\n",
            "|Mozilla/5.0 (Maci...|    9|\n",
            "|Mozilla/5.0 (Wind...|    4|\n",
            "|Mozilla/5.0 (Wind...|   18|\n",
            "|Mozilla/5.0 (Maci...|    1|\n",
            "|Mozilla/5.0 (X11;...|    2|\n",
            "|Mozilla/5.0 (comp...|    1|\n",
            "|Mozilla/5.0 (comp...|    1|\n",
            "|Mozilla/5.0 (Maci...|    1|\n",
            "+--------------------+-----+\n",
            "only showing top 20 rows\n",
            "\n"
          ]
        }
      ],
      "source": [
        "data.groupby(\"userAgent\").count().show()"
      ]
    },
    {
      "cell_type": "code",
      "execution_count": 76,
      "metadata": {
        "id": "Uy8AnUF9LLiR",
        "colab": {
          "base_uri": "https://localhost:8080/"
        },
        "outputId": "f43323b1-47f1-4607-bb9c-992e2aa47921"
      },
      "outputs": [
        {
          "output_type": "stream",
          "name": "stdout",
          "text": [
            "+-----+--------------------+-----+\n",
            "|churn|           userAgent|count|\n",
            "+-----+--------------------+-----+\n",
            "|    1|Mozilla/5.0 (Maci...|    1|\n",
            "|    0|Mozilla/5.0 (Wind...|    1|\n",
            "|    0|Mozilla/5.0 (iPho...|    4|\n",
            "|    0|Mozilla/5.0 (X11;...|    1|\n",
            "|    0|Mozilla/5.0 (Maci...|    1|\n",
            "|    1|Mozilla/5.0 (Wind...|    1|\n",
            "|    0|Mozilla/5.0 (Maci...|    1|\n",
            "|    0|Mozilla/5.0 (Wind...|    5|\n",
            "|    0|Mozilla/5.0 (X11;...|    1|\n",
            "|    0|Mozilla/5.0 (Wind...|    2|\n",
            "|    0|Mozilla/5.0 (Wind...|    1|\n",
            "|    1|Mozilla/5.0 (Maci...|    1|\n",
            "|    0|Mozilla/5.0 (Maci...|    1|\n",
            "|    1|Mozilla/5.0 (Wind...|    1|\n",
            "|    0|Mozilla/5.0 (Maci...|    1|\n",
            "|    0|Mozilla/5.0 (Wind...|    3|\n",
            "|    0|Mozilla/5.0 (Maci...|    9|\n",
            "|    0|Mozilla/5.0 (Wind...|    9|\n",
            "|    0|Mozilla/5.0 (comp...|    3|\n",
            "|    0|Mozilla/5.0 (Wind...|    2|\n",
            "+-----+--------------------+-----+\n",
            "only showing top 20 rows\n",
            "\n"
          ]
        }
      ],
      "source": [
        "data.groupby([\"churn\",\"userAgent\"]).count().show()"
      ]
    },
    {
      "cell_type": "code",
      "execution_count": 77,
      "metadata": {
        "id": "tjgCgNX8LLiR"
      },
      "outputs": [],
      "source": [
        "@F.udf(returnType=T.ArrayType(T.StringType()))\n",
        "def remove(x):\n",
        "\n",
        "    while True:\n",
        "        try:\n",
        "            x.remove('Cancellation Confirmation')\n",
        "        except ValueError:\n",
        "            break\n",
        "\n",
        "    return x"
      ]
    },
    {
      "cell_type": "code",
      "execution_count": 78,
      "metadata": {
        "id": "d8XRPpLDLLiR"
      },
      "outputs": [],
      "source": [
        "data=data.withColumn(\"history\",remove(\"history\"))"
      ]
    },
    {
      "cell_type": "code",
      "execution_count": 79,
      "metadata": {
        "id": "2Vh78kHELLiR",
        "colab": {
          "base_uri": "https://localhost:8080/"
        },
        "outputId": "f34cfc2a-43c0-4431-e628-3e9e59ca438a"
      },
      "outputs": [
        {
          "output_type": "stream",
          "name": "stdout",
          "text": [
            "-RECORD 0-------------------------\n",
            " userId    | 2                    \n",
            " history   | [NextSong, NextSo... \n",
            " churn     | 0                    \n",
            " location  | Raleigh, NC          \n",
            " userAgent | Mozilla/5.0 (Wind... \n",
            " gender    | F                    \n",
            " artists   | [The Offspring, S... \n",
            " songs     | [Hit That, Enjoy ... \n",
            "-RECORD 1-------------------------\n",
            " userId    | 3                    \n",
            " history   | [NextSong, NextSo... \n",
            " churn     | 1                    \n",
            " location  | Bozeman, MT          \n",
            " userAgent | Mozilla/5.0 (Wind... \n",
            " gender    | M                    \n",
            " artists   | [Kollaa KestÃÂ¤Ã... \n",
            " songs     | [Musti Sotakoira ... \n",
            "-RECORD 2-------------------------\n",
            " userId    | 4                    \n",
            " history   | [NextSong, NextSo... \n",
            " churn     | 0                    \n",
            " location  | Baltimore-Columbi... \n",
            " userAgent | Mozilla/5.0 (Wind... \n",
            " gender    | M                    \n",
            " artists   | [The J.B.'s, La M... \n",
            " songs     | [Pass The Peas, V... \n",
            "only showing top 3 rows\n",
            "\n"
          ]
        }
      ],
      "source": [
        "data.show(vertical=True,n=3)"
      ]
    },
    {
      "cell_type": "markdown",
      "metadata": {
        "id": "2oTYtqcyLLiR"
      },
      "source": [
        "# Modeling\n",
        "We split the full dataset into train, test, and validation sets. Test out several of the machine learning methods you learned. Evaluate the accuracy of the various models, tuning parameters as necessary. Determine your winning model based on test accuracy and report results on the validation set. Since the churned users are a fairly small subset, I suggest using F1 score as the metric to optimize."
      ]
    },
    {
      "cell_type": "code",
      "execution_count": 80,
      "metadata": {
        "id": "IXeXN40vLLiS"
      },
      "outputs": [],
      "source": [
        "userAgentW = ft.Tokenizer(inputCol=\"userAgent\", outputCol=\"userAgentWords\")\n",
        "cvUserAgent = ft.CountVectorizer(inputCol=\"userAgentWords\",outputCol=\"userAgentCV\",vocabSize=35)\n",
        "idfUserAgent = ft.IDF(inputCol=\"userAgentCV\",outputCol=\"userAgentIDF\")\n",
        "StandUserAgent = ft.StandardScaler(withMean=True, withStd = True, inputCol = \"userAgentIDF\", outputCol = \"userAgentSS\")"
      ]
    },
    {
      "cell_type": "code",
      "execution_count": 81,
      "metadata": {
        "id": "BeH3FZFDLLiS"
      },
      "outputs": [],
      "source": [
        "cvArtist = ft.CountVectorizer(inputCol=\"artists\", outputCol=\"artistCV\",vocabSize=100)\n",
        "idfArtist = ft.IDF(inputCol=\"artistCV\", outputCol=\"artistIDF\")\n",
        "StandArtist = ft.StandardScaler(withMean=True, withStd = True, inputCol = \"artistIDF\", outputCol = \"artistSS\")"
      ]
    },
    {
      "cell_type": "code",
      "execution_count": 82,
      "metadata": {
        "id": "5k2W2GARLLiS"
      },
      "outputs": [],
      "source": [
        "cvSong = ft.CountVectorizer(inputCol=\"songs\", outputCol=\"songCV\",vocabSize=500)\n",
        "idfSong = ft.IDF(inputCol=\"songCV\", outputCol=\"songIDF\")\n",
        "StandSong = ft.StandardScaler(withMean=True, withStd = True, inputCol = \"songIDF\", outputCol = \"songSS\")"
      ]
    },
    {
      "cell_type": "code",
      "execution_count": 83,
      "metadata": {
        "id": "N2KGg_bpLLiS"
      },
      "outputs": [],
      "source": [
        "cvHist = ft.CountVectorizer(inputCol=\"history\", outputCol=\"HistoryCV\")\n",
        "idfHist = ft.IDF(inputCol=\"HistoryCV\", outputCol=\"HistoryIDF\")\n",
        "StandHist = ft.StandardScaler(withMean=True, withStd = True, inputCol = \"HistoryIDF\", outputCol = \"HistorySS\")"
      ]
    },
    {
      "cell_type": "code",
      "execution_count": 84,
      "metadata": {
        "id": "23_S5bnULLiS"
      },
      "outputs": [],
      "source": [
        "stGender = ft.StringIndexer(inputCol=\"gender\", outputCol=\"indexGender\", handleInvalid=\"keep\")\n",
        "HotGender = ft.OneHotEncoder(inputCol=\"indexGender\", outputCol=\"hotGender\", handleInvalid=\"keep\")"
      ]
    },
    {
      "cell_type": "code",
      "execution_count": 85,
      "metadata": {
        "id": "EpBIia0zLLiT"
      },
      "outputs": [],
      "source": [
        "stLoc = ft.StringIndexer(inputCol=\"location\", outputCol=\"indexLocation\", handleInvalid=\"keep\")\n",
        "HotLoc = ft.OneHotEncoder(inputCol=\"indexLocation\", outputCol=\"hotLocation\", handleInvalid=\"keep\")"
      ]
    },
    {
      "cell_type": "code",
      "execution_count": 86,
      "metadata": {
        "id": "LxRj0l0yLLiT"
      },
      "outputs": [],
      "source": [
        "vectAssembler = ft.VectorAssembler(inputCols=[\"userAgentSS\", \"artistSS\", \"songSS\",\n",
        "                                              \"HistorySS\", \"hotGender\",\"hotLocation\"],\n",
        "                              outputCol=\"vectFeatures\")\n",
        "Stand = ft.StandardScaler(withMean=True, withStd = True, inputCol = \"vectFeatures\", outputCol = \"features\")"
      ]
    },
    {
      "cell_type": "code",
      "execution_count": 87,
      "metadata": {
        "id": "1WSknSYmLLiT"
      },
      "outputs": [],
      "source": [
        "features_pipe= Pipeline(stages=[userAgentW, cvUserAgent, idfUserAgent, StandUserAgent,\n",
        "                                cvArtist, idfArtist, StandArtist,\n",
        "                                cvSong, idfSong, StandSong,\n",
        "                                cvHist, idfHist, StandHist,\n",
        "                                stGender, HotGender,\n",
        "                                stLoc, HotLoc,\n",
        "                                vectAssembler, Stand]\n",
        "                        )"
      ]
    },
    {
      "cell_type": "code",
      "execution_count": 88,
      "metadata": {
        "id": "EFzKQRlkLLiT"
      },
      "outputs": [],
      "source": [
        "train, test = data.randomSplit([0.8,0.2])"
      ]
    },
    {
      "cell_type": "code",
      "execution_count": 89,
      "metadata": {
        "id": "K1GPgJIBo3G-"
      },
      "outputs": [],
      "source": [
        "del data"
      ]
    },
    {
      "cell_type": "code",
      "execution_count": 90,
      "metadata": {
        "id": "G8_SJ5FKTafV"
      },
      "outputs": [],
      "source": [
        "features_trained = features_pipe.fit(train)"
      ]
    },
    {
      "cell_type": "code",
      "execution_count": 91,
      "metadata": {
        "id": "7sc7GQtyUMGZ"
      },
      "outputs": [],
      "source": [
        "features_train = features_trained.transform(train)"
      ]
    },
    {
      "cell_type": "code",
      "execution_count": 92,
      "metadata": {
        "id": "M9aSIYoe8zvE"
      },
      "outputs": [],
      "source": [
        "del train"
      ]
    },
    {
      "cell_type": "code",
      "execution_count": 93,
      "metadata": {
        "id": "w4XiSwV28vIR"
      },
      "outputs": [],
      "source": [
        "features_test = features_trained.transform(test)"
      ]
    },
    {
      "cell_type": "code",
      "execution_count": 94,
      "metadata": {
        "id": "fc5RHVgm81vx"
      },
      "outputs": [],
      "source": [
        "del test"
      ]
    },
    {
      "cell_type": "code",
      "execution_count": 95,
      "metadata": {
        "id": "EDiS4SBRYN1t",
        "colab": {
          "base_uri": "https://localhost:8080/"
        },
        "outputId": "c011b4df-6928-42a9-9ac6-83e5c83c5d84"
      },
      "outputs": [
        {
          "output_type": "stream",
          "name": "stdout",
          "text": [
            "-RECORD 0------------------------------\n",
            " userId         | 3                    \n",
            " history        | [NextSong, NextSo... \n",
            " churn          | 1                    \n",
            " location       | Bozeman, MT          \n",
            " userAgent      | Mozilla/5.0 (Wind... \n",
            " gender         | M                    \n",
            " artists        | [Kollaa KestÃÂ¤Ã... \n",
            " songs          | [Musti Sotakoira ... \n",
            " userAgentWords | [mozilla/5.0, (wi... \n",
            " userAgentCV    | (35,[0,1,2,3,4,6,... \n",
            " userAgentIDF   | (35,[0,1,2,3,4,6,... \n",
            " userAgentSS    | [0.0,0.3300421365... \n",
            " artistCV       | (100,[0,1,3,4,6,9... \n",
            " artistIDF      | (100,[0,1,3,4,6,9... \n",
            " artistSS       | [-0.7947608637580... \n",
            " songCV         | (500,[0,1,5,7,9,2... \n",
            " songIDF        | (500,[0,1,5,7,9,2... \n",
            " songSS         | [-0.7947608637580... \n",
            " HistoryCV      | (18,[0,1,2,3,4,5,... \n",
            " HistoryIDF     | (18,[0,1,2,3,4,5,... \n",
            " HistorySS      | [0.0,-0.630439141... \n",
            " indexGender    | 0.0                  \n",
            " hotGender      | (3,[0],[1.0])        \n",
            " indexLocation  | 105.0                \n",
            " hotLocation    | (106,[105],[1.0])    \n",
            " vectFeatures   | [0.0,0.3300421365... \n",
            " features       | [0.0,0.3300421365... \n",
            "-RECORD 1------------------------------\n",
            " userId         | 5                    \n",
            " history        | [Home, NextSong, ... \n",
            " churn          | 0                    \n",
            " location       | Phoenix-Mesa-Scot... \n",
            " userAgent      | Mozilla/5.0 (Wind... \n",
            " gender         | M                    \n",
            " artists        | [None, Ryan Adams... \n",
            " songs          | [None, The Hardes... \n",
            " userAgentWords | [mozilla/5.0, (wi... \n",
            " userAgentCV    | (35,[0,1,2,3,4,6,... \n",
            " userAgentIDF   | (35,[0,1,2,3,4,6,... \n",
            " userAgentSS    | [0.0,0.3300421365... \n",
            " artistCV       | (100,[0,1,3,4,10,... \n",
            " artistIDF      | (100,[0,1,3,4,10,... \n",
            " artistSS       | [-0.7212294538826... \n",
            " songCV         | (500,[0,1,3,5,7,8... \n",
            " songIDF        | (500,[0,1,3,5,7,8... \n",
            " songSS         | [-0.7212294538826... \n",
            " HistoryCV      | (18,[0,1,2,3,4,5,... \n",
            " HistoryIDF     | (18,[0,1,2,3,4,5,... \n",
            " HistorySS      | [0.0,-0.675293409... \n",
            " indexGender    | 0.0                  \n",
            " hotGender      | (3,[0],[1.0])        \n",
            " indexLocation  | 3.0                  \n",
            " hotLocation    | (106,[3],[1.0])      \n",
            " vectFeatures   | [0.0,0.3300421365... \n",
            " features       | [0.0,0.3300421365... \n",
            "-RECORD 2------------------------------\n",
            " userId         | 10                   \n",
            " history        | [NextSong, NextSo... \n",
            " churn          | 0                    \n",
            " location       | Laurel, MS           \n",
            " userAgent      | Mozilla/5.0 (Maci... \n",
            " gender         | M                    \n",
            " artists        | [Alexis & Fido, C... \n",
            " songs          | [Bartender, Suite... \n",
            " userAgentWords | [mozilla/5.0, (ma... \n",
            " userAgentCV    | (35,[0,1,2,3,5,6,... \n",
            " userAgentIDF   | (35,[0,1,2,3,5,6,... \n",
            " userAgentSS    | [0.0,0.3300421365... \n",
            " artistCV       | (100,[0,1,2,4,5,6... \n",
            " artistIDF      | (100,[0,1,2,4,5,6... \n",
            " artistSS       | [-0.4400799455355... \n",
            " songCV         | (500,[0,1,2,3,4,5... \n",
            " songIDF        | (500,[0,1,2,3,4,5... \n",
            " songSS         | [-0.4400799455355... \n",
            " HistoryCV      | (18,[0,1,2,3,4,5,... \n",
            " HistoryIDF     | (18,[0,1,2,3,4,5,... \n",
            " HistorySS      | [0.0,-0.286556415... \n",
            " indexGender    | 0.0                  \n",
            " hotGender      | (3,[0],[1.0])        \n",
            " indexLocation  | 105.0                \n",
            " hotLocation    | (106,[105],[1.0])    \n",
            " vectFeatures   | [0.0,0.3300421365... \n",
            " features       | [0.0,0.3300421365... \n",
            "only showing top 3 rows\n",
            "\n"
          ]
        }
      ],
      "source": [
        "features_test.show(vertical=True,n=3)"
      ]
    },
    {
      "cell_type": "markdown",
      "metadata": {
        "id": "pnjLSU4jaUaR"
      },
      "source": [
        "# Metrics with justification:\n",
        "The evaluation metrics used to assess the performance of the churn prediction model may include accuracy, precision, recall, F1 score, and area under the receiver operating characteristic curve (AUC-ROC). These metrics are chosen because they provide a comprehensive understanding of the model's performance in terms of correctly predicting churned and non-churned users. Accuracy measures the overall correctness of the predictions, precision measures the proportion of correctly predicted churned users, recall measures the proportion of actual churned users correctly predicted, F1 score provides a balanced measure of precision and recall, and AUC-ROC assesses the model's ability to discriminate between churned and non-churned users.\n",
        "\n",
        "But, we will use AUC-ROC."
      ]
    },
    {
      "cell_type": "code",
      "execution_count": 96,
      "metadata": {
        "id": "xiYMEo4tLLiT"
      },
      "outputs": [],
      "source": [
        "evaluator= ev.BinaryClassificationEvaluator(labelCol=\"churn\") # ev.MulticlassClassificationEvaluator(labelCol=\"churn\",metricName=\"f1\") #"
      ]
    },
    {
      "cell_type": "code",
      "execution_count": 97,
      "metadata": {
        "id": "znXgduCmM5a7"
      },
      "outputs": [],
      "source": [
        "model_list=[cl.LogisticRegression,\n",
        "            cl.LinearSVC,\n",
        "            cl.DecisionTreeClassifier,\n",
        "            cl.RandomForestClassifier,\n",
        "            cl.GBTClassifier]\\\n",
        "            +([cl.FMClassifier] if pyspark.__version__>=\"3.0.0\" else [])"
      ]
    },
    {
      "cell_type": "code",
      "execution_count": 98,
      "metadata": {
        "id": "Yqo716PVNiQE",
        "colab": {
          "base_uri": "https://localhost:8080/"
        },
        "outputId": "5722ad7c-daef-43d0-d67f-4c9f0a6d3397"
      },
      "outputs": [
        {
          "output_type": "stream",
          "name": "stdout",
          "text": [
            "LogisticRegression : 1.0\n",
            "LinearSVC : 1.0\n",
            "DecisionTreeClassifier : 1.0\n",
            "FMClassifier : 0.5833333333333333\n",
            "RandomForestClassifier : 0.8500000000000001\n",
            "GBTClassifier : 1.0\n"
          ]
        }
      ],
      "source": [
        "bestModel=None\n",
        "bestScore=0\n",
        "tab=list()\n",
        "for model in model_list:\n",
        "   name=model.__name__\n",
        "   print(name,end=\" : \")\n",
        "   tab.append({\"name\":name})\n",
        "   model_trained=model(labelCol=\"churn\").fit(features_train)\n",
        "   pred=model_trained.transform(features_test)\n",
        "   score=evaluator.evaluate(pred)\n",
        "   print(score)\n",
        "   tab[-1][\"score\"]=score\n",
        "   if bestScore<score:\n",
        "    bestScore=score\n",
        "    bestModel=model"
      ]
    },
    {
      "cell_type": "code",
      "execution_count": 99,
      "metadata": {
        "id": "2B_LHNykamcN",
        "colab": {
          "base_uri": "https://localhost:8080/"
        },
        "outputId": "4b913318-aff1-4553-ffd0-d6aff03e2c3b"
      },
      "outputs": [
        {
          "output_type": "stream",
          "name": "stdout",
          "text": [
            "+--------------------+------------------+\n",
            "|                name|             score|\n",
            "+--------------------+------------------+\n",
            "|  LogisticRegression|               1.0|\n",
            "|           LinearSVC|               1.0|\n",
            "|DecisionTreeClass...|               1.0|\n",
            "|        FMClassifier|0.5833333333333333|\n",
            "|RandomForestClass...|0.8500000000000001|\n",
            "|       GBTClassifier|               1.0|\n",
            "+--------------------+------------------+\n",
            "\n"
          ]
        }
      ],
      "source": [
        "spark.createDataFrame(tab).show()"
      ]
    },
    {
      "cell_type": "markdown",
      "source": [
        "We can see that `LogisticRegression` and `LinearSVC` each achieve a score of $1$, which means that the data is linearly separable. On the other hand, `FMClassifier` performs poorly, which can be attributed to an insufficient number of iterations. With regard to ensemble methods, the `GBTClassifier` achieves an AUC-ROC score of $1$, whereas the `RandomForestClassifier` scores less. Conversely, the `DecisionTreeClassifier` receives a score of $1$. This is because each `DecisionTreeClassifier` within the `RandomForestClassifier` only receives a portion of the data and thus cannot construct a tree capable of mitigating linear relationships."
      ],
      "metadata": {
        "id": "ao4YgN9EQ6-8"
      }
    },
    {
      "cell_type": "markdown",
      "metadata": {
        "id": "ImzynojyeiRX"
      },
      "source": [
        "# Hyperparameter Tuning:\n",
        "Hyperparameter tuning is the process of optimizing the model's hyperparameters to improve its performance. We use Technique like grid search or random search can be used to explore different combinations of max depth and number of trees. The chosen hyperparameter values are based on their influence on the model's performance and may be selected to maximize the AUC-ROC metrics."
      ]
    },
    {
      "cell_type": "code",
      "source": [
        "clf=bestModel(labelCol=\"churn\")"
      ],
      "metadata": {
        "id": "662kXDwDJIMY"
      },
      "execution_count": 100,
      "outputs": []
    },
    {
      "cell_type": "code",
      "source": [
        "paramGrid= ParamGridBuilder() \\\n",
        "    .addGrid(clf.elasticNetParam,[0.1*i for i in range(11)]) \\\n",
        "    .build()"
      ],
      "metadata": {
        "id": "L0yan771JLkg"
      },
      "execution_count": 102,
      "outputs": []
    },
    {
      "cell_type": "code",
      "source": [
        "crossval = CrossValidator(estimator=clf,\n",
        "                          estimatorParamMaps=paramGrid,\n",
        "                          evaluator=evaluator,\n",
        "                         )"
      ],
      "metadata": {
        "id": "0xKKUIS7JMvZ"
      },
      "execution_count": 103,
      "outputs": []
    },
    {
      "cell_type": "code",
      "source": [
        "cvModel=crossval.fit(features_train)"
      ],
      "metadata": {
        "id": "kWVopKI1JQi7"
      },
      "execution_count": null,
      "outputs": []
    },
    {
      "cell_type": "code",
      "source": [
        "pred=cvModel.transform(features_test)"
      ],
      "metadata": {
        "id": "4wtWi5UnJRSF"
      },
      "execution_count": null,
      "outputs": []
    },
    {
      "cell_type": "code",
      "source": [
        "evaluator.evaluate(pred)"
      ],
      "metadata": {
        "id": "sbNf9VqPJhNC"
      },
      "execution_count": null,
      "outputs": []
    },
    {
      "cell_type": "code",
      "source": [
        "PipelineModel([features_trained,cvModel.bestModel]).write().overwrite().save(\"bestModel\")"
      ],
      "metadata": {
        "id": "pHeEedwcJj5w"
      },
      "execution_count": null,
      "outputs": []
    },
    {
      "cell_type": "markdown",
      "metadata": {
        "id": "zkdbP0DtfFsK"
      },
      "source": [
        "# Conclusion\n",
        "\n",
        "In this project, we loaded the Sparkify dataset from AWS's S3 service. We began by exploring the data, inspecting its content and data types. We also imputed the missing values and discarded any rows that couldn't be identified. Next, we proceeded to data engineering, adjusting some columns to be transformed into a different data format, accumulated by user. After that, we visualized the updated data and derived some statistics from it. Once we finished this step, we featurized the dataset based on its data types and split it into training and test sets. Finally, we evaluated various classifiers using the AUC-ROC metric and fine-tuned the best-performing model.\n",
        "\n",
        "Of course, we have achieved good performance, but at the cost of collecting the entire history of each user, which is costly and not practical in real-world scenarios. One area for improvement might be to find an alternative approach to processing the data and making predictions from the initial rows of the dataset."
      ]
    }
  ],
  "metadata": {
    "colab": {
      "provenance": []
    },
    "kernelspec": {
      "display_name": "Python 3 (ipykernel)",
      "language": "python",
      "name": "python3"
    },
    "language_info": {
      "codemirror_mode": {
        "name": "ipython",
        "version": 3
      },
      "file_extension": ".py",
      "mimetype": "text/x-python",
      "name": "python",
      "nbconvert_exporter": "python",
      "pygments_lexer": "ipython3",
      "version": "3.10.11"
    }
  },
  "nbformat": 4,
  "nbformat_minor": 0
}