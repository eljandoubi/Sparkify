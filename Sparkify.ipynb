{
  "cells": [
    {
      "cell_type": "markdown",
      "metadata": {
        "id": "DgJezjZyLLh4"
      },
      "source": [
        "# Sparkify Project Workspace\n",
        "This workspace contains a tiny subset (128MB) of the full dataset available (12GB). Feel free to use this workspace to build your project, or to explore a smaller subset with Spark before deploying your cluster on the cloud. Instructions for setting up your Spark cluster is included in the last lesson of the Extracurricular Spark Course content.\n",
        "\n",
        "You can follow the steps below to guide your data analysis and model building portion of this project."
      ]
    },
    {
      "cell_type": "code",
      "execution_count": null,
      "metadata": {
        "id": "8s_9pRXnLLh7"
      },
      "outputs": [],
      "source": [
        "# import libraries\n",
        "import pyspark\n",
        "from pyspark.sql import SparkSession, Row\n",
        "import pyspark.sql.functions as F\n",
        "import pyspark.sql.types as T\n",
        "\n",
        "from pyspark.ml import Pipeline, PipelineModel\n",
        "import pyspark.ml.classification as cl\n",
        "from pyspark.ml.evaluation import MulticlassClassificationEvaluator\n",
        "import pyspark.ml.feature as ft\n",
        "from pyspark.ml.tuning import CrossValidator, ParamGridBuilder\n",
        "\n",
        "import re\n",
        "import time"
      ]
    },
    {
      "cell_type": "code",
      "execution_count": null,
      "metadata": {
        "colab": {
          "base_uri": "https://localhost:8080/",
          "height": 35
        },
        "id": "AT2IR25MLLh8",
        "outputId": "d7506950-33cc-4b07-8699-fe024085305f"
      },
      "outputs": [
        {
          "data": {
            "application/vnd.google.colaboratory.intrinsic+json": {
              "type": "string"
            },
            "text/plain": [
              "'3.4.1'"
            ]
          },
          "execution_count": 3,
          "metadata": {},
          "output_type": "execute_result"
        }
      ],
      "source": [
        "pyspark.__version__"
      ]
    },
    {
      "cell_type": "code",
      "execution_count": null,
      "metadata": {
        "colab": {
          "base_uri": "https://localhost:8080/"
        },
        "id": "v9cVFOSvLLh-",
        "outputId": "bea2c719-b2b8-4c58-8414-b0943a3671a4"
      },
      "outputs": [
        {
          "data": {
            "text/plain": [
              "[('spark.app.id', 'local-1687856550614'),\n",
              " ('spark.app.startTime', '1687856546239'),\n",
              " ('spark.driver.host', '7457b600f8b8'),\n",
              " ('spark.executor.id', 'driver'),\n",
              " ('spark.app.submitTime', '1687856545770'),\n",
              " ('spark.driver.extraJavaOptions',\n",
              "  '-Djava.net.preferIPv6Addresses=false -XX:+IgnoreUnrecognizedVMOptions --add-opens=java.base/java.lang=ALL-UNNAMED --add-opens=java.base/java.lang.invoke=ALL-UNNAMED --add-opens=java.base/java.lang.reflect=ALL-UNNAMED --add-opens=java.base/java.io=ALL-UNNAMED --add-opens=java.base/java.net=ALL-UNNAMED --add-opens=java.base/java.nio=ALL-UNNAMED --add-opens=java.base/java.util=ALL-UNNAMED --add-opens=java.base/java.util.concurrent=ALL-UNNAMED --add-opens=java.base/java.util.concurrent.atomic=ALL-UNNAMED --add-opens=java.base/sun.nio.ch=ALL-UNNAMED --add-opens=java.base/sun.nio.cs=ALL-UNNAMED --add-opens=java.base/sun.security.action=ALL-UNNAMED --add-opens=java.base/sun.util.calendar=ALL-UNNAMED --add-opens=java.security.jgss/sun.security.krb5=ALL-UNNAMED -Djdk.reflect.useDirectMethodHandle=false'),\n",
              " ('spark.driver.port', '33655'),\n",
              " ('spark.rdd.compress', 'True'),\n",
              " ('spark.app.name', 'Sparkify'),\n",
              " ('spark.serializer.objectStreamReset', '100'),\n",
              " ('spark.master', 'local[*]'),\n",
              " ('spark.submit.pyFiles', ''),\n",
              " ('spark.submit.deployMode', 'client'),\n",
              " ('spark.ui.showConsoleProgress', 'true'),\n",
              " ('spark.executor.extraJavaOptions',\n",
              "  '-Djava.net.preferIPv6Addresses=false -XX:+IgnoreUnrecognizedVMOptions --add-opens=java.base/java.lang=ALL-UNNAMED --add-opens=java.base/java.lang.invoke=ALL-UNNAMED --add-opens=java.base/java.lang.reflect=ALL-UNNAMED --add-opens=java.base/java.io=ALL-UNNAMED --add-opens=java.base/java.net=ALL-UNNAMED --add-opens=java.base/java.nio=ALL-UNNAMED --add-opens=java.base/java.util=ALL-UNNAMED --add-opens=java.base/java.util.concurrent=ALL-UNNAMED --add-opens=java.base/java.util.concurrent.atomic=ALL-UNNAMED --add-opens=java.base/sun.nio.ch=ALL-UNNAMED --add-opens=java.base/sun.nio.cs=ALL-UNNAMED --add-opens=java.base/sun.security.action=ALL-UNNAMED --add-opens=java.base/sun.util.calendar=ALL-UNNAMED --add-opens=java.security.jgss/sun.security.krb5=ALL-UNNAMED -Djdk.reflect.useDirectMethodHandle=false')]"
            ]
          },
          "execution_count": 4,
          "metadata": {},
          "output_type": "execute_result"
        }
      ],
      "source": [
        "# create a Spark session\n",
        "spark = SparkSession \\\n",
        "    .builder \\\n",
        "    .appName(\"Sparkify\") \\\n",
        "    .getOrCreate()\n",
        "spark.sparkContext.getConf().getAll()"
      ]
    },
    {
      "cell_type": "code",
      "execution_count": null,
      "metadata": {
        "colab": {
          "base_uri": "https://localhost:8080/",
          "height": 219
        },
        "id": "7QSnAsYMLLh_",
        "outputId": "cf40306b-ed6c-4187-fca9-15e8d26ca2ac"
      },
      "outputs": [
        {
          "data": {
            "text/html": [
              "\n",
              "            <div>\n",
              "                <p><b>SparkSession - in-memory</b></p>\n",
              "                \n",
              "        <div>\n",
              "            <p><b>SparkContext</b></p>\n",
              "\n",
              "            <p><a href=\"http://7457b600f8b8:4040\">Spark UI</a></p>\n",
              "\n",
              "            <dl>\n",
              "              <dt>Version</dt>\n",
              "                <dd><code>v3.4.1</code></dd>\n",
              "              <dt>Master</dt>\n",
              "                <dd><code>local[*]</code></dd>\n",
              "              <dt>AppName</dt>\n",
              "                <dd><code>Sparkify</code></dd>\n",
              "            </dl>\n",
              "        </div>\n",
              "        \n",
              "            </div>\n",
              "        "
            ],
            "text/plain": [
              "<pyspark.sql.session.SparkSession at 0x7f12c32dd360>"
            ]
          },
          "execution_count": 5,
          "metadata": {},
          "output_type": "execute_result"
        }
      ],
      "source": [
        "spark"
      ]
    },
    {
      "cell_type": "markdown",
      "metadata": {
        "id": "bNCGxvmELLh_"
      },
      "source": [
        "# Load and Clean Dataset\n",
        "In this workspace, the mini-dataset file is `mini_sparkify_event_data.json`. Load and clean the dataset, checking for invalid or missing data - for example, records without userids or sessionids."
      ]
    },
    {
      "cell_type": "code",
      "execution_count": null,
      "metadata": {
        "id": "9eNLy1c1LLiA"
      },
      "outputs": [],
      "source": [
        "path = \"mini_sparkify_event_data.json\"\n",
        "dataset = spark.read.json(path)"
      ]
    },
    {
      "cell_type": "code",
      "execution_count": null,
      "metadata": {
        "colab": {
          "base_uri": "https://localhost:8080/"
        },
        "id": "udr3-cOHLLiA",
        "outputId": "16d1bbd3-73fc-447b-f818-3b1391891032"
      },
      "outputs": [
        {
          "name": "stdout",
          "output_type": "stream",
          "text": [
            "root\n",
            " |-- _corrupt_record: string (nullable = true)\n",
            " |-- artist: string (nullable = true)\n",
            " |-- auth: string (nullable = true)\n",
            " |-- firstName: string (nullable = true)\n",
            " |-- gender: string (nullable = true)\n",
            " |-- itemInSession: long (nullable = true)\n",
            " |-- lastName: string (nullable = true)\n",
            " |-- length: double (nullable = true)\n",
            " |-- level: string (nullable = true)\n",
            " |-- location: string (nullable = true)\n",
            " |-- method: string (nullable = true)\n",
            " |-- page: string (nullable = true)\n",
            " |-- registration: long (nullable = true)\n",
            " |-- sessionId: long (nullable = true)\n",
            " |-- song: string (nullable = true)\n",
            " |-- status: long (nullable = true)\n",
            " |-- ts: long (nullable = true)\n",
            " |-- userAgent: string (nullable = true)\n",
            " |-- userId: string (nullable = true)\n",
            "\n"
          ]
        }
      ],
      "source": [
        "dataset.printSchema()"
      ]
    },
    {
      "cell_type": "code",
      "execution_count": null,
      "metadata": {
        "colab": {
          "base_uri": "https://localhost:8080/"
        },
        "id": "zdvbiBWOLLiA",
        "outputId": "a4f901ed-1dff-4791-b02b-b2b957fd72ef"
      },
      "outputs": [
        {
          "data": {
            "text/plain": [
              "[Row(_corrupt_record=None, artist='Martha Tilston', auth='Logged In', firstName='Colin', gender='M', itemInSession=50, lastName='Freeman', length=277.89016, level='paid', location='Bakersfield, CA', method='PUT', page='NextSong', registration=1538173362000, sessionId=29, song='Rockpools', status=200, ts=1538352117000, userAgent='Mozilla/5.0 (Windows NT 6.1; WOW64; rv:31.0) Gecko/20100101 Firefox/31.0', userId='30'),\n",
              " Row(_corrupt_record=None, artist='Five Iron Frenzy', auth='Logged In', firstName='Micah', gender='M', itemInSession=79, lastName='Long', length=236.09424, level='free', location='Boston-Cambridge-Newton, MA-NH', method='PUT', page='NextSong', registration=1538331630000, sessionId=8, song='Canada', status=200, ts=1538352180000, userAgent='\"Mozilla/5.0 (Windows NT 6.1; WOW64) AppleWebKit/537.36 (KHTML, like Gecko) Chrome/37.0.2062.103 Safari/537.36\"', userId='9'),\n",
              " Row(_corrupt_record=None, artist='Adam Lambert', auth='Logged In', firstName='Colin', gender='M', itemInSession=51, lastName='Freeman', length=282.8273, level='paid', location='Bakersfield, CA', method='PUT', page='NextSong', registration=1538173362000, sessionId=29, song='Time For Miracles', status=200, ts=1538352394000, userAgent='Mozilla/5.0 (Windows NT 6.1; WOW64; rv:31.0) Gecko/20100101 Firefox/31.0', userId='30')]"
            ]
          },
          "execution_count": 8,
          "metadata": {},
          "output_type": "execute_result"
        }
      ],
      "source": [
        "dataset.take(3)"
      ]
    },
    {
      "cell_type": "code",
      "execution_count": null,
      "metadata": {
        "id": "RHzGZdkTLLiB"
      },
      "outputs": [],
      "source": [
        "cols=['userId', 'page','location','userAgent','gender','artist','song']"
      ]
    },
    {
      "cell_type": "code",
      "execution_count": null,
      "metadata": {
        "id": "_XX_klPpLLiB"
      },
      "outputs": [],
      "source": [
        "dataset=dataset.select(cols)"
      ]
    },
    {
      "cell_type": "code",
      "execution_count": null,
      "metadata": {
        "id": "J0apq7guLLiB"
      },
      "outputs": [],
      "source": [
        "dataset=dataset.dropna(how = \"any\", subset = [\"userId\",])"
      ]
    },
    {
      "cell_type": "code",
      "execution_count": null,
      "metadata": {
        "id": "9Rlu4M92LLiB"
      },
      "outputs": [],
      "source": [
        "dataset=dataset.fillna(\"None\")"
      ]
    },
    {
      "cell_type": "code",
      "execution_count": null,
      "metadata": {
        "id": "nka5FOFYLLiC"
      },
      "outputs": [],
      "source": [
        "isdigit=F.udf(lambda str:str.isdigit(),T.BooleanType())"
      ]
    },
    {
      "cell_type": "code",
      "execution_count": null,
      "metadata": {
        "id": "gDd4qr3LLLiC"
      },
      "outputs": [],
      "source": [
        "dataset=dataset.filter(isdigit(dataset.userId))"
      ]
    },
    {
      "cell_type": "code",
      "execution_count": null,
      "metadata": {
        "colab": {
          "base_uri": "https://localhost:8080/"
        },
        "collapsed": true,
        "id": "GiLJ5r42LLiC",
        "outputId": "e117c938-acba-4553-e568-e273f5604431"
      },
      "outputs": [
        {
          "data": {
            "text/plain": [
              "59568"
            ]
          },
          "execution_count": 15,
          "metadata": {},
          "output_type": "execute_result"
        }
      ],
      "source": [
        "dataset.count()"
      ]
    },
    {
      "cell_type": "markdown",
      "metadata": {
        "id": "ulRlPTRhLLiC"
      },
      "source": [
        "Set the type of `usedId` to integer."
      ]
    },
    {
      "cell_type": "code",
      "execution_count": null,
      "metadata": {
        "id": "olaefJXCLLiC"
      },
      "outputs": [],
      "source": [
        "dataset=dataset.withColumn(\"userId\",dataset.userId.cast('long'))"
      ]
    },
    {
      "cell_type": "code",
      "execution_count": null,
      "metadata": {
        "colab": {
          "base_uri": "https://localhost:8080/"
        },
        "id": "DHTyIFgNLLiC",
        "outputId": "a5f441ea-c75c-45cf-8c05-9d6a0168bd73"
      },
      "outputs": [
        {
          "data": {
            "text/plain": [
              "DataFrame[userId: bigint, page: string, location: string, userAgent: string, gender: string, artist: string, song: string]"
            ]
          },
          "execution_count": 17,
          "metadata": {},
          "output_type": "execute_result"
        }
      ],
      "source": [
        "dataset.persist()"
      ]
    },
    {
      "cell_type": "markdown",
      "metadata": {
        "id": "lg5ClSSpLLiC"
      },
      "source": [
        "# Exploratory Data Analysis\n",
        "When you're working with the full dataset, perform EDA by loading a small subset of the data and doing basic manipulations within Spark. In this workspace, you are already provided a small subset of data you can explore.\n",
        "\n",
        "### Define Churn\n",
        "\n",
        "Once you've done some preliminary analysis, create a column `Churn` to use as the label for your model. I suggest using the `Cancellation Confirmation` events to define your churn, which happen for both paid and free users. As a bonus task, you can also look into the `Downgrade` events.\n",
        "\n",
        "### Explore Data\n",
        "Once you've defined churn, perform some exploratory data analysis to observe the behavior for users who stayed vs users who churned. You can start by exploring aggregates on these two groups of users, observing how much of a specific action they experienced per a certain time unit or number of songs played."
      ]
    },
    {
      "cell_type": "code",
      "execution_count": null,
      "metadata": {
        "colab": {
          "base_uri": "https://localhost:8080/"
        },
        "collapsed": true,
        "id": "m0p2-N57LLiD",
        "outputId": "26695886-3d99-486c-8178-b927e294a1f2"
      },
      "outputs": [
        {
          "name": "stdout",
          "output_type": "stream",
          "text": [
            "+--------------------+\n",
            "|                page|\n",
            "+--------------------+\n",
            "|              Cancel|\n",
            "|    Submit Downgrade|\n",
            "|         Thumbs Down|\n",
            "|                Home|\n",
            "|           Downgrade|\n",
            "|         Roll Advert|\n",
            "|              Logout|\n",
            "|       Save Settings|\n",
            "|Cancellation Conf...|\n",
            "|               About|\n",
            "|            Settings|\n",
            "|     Add to Playlist|\n",
            "|          Add Friend|\n",
            "|            NextSong|\n",
            "|           Thumbs Up|\n",
            "|                Help|\n",
            "|             Upgrade|\n",
            "|               Error|\n",
            "|      Submit Upgrade|\n",
            "+--------------------+\n",
            "\n"
          ]
        }
      ],
      "source": [
        "dataset.select('page').distinct().show()"
      ]
    },
    {
      "cell_type": "markdown",
      "metadata": {
        "id": "-U-NLXr7LLiD"
      },
      "source": [
        "In order to look for the `churn`s, we will group the data by `userId` and collect all the `page`s as `history`."
      ]
    },
    {
      "cell_type": "code",
      "execution_count": null,
      "metadata": {
        "id": "R0D3ZDvULLiD"
      },
      "outputs": [],
      "source": [
        "history=dataset.select(['userId','page']).groupby('userId').agg(F.collect_list('page').alias('history'))"
      ]
    },
    {
      "cell_type": "code",
      "execution_count": null,
      "metadata": {
        "colab": {
          "base_uri": "https://localhost:8080/"
        },
        "id": "vMZYDxHeLLiD",
        "outputId": "16fecab5-b5d5-4ac8-8a6b-766db5982975"
      },
      "outputs": [
        {
          "name": "stdout",
          "output_type": "stream",
          "text": [
            "+------+--------------------+\n",
            "|userId|             history|\n",
            "+------+--------------------+\n",
            "|     2|[NextSong, NextSo...|\n",
            "|     3|[NextSong, NextSo...|\n",
            "|     4|[NextSong, NextSo...|\n",
            "|     5|[NextSong, NextSo...|\n",
            "|     6|[NextSong, NextSo...|\n",
            "|     7|[NextSong, NextSo...|\n",
            "|     8|[Home, Add Friend...|\n",
            "|     9|[Home, NextSong, ...|\n",
            "|    10|[NextSong, NextSo...|\n",
            "|    11|[NextSong, Roll A...|\n",
            "|    12|[Home, NextSong, ...|\n",
            "|    13|[NextSong, Roll A...|\n",
            "|    14|[NextSong, NextSo...|\n",
            "|    15|[Home, NextSong, ...|\n",
            "|    16|[NextSong, Add to...|\n",
            "|    17|[NextSong, NextSo...|\n",
            "|    18|[Home, NextSong, ...|\n",
            "|    19|[NextSong, NextSo...|\n",
            "|    20|[Home, NextSong, ...|\n",
            "|    21|[Home, NextSong, ...|\n",
            "+------+--------------------+\n",
            "only showing top 20 rows\n",
            "\n"
          ]
        }
      ],
      "source": [
        "history.show()"
      ]
    },
    {
      "cell_type": "markdown",
      "metadata": {
        "id": "qmJ-avv-LLiD"
      },
      "source": [
        "Then, we define `churn` to be `1` if `{'Cancellation Confirmation','Submit Downgrade'}` is subset of the `history` and `0` otherwise."
      ]
    },
    {
      "cell_type": "code",
      "execution_count": null,
      "metadata": {
        "id": "zSErExD6LLiD"
      },
      "outputs": [],
      "source": [
        "issubset = F.udf(lambda l: int('Cancellation Confirmation' in l), T.IntegerType())"
      ]
    },
    {
      "cell_type": "code",
      "execution_count": null,
      "metadata": {
        "id": "X4wW97ZpLLiD"
      },
      "outputs": [],
      "source": [
        "history=history.withColumn(\"churn\",issubset(history.history))"
      ]
    },
    {
      "cell_type": "code",
      "execution_count": null,
      "metadata": {
        "colab": {
          "base_uri": "https://localhost:8080/"
        },
        "id": "UNXZNvngLLiD",
        "outputId": "8da51f80-6ba1-415c-e258-020b3b7948ea"
      },
      "outputs": [
        {
          "name": "stdout",
          "output_type": "stream",
          "text": [
            "+------+--------------------+-----+\n",
            "|userId|             history|churn|\n",
            "+------+--------------------+-----+\n",
            "|     2|[NextSong, NextSo...|    0|\n",
            "|     3|[NextSong, NextSo...|    0|\n",
            "|     4|[NextSong, NextSo...|    0|\n",
            "|     5|[NextSong, NextSo...|    0|\n",
            "|     6|[NextSong, NextSo...|    0|\n",
            "|     7|[NextSong, NextSo...|    0|\n",
            "|     8|[Home, Add Friend...|    0|\n",
            "|     9|[Home, NextSong, ...|    0|\n",
            "|    10|[NextSong, NextSo...|    0|\n",
            "|    11|[NextSong, Roll A...|    0|\n",
            "|    12|[Home, NextSong, ...|    0|\n",
            "|    13|[NextSong, Roll A...|    0|\n",
            "|    14|[NextSong, NextSo...|    0|\n",
            "|    15|[Home, NextSong, ...|    0|\n",
            "|    16|[NextSong, Add to...|    0|\n",
            "|    17|[NextSong, NextSo...|    1|\n",
            "|    18|[Home, NextSong, ...|    1|\n",
            "|    19|[NextSong, NextSo...|    0|\n",
            "|    20|[Home, NextSong, ...|    0|\n",
            "|    21|[Home, NextSong, ...|    0|\n",
            "+------+--------------------+-----+\n",
            "only showing top 20 rows\n",
            "\n"
          ]
        }
      ],
      "source": [
        "history.show()"
      ]
    },
    {
      "cell_type": "markdown",
      "metadata": {
        "id": "f14PfrQxLLiE"
      },
      "source": [
        "We compute now the length of the history as an indicator of user activity."
      ]
    },
    {
      "cell_type": "code",
      "execution_count": null,
      "metadata": {
        "id": "dg3pIlEiLLiE"
      },
      "outputs": [],
      "source": [
        "Len=F.udf(len,T.IntegerType())"
      ]
    },
    {
      "cell_type": "code",
      "execution_count": null,
      "metadata": {
        "id": "PVWMRlC0LLiE"
      },
      "outputs": [],
      "source": [
        "history=history.withColumn(\"nHist\",Len(\"history\"))"
      ]
    },
    {
      "cell_type": "code",
      "execution_count": null,
      "metadata": {
        "colab": {
          "base_uri": "https://localhost:8080/"
        },
        "id": "PsYXPF9QLLiE",
        "outputId": "50f7a10e-1506-400d-bad1-1a130e33e2b7",
        "scrolled": true
      },
      "outputs": [
        {
          "name": "stdout",
          "output_type": "stream",
          "text": [
            "+------+--------------------+-----+-----+\n",
            "|userId|             history|churn|nHist|\n",
            "+------+--------------------+-----+-----+\n",
            "|     2|[NextSong, NextSo...|    0|  428|\n",
            "|     3|[NextSong, NextSo...|    0|   24|\n",
            "|     4|[NextSong, NextSo...|    0|  110|\n",
            "|     5|[NextSong, NextSo...|    0|   41|\n",
            "|     6|[NextSong, NextSo...|    0|  586|\n",
            "|     7|[NextSong, NextSo...|    0|   51|\n",
            "|     8|[Home, Add Friend...|    0|  155|\n",
            "|     9|[Home, NextSong, ...|    0|  946|\n",
            "|    10|[NextSong, NextSo...|    0|  421|\n",
            "|    11|[NextSong, Roll A...|    0|  140|\n",
            "|    12|[Home, NextSong, ...|    0|  971|\n",
            "|    13|[NextSong, Roll A...|    0|  422|\n",
            "|    14|[NextSong, NextSo...|    0|   48|\n",
            "|    15|[Home, NextSong, ...|    0| 1189|\n",
            "|    16|[NextSong, Add to...|    0|  435|\n",
            "|    17|[NextSong, NextSo...|    1| 1102|\n",
            "|    18|[Home, NextSong, ...|    1|  513|\n",
            "|    19|[NextSong, NextSo...|    0|  259|\n",
            "|    20|[Home, NextSong, ...|    0|  298|\n",
            "|    21|[Home, NextSong, ...|    0|   56|\n",
            "+------+--------------------+-----+-----+\n",
            "only showing top 20 rows\n",
            "\n"
          ]
        }
      ],
      "source": [
        "history.show()"
      ]
    },
    {
      "cell_type": "code",
      "execution_count": null,
      "metadata": {
        "colab": {
          "base_uri": "https://localhost:8080/"
        },
        "id": "Mn4BOuFwLLiE",
        "outputId": "752b1d17-9fe7-4a73-f9cd-f8c8b3ca79ea"
      },
      "outputs": [
        {
          "name": "stdout",
          "output_type": "stream",
          "text": [
            "+----------+----------+\n",
            "|min(nHist)|max(nHist)|\n",
            "+----------+----------+\n",
            "|         1|      2850|\n",
            "+----------+----------+\n",
            "\n"
          ]
        }
      ],
      "source": [
        "history.agg(F.min(\"nHist\"),F.max(\"nHist\")).show()"
      ]
    },
    {
      "cell_type": "code",
      "execution_count": null,
      "metadata": {
        "id": "eiN-x03_LLiE"
      },
      "outputs": [],
      "source": [
        "history=history.drop(\"nHist\")"
      ]
    },
    {
      "cell_type": "markdown",
      "metadata": {
        "id": "5i1adfKgLLiE"
      },
      "source": [
        "We look for the person `trajectory`, we will group the data by `userId` and collect all the `location`s."
      ]
    },
    {
      "cell_type": "code",
      "execution_count": null,
      "metadata": {
        "id": "0RKMEYUZLLiE"
      },
      "outputs": [],
      "source": [
        "trajectory=dataset.select(['userId','location']).groupby('userId').agg(F.collect_list('location').alias('trajectory'))"
      ]
    },
    {
      "cell_type": "code",
      "execution_count": null,
      "metadata": {
        "id": "VS-vNscLLLiE"
      },
      "outputs": [],
      "source": [
        "lenSet=F.udf(lambda x:len(set(x)),T.IntegerType())"
      ]
    },
    {
      "cell_type": "code",
      "execution_count": null,
      "metadata": {
        "id": "iWES7ymULLiE"
      },
      "outputs": [],
      "source": [
        "trajectory=trajectory.withColumn(\"nLoc\",lenSet(\"trajectory\"))"
      ]
    },
    {
      "cell_type": "code",
      "execution_count": null,
      "metadata": {
        "colab": {
          "base_uri": "https://localhost:8080/"
        },
        "id": "oZs023LNLLiF",
        "outputId": "cb319886-c4ec-4a04-c3c2-06a19634d793"
      },
      "outputs": [
        {
          "name": "stdout",
          "output_type": "stream",
          "text": [
            "+---------+\n",
            "|max(nLoc)|\n",
            "+---------+\n",
            "|        1|\n",
            "+---------+\n",
            "\n"
          ]
        }
      ],
      "source": [
        "trajectory.agg(F.max(\"nLoc\")).show()"
      ]
    },
    {
      "cell_type": "markdown",
      "metadata": {
        "id": "a1pN5uAgLLiJ"
      },
      "source": [
        "We have only one location person. So we reduce all the list for the first element."
      ]
    },
    {
      "cell_type": "code",
      "execution_count": null,
      "metadata": {
        "id": "0twTpOxSLLiJ"
      },
      "outputs": [],
      "source": [
        "trajectory=trajectory.drop(\"nLoc\")"
      ]
    },
    {
      "cell_type": "code",
      "execution_count": null,
      "metadata": {
        "id": "dfOFs-g4LLiJ"
      },
      "outputs": [],
      "source": [
        "reduction=F.udf(lambda x:x[0])"
      ]
    },
    {
      "cell_type": "code",
      "execution_count": null,
      "metadata": {
        "id": "K7HB9dblLLiJ"
      },
      "outputs": [],
      "source": [
        "trajectory=trajectory.withColumn(\"location\",reduction(\"trajectory\")).drop(\"trajectory\")"
      ]
    },
    {
      "cell_type": "code",
      "execution_count": null,
      "metadata": {
        "colab": {
          "base_uri": "https://localhost:8080/"
        },
        "id": "RDBUU23zLLiJ",
        "outputId": "e5e27ed5-9a95-4f24-c22f-7659071826e0"
      },
      "outputs": [
        {
          "name": "stdout",
          "output_type": "stream",
          "text": [
            "+------+--------------------+\n",
            "|userId|            location|\n",
            "+------+--------------------+\n",
            "|     2|         Raleigh, NC|\n",
            "|     3|         Bozeman, MT|\n",
            "|     4|Baltimore-Columbi...|\n",
            "|     5|Phoenix-Mesa-Scot...|\n",
            "|     6|Houston-The Woodl...|\n",
            "|     7|Seattle-Tacoma-Be...|\n",
            "|     8|    St. Louis, MO-IL|\n",
            "|     9|Boston-Cambridge-...|\n",
            "|    10|          Laurel, MS|\n",
            "|    11|Providence-Warwic...|\n",
            "|    12|Los Angeles-Long ...|\n",
            "|    13|Philadelphia-Camd...|\n",
            "|    14|        Syracuse, NY|\n",
            "|    15|      Morgantown, WV|\n",
            "|    16|   Winston-Salem, NC|\n",
            "|    17|Philadelphia-Camd...|\n",
            "|    18|  Kansas City, MO-KS|\n",
            "|    19|          Dayton, OH|\n",
            "|    20|Miami-Fort Lauder...|\n",
            "|    21|        Kankakee, IL|\n",
            "+------+--------------------+\n",
            "only showing top 20 rows\n",
            "\n"
          ]
        }
      ],
      "source": [
        "trajectory.show()"
      ]
    },
    {
      "cell_type": "code",
      "execution_count": null,
      "metadata": {
        "colab": {
          "base_uri": "https://localhost:8080/"
        },
        "id": "XnvwvhXSLLiK",
        "outputId": "6181bfc4-a1a7-471d-ea25-219e75191810"
      },
      "outputs": [
        {
          "data": {
            "text/plain": [
              "88"
            ]
          },
          "execution_count": 37,
          "metadata": {},
          "output_type": "execute_result"
        }
      ],
      "source": [
        "trajectory.select('location').distinct().count()"
      ]
    },
    {
      "cell_type": "markdown",
      "metadata": {
        "id": "QFg_13tmLLiK"
      },
      "source": [
        "We fo the same for `userAgent`."
      ]
    },
    {
      "cell_type": "code",
      "execution_count": null,
      "metadata": {
        "id": "ZbLLXbDbLLiK"
      },
      "outputs": [],
      "source": [
        "userAgents=dataset.select(['userId','userAgent']).groupby('userId').agg(F.collect_list('userAgent').alias('userAgents'))"
      ]
    },
    {
      "cell_type": "code",
      "execution_count": null,
      "metadata": {
        "id": "O3deSyg6LLiK"
      },
      "outputs": [],
      "source": [
        "userAgents=userAgents.withColumn(\"nAgent\",lenSet(\"userAgents\"))"
      ]
    },
    {
      "cell_type": "code",
      "execution_count": null,
      "metadata": {
        "colab": {
          "base_uri": "https://localhost:8080/"
        },
        "id": "METte0U2LLiK",
        "outputId": "21558c65-62de-43de-aad5-0fd51f30e4c7"
      },
      "outputs": [
        {
          "name": "stdout",
          "output_type": "stream",
          "text": [
            "+-----------+\n",
            "|max(nAgent)|\n",
            "+-----------+\n",
            "|          1|\n",
            "+-----------+\n",
            "\n"
          ]
        }
      ],
      "source": [
        "userAgents.agg(F.max(\"nAgent\")).show()"
      ]
    },
    {
      "cell_type": "markdown",
      "metadata": {
        "id": "I-9c5MD_LLiK"
      },
      "source": [
        "We have only one browser person. So we reduce all the list for the first element."
      ]
    },
    {
      "cell_type": "code",
      "execution_count": null,
      "metadata": {
        "id": "yyg41wQtLLiK"
      },
      "outputs": [],
      "source": [
        "userAgents=userAgents.drop(\"nAgent\")"
      ]
    },
    {
      "cell_type": "code",
      "execution_count": null,
      "metadata": {
        "id": "LLnQahL3LLiK"
      },
      "outputs": [],
      "source": [
        "userAgents=userAgents.withColumn(\"userAgent\",reduction(\"userAgents\")).drop(\"userAgents\")"
      ]
    },
    {
      "cell_type": "code",
      "execution_count": null,
      "metadata": {
        "colab": {
          "base_uri": "https://localhost:8080/"
        },
        "id": "GeNhCGWTLLiL",
        "outputId": "666217a0-0b6c-4fa3-c668-ea6136b321be"
      },
      "outputs": [
        {
          "name": "stdout",
          "output_type": "stream",
          "text": [
            "+------+--------------------+\n",
            "|userId|           userAgent|\n",
            "+------+--------------------+\n",
            "|     2|\"Mozilla/5.0 (Win...|\n",
            "|     3|\"Mozilla/5.0 (Win...|\n",
            "|     4|Mozilla/5.0 (Wind...|\n",
            "|     5|\"Mozilla/5.0 (Win...|\n",
            "|     6|\"Mozilla/5.0 (Mac...|\n",
            "|     7|Mozilla/5.0 (Wind...|\n",
            "|     8|\"Mozilla/5.0 (Win...|\n",
            "|     9|\"Mozilla/5.0 (Win...|\n",
            "|    10|\"Mozilla/5.0 (Mac...|\n",
            "|    11|Mozilla/5.0 (Wind...|\n",
            "|    12|Mozilla/5.0 (Wind...|\n",
            "|    13|\"Mozilla/5.0 (iPh...|\n",
            "|    14|Mozilla/5.0 (Maci...|\n",
            "|    15|\"Mozilla/5.0 (Win...|\n",
            "|    16|\"Mozilla/5.0 (Win...|\n",
            "|    17|Mozilla/5.0 (Wind...|\n",
            "|    18|\"Mozilla/5.0 (Mac...|\n",
            "|    19|Mozilla/5.0 (Wind...|\n",
            "|    20|\"Mozilla/5.0 (Win...|\n",
            "|    21|Mozilla/5.0 (Wind...|\n",
            "+------+--------------------+\n",
            "only showing top 20 rows\n",
            "\n"
          ]
        }
      ],
      "source": [
        "userAgents.show()"
      ]
    },
    {
      "cell_type": "code",
      "execution_count": null,
      "metadata": {
        "id": "QecEG88ILLiL"
      },
      "outputs": [],
      "source": [
        "sub=F.udf(lambda x:re.sub('\"',\"\",x),T.StringType())"
      ]
    },
    {
      "cell_type": "code",
      "execution_count": null,
      "metadata": {
        "id": "SvpoxuJqLLiL"
      },
      "outputs": [],
      "source": [
        "userAgents=userAgents.withColumn(\"userAgent\",sub(\"userAgent\"))"
      ]
    },
    {
      "cell_type": "code",
      "execution_count": null,
      "metadata": {
        "colab": {
          "base_uri": "https://localhost:8080/"
        },
        "id": "irK2HH1rLLiL",
        "outputId": "387d8afc-c9da-47c9-bf11-1d3b8c3a7e61"
      },
      "outputs": [
        {
          "data": {
            "text/plain": [
              "46"
            ]
          },
          "execution_count": 46,
          "metadata": {},
          "output_type": "execute_result"
        }
      ],
      "source": [
        "userAgents.select('userAgent').distinct().count()"
      ]
    },
    {
      "cell_type": "markdown",
      "metadata": {
        "id": "7QNdS0iBLLiL"
      },
      "source": [
        "We continue with same logic for the `gender`."
      ]
    },
    {
      "cell_type": "code",
      "execution_count": null,
      "metadata": {
        "colab": {
          "base_uri": "https://localhost:8080/"
        },
        "id": "68VZ8sUkLLiM",
        "outputId": "f1457613-ff3c-4a88-df46-9c8595a93009"
      },
      "outputs": [
        {
          "data": {
            "text/plain": [
              "2"
            ]
          },
          "execution_count": 47,
          "metadata": {},
          "output_type": "execute_result"
        }
      ],
      "source": [
        "dataset.select('gender').distinct().count()"
      ]
    },
    {
      "cell_type": "code",
      "execution_count": null,
      "metadata": {
        "id": "2DZibAR_LLiM"
      },
      "outputs": [],
      "source": [
        "genders=dataset.select(['userId','gender']).groupby('userId').agg(F.collect_list('gender').alias('genders'))"
      ]
    },
    {
      "cell_type": "code",
      "execution_count": null,
      "metadata": {
        "id": "u2oC6zLwLLiM"
      },
      "outputs": [],
      "source": [
        "genders=genders.withColumn(\"nGender\",lenSet(\"genders\"))"
      ]
    },
    {
      "cell_type": "code",
      "execution_count": null,
      "metadata": {
        "colab": {
          "base_uri": "https://localhost:8080/"
        },
        "id": "9zQTICtJLLiM",
        "outputId": "05498dcd-7720-40ac-928d-819f07e4c99e"
      },
      "outputs": [
        {
          "name": "stdout",
          "output_type": "stream",
          "text": [
            "+------------+\n",
            "|max(nGender)|\n",
            "+------------+\n",
            "|           1|\n",
            "+------------+\n",
            "\n"
          ]
        }
      ],
      "source": [
        "genders.agg(F.max(\"nGender\")).show()"
      ]
    },
    {
      "cell_type": "code",
      "execution_count": null,
      "metadata": {
        "id": "FyjJZK1SLLiM"
      },
      "outputs": [],
      "source": [
        "genders=genders.drop(\"nGender\")"
      ]
    },
    {
      "cell_type": "code",
      "execution_count": null,
      "metadata": {
        "id": "NdsuhbLELLiN"
      },
      "outputs": [],
      "source": [
        "genders=genders.withColumn(\"gender\",reduction(\"genders\")).drop(\"genders\")"
      ]
    },
    {
      "cell_type": "code",
      "execution_count": null,
      "metadata": {
        "colab": {
          "base_uri": "https://localhost:8080/"
        },
        "id": "5r8NIT5aLLiN",
        "outputId": "05e5c7d7-88a4-4851-873e-dc6b582dbbe4"
      },
      "outputs": [
        {
          "name": "stdout",
          "output_type": "stream",
          "text": [
            "+------+------+\n",
            "|userId|gender|\n",
            "+------+------+\n",
            "|     2|     F|\n",
            "|     3|     M|\n",
            "|     4|     M|\n",
            "|     5|     M|\n",
            "|     6|     M|\n",
            "|     7|     M|\n",
            "|     8|     F|\n",
            "|     9|     M|\n",
            "|    10|     M|\n",
            "|    11|     F|\n",
            "|    12|     F|\n",
            "|    13|     F|\n",
            "|    14|     M|\n",
            "|    15|     M|\n",
            "|    16|     F|\n",
            "|    17|     F|\n",
            "|    18|     M|\n",
            "|    19|     F|\n",
            "|    20|     F|\n",
            "|    21|     M|\n",
            "+------+------+\n",
            "only showing top 20 rows\n",
            "\n"
          ]
        }
      ],
      "source": [
        "genders.show()"
      ]
    },
    {
      "cell_type": "markdown",
      "metadata": {
        "id": "JDcDbN5ELLiN"
      },
      "source": [
        "For the artist and song, we will keep the wole list."
      ]
    },
    {
      "cell_type": "code",
      "execution_count": null,
      "metadata": {
        "colab": {
          "base_uri": "https://localhost:8080/"
        },
        "id": "KUd8Oyj-LLiN",
        "outputId": "bbdfd619-3b01-46e8-d9a8-399d5bb00fe5"
      },
      "outputs": [
        {
          "data": {
            "text/plain": [
              "9623"
            ]
          },
          "execution_count": 54,
          "metadata": {},
          "output_type": "execute_result"
        }
      ],
      "source": [
        "dataset.select('artist').distinct().count()"
      ]
    },
    {
      "cell_type": "code",
      "execution_count": null,
      "metadata": {
        "id": "I4S0DXJKLLiN"
      },
      "outputs": [],
      "source": [
        "artists=dataset.select(['userId','artist']).groupby('userId').agg(F.collect_list('artist').alias('artists'))"
      ]
    },
    {
      "cell_type": "code",
      "execution_count": null,
      "metadata": {
        "id": "lJjkD_63LLiN"
      },
      "outputs": [],
      "source": [
        "artists=artists.withColumn(\"nArtist\",lenSet(\"artists\"))"
      ]
    },
    {
      "cell_type": "code",
      "execution_count": null,
      "metadata": {
        "colab": {
          "base_uri": "https://localhost:8080/"
        },
        "id": "Kq3Qp6IbLLiO",
        "outputId": "b8976626-aaa3-4bb4-9ace-9cda06cb7b1c"
      },
      "outputs": [
        {
          "name": "stdout",
          "output_type": "stream",
          "text": [
            "+------------+\n",
            "|max(nArtist)|\n",
            "+------------+\n",
            "|        1524|\n",
            "+------------+\n",
            "\n"
          ]
        }
      ],
      "source": [
        "artists.agg(F.max(\"nArtist\")).show()"
      ]
    },
    {
      "cell_type": "code",
      "execution_count": null,
      "metadata": {
        "id": "8ubbHrxZLLiO"
      },
      "outputs": [],
      "source": [
        "artists=artists.drop(\"nArtist\")"
      ]
    },
    {
      "cell_type": "code",
      "execution_count": null,
      "metadata": {
        "colab": {
          "base_uri": "https://localhost:8080/"
        },
        "id": "nTZHgHnVLLiO",
        "outputId": "37012df4-4e07-4b8d-8378-70548795f908"
      },
      "outputs": [
        {
          "name": "stdout",
          "output_type": "stream",
          "text": [
            "+------+--------------------+\n",
            "|userId|             artists|\n",
            "+------+--------------------+\n",
            "|     2|[Al Di Meola, Kar...|\n",
            "|     3|[Orenda Fink, Bar...|\n",
            "|     4|[Third Day, Littl...|\n",
            "|     5|[Joan Baez, Metri...|\n",
            "|     6|[Cobra Starship F...|\n",
            "|     7|[Crystal Castles,...|\n",
            "|     8|[None, None, None...|\n",
            "|     9|[None, Eminem, Ju...|\n",
            "|    10|[Alexis & Fido, C...|\n",
            "|    11|[Carly Simon, Non...|\n",
            "|    12|[None, Audioslave...|\n",
            "|    13|[The Kills, None,...|\n",
            "|    14|[Muchachito Bombo...|\n",
            "|    15|[None, Cradle Of ...|\n",
            "|    16|[Freddie King, No...|\n",
            "|    17|[Grant Lee Buffal...|\n",
            "|    18|[None, Mike And T...|\n",
            "|    19|[Red, Verona, Sea...|\n",
            "|    20|[None, Eric Clapt...|\n",
            "|    21|[None, Lonnie Gor...|\n",
            "+------+--------------------+\n",
            "only showing top 20 rows\n",
            "\n"
          ]
        }
      ],
      "source": [
        "artists.show()"
      ]
    },
    {
      "cell_type": "code",
      "execution_count": null,
      "metadata": {
        "colab": {
          "base_uri": "https://localhost:8080/"
        },
        "id": "mCKZqEX6LLiO",
        "outputId": "260740b2-e7f5-4b09-a25e-e90e789e814a"
      },
      "outputs": [
        {
          "data": {
            "text/plain": [
              "23371"
            ]
          },
          "execution_count": 60,
          "metadata": {},
          "output_type": "execute_result"
        }
      ],
      "source": [
        "dataset.select('song').distinct().count()"
      ]
    },
    {
      "cell_type": "code",
      "execution_count": null,
      "metadata": {
        "id": "d9-WM7VxLLiO"
      },
      "outputs": [],
      "source": [
        "songs=dataset.select(['userId','song']).groupby('userId').agg(F.collect_list('song').alias('songs'))"
      ]
    },
    {
      "cell_type": "code",
      "execution_count": null,
      "metadata": {
        "id": "4g_oT1CDLLiO"
      },
      "outputs": [],
      "source": [
        "songs=songs.withColumn(\"nSong\",lenSet(\"songs\"))"
      ]
    },
    {
      "cell_type": "code",
      "execution_count": null,
      "metadata": {
        "colab": {
          "base_uri": "https://localhost:8080/"
        },
        "id": "XgQkRAYOLLiP",
        "outputId": "5ae2a535-1e73-45c8-b251-39f87e3d171a"
      },
      "outputs": [
        {
          "name": "stdout",
          "output_type": "stream",
          "text": [
            "+----------+\n",
            "|max(nSong)|\n",
            "+----------+\n",
            "|      2057|\n",
            "+----------+\n",
            "\n"
          ]
        }
      ],
      "source": [
        "songs.agg(F.max(\"nSong\")).show()"
      ]
    },
    {
      "cell_type": "code",
      "execution_count": null,
      "metadata": {
        "id": "T00JjRijLLiP"
      },
      "outputs": [],
      "source": [
        "songs=songs.drop(\"nSong\")"
      ]
    },
    {
      "cell_type": "code",
      "execution_count": null,
      "metadata": {
        "colab": {
          "base_uri": "https://localhost:8080/"
        },
        "id": "ey-ZRFkJLLiP",
        "outputId": "63687d5f-ceab-451e-eb8f-9f2ecd2de892"
      },
      "outputs": [
        {
          "name": "stdout",
          "output_type": "stream",
          "text": [
            "+------+--------------------+\n",
            "|userId|               songs|\n",
            "+------+--------------------+\n",
            "|     2|[Roller Jubilee, ...|\n",
            "|     3|[Miracle Worker, ...|\n",
            "|     4|[Mama, Earthquake...|\n",
            "|     5|[Wildwood Flower,...|\n",
            "|     6|[Good Girls Go Ba...|\n",
            "|     7|[Not In Love, Yea...|\n",
            "|     8|[None, None, None...|\n",
            "|     9|[None, Without Me...|\n",
            "|    10|[Bartender, Suite...|\n",
            "|    11|[He Likes To Roll...|\n",
            "|    12|[None, Drown Me S...|\n",
            "|    13|[Getting Down, No...|\n",
            "|    14|[Luna, Exterminat...|\n",
            "|    15|[None, Better To ...|\n",
            "|    16|[Just A Little Bi...|\n",
            "|    17|[The Hook, Pens A...|\n",
            "|    18|[None, A Beggar O...|\n",
            "|    19|[Ordinary World, ...|\n",
            "|    20|[None, Kind Heart...|\n",
            "|    21|[None, Catch You ...|\n",
            "+------+--------------------+\n",
            "only showing top 20 rows\n",
            "\n"
          ]
        }
      ],
      "source": [
        "songs.show()"
      ]
    },
    {
      "cell_type": "markdown",
      "metadata": {
        "id": "fTUyh638LLiP"
      },
      "source": [
        "Now, we combine all together."
      ]
    },
    {
      "cell_type": "code",
      "execution_count": null,
      "metadata": {
        "id": "JhUG10XyLLiP"
      },
      "outputs": [],
      "source": [
        "data=history.orderBy('userId')\n",
        "for temp in [trajectory,userAgents,genders,artists,songs]:\n",
        "    data=data.join(temp,'userId')"
      ]
    },
    {
      "cell_type": "code",
      "execution_count": null,
      "metadata": {
        "colab": {
          "base_uri": "https://localhost:8080/"
        },
        "id": "feAClsHaLLiP",
        "outputId": "0b98a690-6c1b-4225-e2d6-93c7cd0bd3b5"
      },
      "outputs": [
        {
          "name": "stdout",
          "output_type": "stream",
          "text": [
            "-RECORD 0-------------------------\n",
            " userId    | 2                    \n",
            " history   | [NextSong, NextSo... \n",
            " churn     | 0                    \n",
            " location  | Raleigh, NC          \n",
            " userAgent | Mozilla/5.0 (Wind... \n",
            " gender    | F                    \n",
            " artists   | [Al Di Meola, Kar... \n",
            " songs     | [Roller Jubilee, ... \n",
            "-RECORD 1-------------------------\n",
            " userId    | 3                    \n",
            " history   | [NextSong, NextSo... \n",
            " churn     | 0                    \n",
            " location  | Bozeman, MT          \n",
            " userAgent | Mozilla/5.0 (Wind... \n",
            " gender    | M                    \n",
            " artists   | [Orenda Fink, Bar... \n",
            " songs     | [Miracle Worker, ... \n",
            "-RECORD 2-------------------------\n",
            " userId    | 4                    \n",
            " history   | [NextSong, NextSo... \n",
            " churn     | 0                    \n",
            " location  | Baltimore-Columbi... \n",
            " userAgent | Mozilla/5.0 (Wind... \n",
            " gender    | M                    \n",
            " artists   | [Third Day, Littl... \n",
            " songs     | [Mama, Earthquake... \n",
            "-RECORD 3-------------------------\n",
            " userId    | 5                    \n",
            " history   | [NextSong, NextSo... \n",
            " churn     | 0                    \n",
            " location  | Phoenix-Mesa-Scot... \n",
            " userAgent | Mozilla/5.0 (Wind... \n",
            " gender    | M                    \n",
            " artists   | [Joan Baez, Metri... \n",
            " songs     | [Wildwood Flower,... \n",
            "-RECORD 4-------------------------\n",
            " userId    | 6                    \n",
            " history   | [NextSong, NextSo... \n",
            " churn     | 0                    \n",
            " location  | Houston-The Woodl... \n",
            " userAgent | Mozilla/5.0 (Maci... \n",
            " gender    | M                    \n",
            " artists   | [Cobra Starship F... \n",
            " songs     | [Good Girls Go Ba... \n",
            "-RECORD 5-------------------------\n",
            " userId    | 7                    \n",
            " history   | [NextSong, NextSo... \n",
            " churn     | 0                    \n",
            " location  | Seattle-Tacoma-Be... \n",
            " userAgent | Mozilla/5.0 (Wind... \n",
            " gender    | M                    \n",
            " artists   | [Crystal Castles,... \n",
            " songs     | [Not In Love, Yea... \n",
            "-RECORD 6-------------------------\n",
            " userId    | 8                    \n",
            " history   | [Home, Add Friend... \n",
            " churn     | 0                    \n",
            " location  | St. Louis, MO-IL     \n",
            " userAgent | Mozilla/5.0 (Wind... \n",
            " gender    | F                    \n",
            " artists   | [None, None, None... \n",
            " songs     | [None, None, None... \n",
            "-RECORD 7-------------------------\n",
            " userId    | 9                    \n",
            " history   | [Home, NextSong, ... \n",
            " churn     | 0                    \n",
            " location  | Boston-Cambridge-... \n",
            " userAgent | Mozilla/5.0 (Wind... \n",
            " gender    | M                    \n",
            " artists   | [None, Eminem, Ju... \n",
            " songs     | [None, Without Me... \n",
            "-RECORD 8-------------------------\n",
            " userId    | 10                   \n",
            " history   | [NextSong, NextSo... \n",
            " churn     | 0                    \n",
            " location  | Laurel, MS           \n",
            " userAgent | Mozilla/5.0 (Maci... \n",
            " gender    | M                    \n",
            " artists   | [Alexis & Fido, C... \n",
            " songs     | [Bartender, Suite... \n",
            "-RECORD 9-------------------------\n",
            " userId    | 11                   \n",
            " history   | [NextSong, Roll A... \n",
            " churn     | 0                    \n",
            " location  | Providence-Warwic... \n",
            " userAgent | Mozilla/5.0 (Wind... \n",
            " gender    | F                    \n",
            " artists   | [Carly Simon, Non... \n",
            " songs     | [He Likes To Roll... \n",
            "-RECORD 10------------------------\n",
            " userId    | 12                   \n",
            " history   | [Home, NextSong, ... \n",
            " churn     | 0                    \n",
            " location  | Los Angeles-Long ... \n",
            " userAgent | Mozilla/5.0 (Wind... \n",
            " gender    | F                    \n",
            " artists   | [None, Audioslave... \n",
            " songs     | [None, Drown Me S... \n",
            "-RECORD 11------------------------\n",
            " userId    | 13                   \n",
            " history   | [NextSong, Roll A... \n",
            " churn     | 0                    \n",
            " location  | Philadelphia-Camd... \n",
            " userAgent | Mozilla/5.0 (iPho... \n",
            " gender    | F                    \n",
            " artists   | [The Kills, None,... \n",
            " songs     | [Getting Down, No... \n",
            "-RECORD 12------------------------\n",
            " userId    | 14                   \n",
            " history   | [NextSong, NextSo... \n",
            " churn     | 0                    \n",
            " location  | Syracuse, NY         \n",
            " userAgent | Mozilla/5.0 (Maci... \n",
            " gender    | M                    \n",
            " artists   | [Muchachito Bombo... \n",
            " songs     | [Luna, Exterminat... \n",
            "-RECORD 13------------------------\n",
            " userId    | 15                   \n",
            " history   | [Home, NextSong, ... \n",
            " churn     | 0                    \n",
            " location  | Morgantown, WV       \n",
            " userAgent | Mozilla/5.0 (Wind... \n",
            " gender    | M                    \n",
            " artists   | [None, Cradle Of ... \n",
            " songs     | [None, Better To ... \n",
            "-RECORD 14------------------------\n",
            " userId    | 16                   \n",
            " history   | [NextSong, Add to... \n",
            " churn     | 0                    \n",
            " location  | Winston-Salem, NC    \n",
            " userAgent | Mozilla/5.0 (Wind... \n",
            " gender    | F                    \n",
            " artists   | [Freddie King, No... \n",
            " songs     | [Just A Little Bi... \n",
            "-RECORD 15------------------------\n",
            " userId    | 17                   \n",
            " history   | [NextSong, NextSo... \n",
            " churn     | 1                    \n",
            " location  | Philadelphia-Camd... \n",
            " userAgent | Mozilla/5.0 (Wind... \n",
            " gender    | F                    \n",
            " artists   | [Grant Lee Buffal... \n",
            " songs     | [The Hook, Pens A... \n",
            "-RECORD 16------------------------\n",
            " userId    | 18                   \n",
            " history   | [Home, NextSong, ... \n",
            " churn     | 1                    \n",
            " location  | Kansas City, MO-KS   \n",
            " userAgent | Mozilla/5.0 (Maci... \n",
            " gender    | M                    \n",
            " artists   | [None, Mike And T... \n",
            " songs     | [None, A Beggar O... \n",
            "-RECORD 17------------------------\n",
            " userId    | 19                   \n",
            " history   | [NextSong, NextSo... \n",
            " churn     | 0                    \n",
            " location  | Dayton, OH           \n",
            " userAgent | Mozilla/5.0 (Wind... \n",
            " gender    | F                    \n",
            " artists   | [Red, Verona, Sea... \n",
            " songs     | [Ordinary World, ... \n",
            "-RECORD 18------------------------\n",
            " userId    | 20                   \n",
            " history   | [Home, NextSong, ... \n",
            " churn     | 0                    \n",
            " location  | Miami-Fort Lauder... \n",
            " userAgent | Mozilla/5.0 (Wind... \n",
            " gender    | F                    \n",
            " artists   | [None, Eric Clapt... \n",
            " songs     | [None, Kind Heart... \n",
            "-RECORD 19------------------------\n",
            " userId    | 21                   \n",
            " history   | [Home, NextSong, ... \n",
            " churn     | 0                    \n",
            " location  | Kankakee, IL         \n",
            " userAgent | Mozilla/5.0 (Wind... \n",
            " gender    | M                    \n",
            " artists   | [None, Lonnie Gor... \n",
            " songs     | [None, Catch You ... \n",
            "only showing top 20 rows\n",
            "\n"
          ]
        }
      ],
      "source": [
        "data.show(vertical=True)"
      ]
    },
    {
      "cell_type": "code",
      "execution_count": null,
      "metadata": {
        "colab": {
          "base_uri": "https://localhost:8080/"
        },
        "id": "vQ5NwwZRLLiQ",
        "outputId": "22cc95a6-2422-4a19-d024-b187ab288a69"
      },
      "outputs": [
        {
          "name": "stdout",
          "output_type": "stream",
          "text": [
            "+-----+-----+\n",
            "|churn|count|\n",
            "+-----+-----+\n",
            "|    1|   10|\n",
            "|    0|  125|\n",
            "+-----+-----+\n",
            "\n"
          ]
        }
      ],
      "source": [
        "data.groupby(\"churn\").count().show()"
      ]
    },
    {
      "cell_type": "code",
      "execution_count": null,
      "metadata": {
        "colab": {
          "base_uri": "https://localhost:8080/"
        },
        "id": "FmjH29OqLLiQ",
        "outputId": "47cc7183-e984-440f-965b-b1e5319a9cb2"
      },
      "outputs": [
        {
          "name": "stdout",
          "output_type": "stream",
          "text": [
            "+------+-----+\n",
            "|gender|count|\n",
            "+------+-----+\n",
            "|     F|   63|\n",
            "|     M|   72|\n",
            "+------+-----+\n",
            "\n"
          ]
        }
      ],
      "source": [
        "data.groupby(\"gender\").count().show()"
      ]
    },
    {
      "cell_type": "code",
      "execution_count": null,
      "metadata": {
        "colab": {
          "base_uri": "https://localhost:8080/"
        },
        "id": "PlUiNTMaLLiQ",
        "outputId": "df362300-0f5b-4aef-af12-6773a7a1eb60"
      },
      "outputs": [
        {
          "name": "stdout",
          "output_type": "stream",
          "text": [
            "+-----+------+-----+\n",
            "|churn|gender|count|\n",
            "+-----+------+-----+\n",
            "|    1|     F|    2|\n",
            "|    0|     M|   64|\n",
            "|    1|     M|    8|\n",
            "|    0|     F|   61|\n",
            "+-----+------+-----+\n",
            "\n"
          ]
        }
      ],
      "source": [
        "data.groupby([\"churn\",\"gender\"]).count().show()"
      ]
    },
    {
      "cell_type": "code",
      "execution_count": null,
      "metadata": {
        "colab": {
          "base_uri": "https://localhost:8080/"
        },
        "id": "bj7pkz7mLLiQ",
        "outputId": "a55140c0-e0bc-4445-ba53-461dd31ee7fd"
      },
      "outputs": [
        {
          "name": "stdout",
          "output_type": "stream",
          "text": [
            "+--------------------+-----+\n",
            "|            location|count|\n",
            "+--------------------+-----+\n",
            "|     Gainesville, FL|    1|\n",
            "|Atlantic City-Ham...|    1|\n",
            "|Deltona-Daytona B...|    1|\n",
            "|San Diego-Carlsba...|    1|\n",
            "|Kingsport-Bristol...|    1|\n",
            "|New Haven-Milford...|    2|\n",
            "|  Corpus Christi, TX|    1|\n",
            "|         Dubuque, IA|    1|\n",
            "|Las Vegas-Henders...|    3|\n",
            "|Indianapolis-Carm...|    2|\n",
            "|Seattle-Tacoma-Be...|    2|\n",
            "|   Winston-Salem, NC|    1|\n",
            "|Los Angeles-Long ...|    9|\n",
            "|     Bakersfield, CA|    1|\n",
            "|Minneapolis-St. P...|    1|\n",
            "|San Francisco-Oak...|    1|\n",
            "|Phoenix-Mesa-Scot...|    5|\n",
            "|Allentown-Bethleh...|    1|\n",
            "|Miami-Fort Lauder...|    2|\n",
            "|          Dayton, OH|    1|\n",
            "+--------------------+-----+\n",
            "only showing top 20 rows\n",
            "\n"
          ]
        }
      ],
      "source": [
        "data.groupby(\"location\").count().show()"
      ]
    },
    {
      "cell_type": "code",
      "execution_count": null,
      "metadata": {
        "colab": {
          "base_uri": "https://localhost:8080/"
        },
        "id": "MPgVlEDALLiQ",
        "outputId": "9154f772-637d-4eec-bf44-ac34e8c673b5"
      },
      "outputs": [
        {
          "name": "stdout",
          "output_type": "stream",
          "text": [
            "+-----+--------------------+-----+\n",
            "|churn|            location|count|\n",
            "+-----+--------------------+-----+\n",
            "|    0|Seattle-Tacoma-Be...|    2|\n",
            "|    0|    St. Louis, MO-IL|    2|\n",
            "|    0|      Morgantown, WV|    1|\n",
            "|    1|           Flint, MI|    1|\n",
            "|    0|San Diego-Carlsba...|    1|\n",
            "|    0|       Fairbanks, AK|    1|\n",
            "|    0|San Francisco-Oak...|    1|\n",
            "|    0|Minneapolis-St. P...|    1|\n",
            "|    0|         Bozeman, MT|    1|\n",
            "|    0|Los Angeles-Long ...|    9|\n",
            "|    0|        Syracuse, NY|    1|\n",
            "|    0|Spokane-Spokane V...|    1|\n",
            "|    0|New York-Newark-J...|    7|\n",
            "|    0|Riverside-San Ber...|    1|\n",
            "|    0|      Montgomery, AL|    1|\n",
            "|    0|Kingsport-Bristol...|    1|\n",
            "|    0|Indianapolis-Carm...|    1|\n",
            "|    0|Las Vegas-Henders...|    3|\n",
            "|    1|Philadelphia-Camd...|    1|\n",
            "|    1|Oxnard-Thousand O...|    1|\n",
            "+-----+--------------------+-----+\n",
            "only showing top 20 rows\n",
            "\n"
          ]
        }
      ],
      "source": [
        "data.groupby([\"churn\",\"location\"]).count().show()"
      ]
    },
    {
      "cell_type": "code",
      "execution_count": null,
      "metadata": {
        "colab": {
          "base_uri": "https://localhost:8080/"
        },
        "id": "l2fW5RrRLLiQ",
        "outputId": "d3a34518-a632-43cb-f3ed-bc6d411e6955"
      },
      "outputs": [
        {
          "name": "stdout",
          "output_type": "stream",
          "text": [
            "+--------------------+-----+\n",
            "|           userAgent|count|\n",
            "+--------------------+-----+\n",
            "|Mozilla/5.0 (Wind...|   16|\n",
            "|Mozilla/5.0 (Wind...|    5|\n",
            "|Mozilla/5.0 (Maci...|    1|\n",
            "|Mozilla/5.0 (X11;...|    1|\n",
            "|Mozilla/5.0 (X11;...|    1|\n",
            "|Mozilla/5.0 (Wind...|    1|\n",
            "|Mozilla/5.0 (Maci...|    1|\n",
            "|Mozilla/5.0 (Maci...|   10|\n",
            "|Mozilla/5.0 (Wind...|    1|\n",
            "|Mozilla/5.0 (Wind...|    4|\n",
            "|Mozilla/5.0 (comp...|    2|\n",
            "|Mozilla/5.0 (Maci...|    3|\n",
            "|Mozilla/5.0 (Wind...|    3|\n",
            "|Mozilla/5.0 (Wind...|   15|\n",
            "|Mozilla/5.0 (Maci...|    1|\n",
            "|Mozilla/5.0 (X11;...|    1|\n",
            "|Mozilla/5.0 (comp...|    1|\n",
            "|Mozilla/5.0 (Maci...|    1|\n",
            "|Mozilla/5.0 (Maci...|    1|\n",
            "|Mozilla/5.0 (Wind...|    1|\n",
            "+--------------------+-----+\n",
            "only showing top 20 rows\n",
            "\n"
          ]
        }
      ],
      "source": [
        "data.groupby(\"userAgent\").count().show()"
      ]
    },
    {
      "cell_type": "code",
      "execution_count": null,
      "metadata": {
        "colab": {
          "base_uri": "https://localhost:8080/"
        },
        "id": "Uy8AnUF9LLiR",
        "outputId": "183f4aa4-aa0b-4b20-b027-8c7b32f9d19a"
      },
      "outputs": [
        {
          "name": "stdout",
          "output_type": "stream",
          "text": [
            "+-----+--------------------+-----+\n",
            "|churn|           userAgent|count|\n",
            "+-----+--------------------+-----+\n",
            "|    0|Mozilla/5.0 (Wind...|    1|\n",
            "|    0|Mozilla/5.0 (iPho...|    1|\n",
            "|    0|Mozilla/5.0 (Maci...|    1|\n",
            "|    0|Mozilla/5.0 (Wind...|    5|\n",
            "|    0|Mozilla/5.0 (X11;...|    1|\n",
            "|    0|Mozilla/5.0 (Wind...|    1|\n",
            "|    0|Mozilla/5.0 (Maci...|    1|\n",
            "|    0|Mozilla/5.0 (Maci...|    1|\n",
            "|    0|Mozilla/5.0 (Wind...|    4|\n",
            "|    0|Mozilla/5.0 (Maci...|    7|\n",
            "|    0|Mozilla/5.0 (Wind...|    5|\n",
            "|    0|Mozilla/5.0 (comp...|    2|\n",
            "|    0|Mozilla/5.0 (Wind...|    1|\n",
            "|    0|Mozilla/5.0 (Wind...|    2|\n",
            "|    1|Mozilla/5.0 (Wind...|    1|\n",
            "|    0|Mozilla/5.0 (Maci...|    9|\n",
            "|    0|Mozilla/5.0 (Maci...|    1|\n",
            "|    0|Mozilla/5.0 (Maci...|    1|\n",
            "|    0|Mozilla/5.0 (iPho...|    1|\n",
            "|    0|Mozilla/5.0 (comp...|    1|\n",
            "+-----+--------------------+-----+\n",
            "only showing top 20 rows\n",
            "\n"
          ]
        }
      ],
      "source": [
        "data.groupby([\"churn\",\"userAgent\"]).count().show()"
      ]
    },
    {
      "cell_type": "markdown",
      "metadata": {
        "id": "zAHHd-POLLiR"
      },
      "source": [
        "# Feature Engineering\n",
        "Once you've familiarized yourself with the data, build out the features you find promising to train your model on. To work with the full dataset, you can follow the following steps.\n",
        "- Write a script to extract the necessary features from the smaller subset of data\n",
        "- Ensure that your script is scalable, using the best practices discussed in Lesson 3\n",
        "- Try your script on the full data set, debugging your script if necessary\n",
        "\n",
        "If you are working in the classroom workspace, you can just extract features based on the small subset of data contained here. Be sure to transfer over this work to the larger dataset when you work on your Spark cluster."
      ]
    },
    {
      "cell_type": "code",
      "execution_count": null,
      "metadata": {
        "id": "tjgCgNX8LLiR"
      },
      "outputs": [],
      "source": [
        "@F.udf(returnType=T.ArrayType(T.StringType()))\n",
        "def remove(x):\n",
        "\n",
        "    while True:\n",
        "        try:\n",
        "            x.remove('Cancellation Confirmation')\n",
        "        except ValueError:\n",
        "            break\n",
        "\n",
        "    return x"
      ]
    },
    {
      "cell_type": "code",
      "execution_count": null,
      "metadata": {
        "id": "d8XRPpLDLLiR"
      },
      "outputs": [],
      "source": [
        "data=data.withColumn(\"history\",remove(\"history\"))"
      ]
    },
    {
      "cell_type": "code",
      "execution_count": null,
      "metadata": {
        "colab": {
          "base_uri": "https://localhost:8080/"
        },
        "id": "2Vh78kHELLiR",
        "outputId": "7340d2b8-0032-4415-905c-46e5d3c6ca18"
      },
      "outputs": [
        {
          "name": "stdout",
          "output_type": "stream",
          "text": [
            "-RECORD 0-------------------------\n",
            " userId    | 2                    \n",
            " history   | [NextSong, NextSo... \n",
            " churn     | 0                    \n",
            " location  | Raleigh, NC          \n",
            " userAgent | Mozilla/5.0 (Wind... \n",
            " gender    | F                    \n",
            " artists   | [Al Di Meola, Kar... \n",
            " songs     | [Roller Jubilee, ... \n",
            "-RECORD 1-------------------------\n",
            " userId    | 3                    \n",
            " history   | [NextSong, NextSo... \n",
            " churn     | 0                    \n",
            " location  | Bozeman, MT          \n",
            " userAgent | Mozilla/5.0 (Wind... \n",
            " gender    | M                    \n",
            " artists   | [Orenda Fink, Bar... \n",
            " songs     | [Miracle Worker, ... \n",
            "-RECORD 2-------------------------\n",
            " userId    | 4                    \n",
            " history   | [NextSong, NextSo... \n",
            " churn     | 0                    \n",
            " location  | Baltimore-Columbi... \n",
            " userAgent | Mozilla/5.0 (Wind... \n",
            " gender    | M                    \n",
            " artists   | [Third Day, Littl... \n",
            " songs     | [Mama, Earthquake... \n",
            "only showing top 3 rows\n",
            "\n"
          ]
        }
      ],
      "source": [
        "data.show(vertical=True,n=3)"
      ]
    },
    {
      "cell_type": "code",
      "execution_count": null,
      "metadata": {
        "id": "-y6N5CgZLLiR"
      },
      "outputs": [],
      "source": [
        "data.write.mode(\"overwrite\").json(\"traited_data.json\")"
      ]
    },
    {
      "cell_type": "code",
      "execution_count": null,
      "metadata": {
        "colab": {
          "base_uri": "https://localhost:8080/"
        },
        "id": "X641zgIKLLiR",
        "outputId": "2a1edb47-da2d-4ba5-a82c-decff6559085"
      },
      "outputs": [
        {
          "name": "stdout",
          "output_type": "stream",
          "text": [
            "\tzip warning: data.zip not found or empty\n",
            "  adding: traited_data.json/ (stored 0%)\n",
            "  adding: traited_data.json/.part-00000-f7b9c656-81a3-403e-abb9-7167c9bf8594-c000.json.crc (stored 0%)\n",
            "  adding: traited_data.json/part-00000-f7b9c656-81a3-403e-abb9-7167c9bf8594-c000.json (deflated 69%)\n",
            "  adding: traited_data.json/_SUCCESS (stored 0%)\n",
            "  adding: traited_data.json/._SUCCESS.crc (stored 0%)\n"
          ]
        }
      ],
      "source": [
        "!zip -u -r data.zip traited_data.json"
      ]
    },
    {
      "cell_type": "markdown",
      "metadata": {
        "id": "2oTYtqcyLLiR"
      },
      "source": [
        "# Modeling\n",
        "Split the full dataset into train, test, and validation sets. Test out several of the machine learning methods you learned. Evaluate the accuracy of the various models, tuning parameters as necessary. Determine your winning model based on test accuracy and report results on the validation set. Since the churned users are a fairly small subset, I suggest using F1 score as the metric to optimize."
      ]
    },
    {
      "cell_type": "code",
      "execution_count": null,
      "metadata": {
        "colab": {
          "base_uri": "https://localhost:8080/"
        },
        "id": "N6LDxqCmLLiS",
        "outputId": "9be6b4e4-2f49-42f6-84f8-7255070cfac6"
      },
      "outputs": [
        {
          "name": "stdout",
          "output_type": "stream",
          "text": [
            "Archive:  data.zip\n"
          ]
        }
      ],
      "source": [
        "!unzip -u data.zip"
      ]
    },
    {
      "cell_type": "code",
      "execution_count": null,
      "metadata": {
        "id": "mBA6ajhbLLiS"
      },
      "outputs": [],
      "source": [
        "data=spark.read.json(\"traited_data.json\")"
      ]
    },
    {
      "cell_type": "code",
      "execution_count": null,
      "metadata": {
        "id": "N2KGg_bpLLiS"
      },
      "outputs": [],
      "source": [
        "cvHist = ft.CountVectorizer(inputCol=\"history\", outputCol=\"cvHistory\")\n",
        "idfHist = ft.IDF(inputCol=\"cvHistory\", outputCol=\"idfHistory\")"
      ]
    },
    {
      "cell_type": "code",
      "execution_count": null,
      "metadata": {
        "id": "IXeXN40vLLiS"
      },
      "outputs": [],
      "source": [
        "userAgentW = ft.Tokenizer(inputCol=\"userAgent\", outputCol=\"userAgentWords\")\n",
        "cvUserAgent = ft.CountVectorizer(inputCol=\"userAgentWords\",outputCol=\"userAgentCV\")\n",
        "idfUserAgent = ft.IDF(inputCol=\"userAgentCV\",outputCol=\"userAgentIDF\")"
      ]
    },
    {
      "cell_type": "code",
      "execution_count": null,
      "metadata": {
        "id": "BeH3FZFDLLiS"
      },
      "outputs": [],
      "source": [
        "cvArtist = ft.CountVectorizer(inputCol=\"artists\", outputCol=\"artistCV\")\n",
        "idfArtist = ft.IDF(inputCol=\"artistCV\", outputCol=\"artistIDF\")"
      ]
    },
    {
      "cell_type": "code",
      "execution_count": null,
      "metadata": {
        "id": "5k2W2GARLLiS"
      },
      "outputs": [],
      "source": [
        "cvSong = ft.CountVectorizer(inputCol=\"songs\", outputCol=\"songCV\")\n",
        "idfSong = ft.IDF(inputCol=\"songCV\", outputCol=\"songIDF\")"
      ]
    },
    {
      "cell_type": "code",
      "execution_count": null,
      "metadata": {
        "id": "23_S5bnULLiS"
      },
      "outputs": [],
      "source": [
        "stGender = ft.StringIndexer(inputCol=\"gender\", outputCol=\"indexGender\")\n",
        "HotGender = ft.OneHotEncoder(inputCol=\"indexGender\", outputCol=\"hotGender\")"
      ]
    },
    {
      "cell_type": "code",
      "execution_count": null,
      "metadata": {
        "id": "EpBIia0zLLiT"
      },
      "outputs": [],
      "source": [
        "stLoc = ft.StringIndexer(inputCol=\"location\", outputCol=\"indexLocation\", handleInvalid=\"keep\")\n",
        "HotLoc = ft.OneHotEncoder(inputCol=\"indexLocation\", outputCol=\"hotLocation\")"
      ]
    },
    {
      "cell_type": "code",
      "execution_count": null,
      "metadata": {
        "id": "LxRj0l0yLLiT"
      },
      "outputs": [],
      "source": [
        "vectAssembler = ft.VectorAssembler(inputCols=[\"idfHistory\",\"hotLocation\", \"userAgentIDF\",\n",
        "                                              \"songIDF\",\"songCV\", \"hotGender\"],\n",
        "                              outputCol=\"features\")"
      ]
    },
    {
      "cell_type": "code",
      "execution_count": null,
      "metadata": {
        "id": "xiRBpta5LLiT"
      },
      "outputs": [],
      "source": [
        "clf=cl.RandomForestClassifier(labelCol=\"churn\")"
      ]
    },
    {
      "cell_type": "code",
      "execution_count": null,
      "metadata": {
        "id": "1WSknSYmLLiT"
      },
      "outputs": [],
      "source": [
        "pipeline= Pipeline(stages=[cvHist, idfHist,\n",
        "                           cvArtist, idfArtist,\n",
        "                           cvSong, idfSong,\n",
        "                           stGender, HotGender,\n",
        "                           stLoc, HotLoc,\n",
        "                           userAgentW, cvUserAgent, idfUserAgent,\n",
        "                           vectAssembler,\n",
        "                           clf\n",
        "                         ]\n",
        "                 )"
      ]
    },
    {
      "cell_type": "code",
      "execution_count": null,
      "metadata": {
        "id": "xiYMEo4tLLiT"
      },
      "outputs": [],
      "source": [
        "evaluator=MulticlassClassificationEvaluator(labelCol=\"churn\",metricName=\"f1\")"
      ]
    },
    {
      "cell_type": "code",
      "execution_count": null,
      "metadata": {
        "id": "EFzKQRlkLLiT"
      },
      "outputs": [],
      "source": [
        "train, test =data.randomSplit([0.8,0.2])"
      ]
    },
    {
      "cell_type": "code",
      "execution_count": null,
      "metadata": {
        "id": "XMpnC1VPLLiT"
      },
      "outputs": [],
      "source": [
        "paramGrid= ParamGridBuilder() \\\n",
        "    .baseOn({clf.numTrees:1000}) \\\n",
        "    .addGrid(clf.maxDepth,list(range(5,31,5))) \\\n",
        "    .build()"
      ]
    },
    {
      "cell_type": "code",
      "execution_count": null,
      "metadata": {
        "id": "p4ONbnF-LLiU"
      },
      "outputs": [],
      "source": [
        "crossval = CrossValidator(estimator=pipeline,\n",
        "                          estimatorParamMaps=paramGrid,\n",
        "                          evaluator=evaluator,\n",
        "                         )"
      ]
    },
    {
      "cell_type": "code",
      "execution_count": null,
      "metadata": {
        "id": "kncIPWmdLLiU"
      },
      "outputs": [],
      "source": [
        "dt=time.time()"
      ]
    },
    {
      "cell_type": "code",
      "execution_count": null,
      "metadata": {
        "id": "jORqZ41SLLiU"
      },
      "outputs": [],
      "source": [
        "cvModel=crossval.fit(train)"
      ]
    },
    {
      "cell_type": "code",
      "execution_count": null,
      "metadata": {
        "colab": {
          "base_uri": "https://localhost:8080/"
        },
        "id": "qgz6Nz2RLLiU",
        "outputId": "2693735a-3c9e-4b90-86e8-1fa75ae0d0b0"
      },
      "outputs": [
        {
          "data": {
            "text/plain": [
              "0.12036259664429559"
            ]
          },
          "execution_count": 97,
          "metadata": {},
          "output_type": "execute_result"
        }
      ],
      "source": [
        "(time.time()-dt)/3600"
      ]
    },
    {
      "cell_type": "code",
      "execution_count": null,
      "metadata": {
        "id": "Wv2DaOpWLLiU"
      },
      "outputs": [],
      "source": [
        "cvModel.bestModel.write().overwrite().save(\"bestModel\")"
      ]
    },
    {
      "cell_type": "code",
      "execution_count": null,
      "metadata": {
        "colab": {
          "base_uri": "https://localhost:8080/"
        },
        "id": "vHufUQ5PLLiU",
        "outputId": "6a1a4911-9b1c-4108-f074-b3f670ccb7f3"
      },
      "outputs": [
        {
          "name": "stdout",
          "output_type": "stream",
          "text": [
            "\tzip warning: bestModel.zip not found or empty\n",
            "  adding: bestModel/ (stored 0%)\n",
            "  adding: bestModel/metadata/ (stored 0%)\n",
            "  adding: bestModel/metadata/part-00000 (deflated 39%)\n",
            "  adding: bestModel/metadata/.part-00000.crc (stored 0%)\n",
            "  adding: bestModel/metadata/_SUCCESS (stored 0%)\n",
            "  adding: bestModel/metadata/._SUCCESS.crc (stored 0%)\n",
            "  adding: bestModel/stages/ (stored 0%)\n",
            "  adding: bestModel/stages/14_RandomForestClassifier_06e8be3d9d94/ (stored 0%)\n",
            "  adding: bestModel/stages/14_RandomForestClassifier_06e8be3d9d94/treesMetadata/ (stored 0%)\n",
            "  adding: bestModel/stages/14_RandomForestClassifier_06e8be3d9d94/treesMetadata/.part-00000-285bb550-015a-41d3-9dc7-2f17b91fdd03-c000.snappy.parquet.crc (stored 0%)\n",
            "  adding: bestModel/stages/14_RandomForestClassifier_06e8be3d9d94/treesMetadata/part-00000-285bb550-015a-41d3-9dc7-2f17b91fdd03-c000.snappy.parquet (deflated 26%)\n",
            "  adding: bestModel/stages/14_RandomForestClassifier_06e8be3d9d94/treesMetadata/_SUCCESS (stored 0%)\n",
            "  adding: bestModel/stages/14_RandomForestClassifier_06e8be3d9d94/treesMetadata/._SUCCESS.crc (stored 0%)\n",
            "  adding: bestModel/stages/14_RandomForestClassifier_06e8be3d9d94/data/ (stored 0%)\n",
            "  adding: bestModel/stages/14_RandomForestClassifier_06e8be3d9d94/data/.part-00000-0e29755f-9a6b-40d6-b2a8-b9081fcc53b9-c000.snappy.parquet.crc (stored 0%)\n",
            "  adding: bestModel/stages/14_RandomForestClassifier_06e8be3d9d94/data/part-00000-0e29755f-9a6b-40d6-b2a8-b9081fcc53b9-c000.snappy.parquet (deflated 14%)\n",
            "  adding: bestModel/stages/14_RandomForestClassifier_06e8be3d9d94/data/_SUCCESS (stored 0%)\n",
            "  adding: bestModel/stages/14_RandomForestClassifier_06e8be3d9d94/data/._SUCCESS.crc (stored 0%)\n",
            "  adding: bestModel/stages/14_RandomForestClassifier_06e8be3d9d94/metadata/ (stored 0%)\n",
            "  adding: bestModel/stages/14_RandomForestClassifier_06e8be3d9d94/metadata/part-00000 (deflated 43%)\n",
            "  adding: bestModel/stages/14_RandomForestClassifier_06e8be3d9d94/metadata/.part-00000.crc (stored 0%)\n",
            "  adding: bestModel/stages/14_RandomForestClassifier_06e8be3d9d94/metadata/_SUCCESS (stored 0%)\n",
            "  adding: bestModel/stages/14_RandomForestClassifier_06e8be3d9d94/metadata/._SUCCESS.crc (stored 0%)\n",
            "  adding: bestModel/stages/04_CountVectorizer_1268b13e52bd/ (stored 0%)\n",
            "  adding: bestModel/stages/04_CountVectorizer_1268b13e52bd/data/ (stored 0%)\n",
            "  adding: bestModel/stages/04_CountVectorizer_1268b13e52bd/data/.part-00000-0b24e1c9-4238-4896-8a6c-83a492ba8458-c000.snappy.parquet.crc (stored 0%)\n",
            "  adding: bestModel/stages/04_CountVectorizer_1268b13e52bd/data/_SUCCESS (stored 0%)\n",
            "  adding: bestModel/stages/04_CountVectorizer_1268b13e52bd/data/part-00000-0b24e1c9-4238-4896-8a6c-83a492ba8458-c000.snappy.parquet (deflated 14%)\n",
            "  adding: bestModel/stages/04_CountVectorizer_1268b13e52bd/data/._SUCCESS.crc (stored 0%)\n",
            "  adding: bestModel/stages/04_CountVectorizer_1268b13e52bd/metadata/ (stored 0%)\n",
            "  adding: bestModel/stages/04_CountVectorizer_1268b13e52bd/metadata/part-00000 (deflated 35%)\n",
            "  adding: bestModel/stages/04_CountVectorizer_1268b13e52bd/metadata/.part-00000.crc (stored 0%)\n",
            "  adding: bestModel/stages/04_CountVectorizer_1268b13e52bd/metadata/_SUCCESS (stored 0%)\n",
            "  adding: bestModel/stages/04_CountVectorizer_1268b13e52bd/metadata/._SUCCESS.crc (stored 0%)\n",
            "  adding: bestModel/stages/09_OneHotEncoder_68b83f289aec/ (stored 0%)\n",
            "  adding: bestModel/stages/09_OneHotEncoder_68b83f289aec/data/ (stored 0%)\n",
            "  adding: bestModel/stages/09_OneHotEncoder_68b83f289aec/data/part-00000-ee4e87b5-a639-40ba-a65e-fc685d1ba899-c000.snappy.parquet (deflated 29%)\n",
            "  adding: bestModel/stages/09_OneHotEncoder_68b83f289aec/data/.part-00000-ee4e87b5-a639-40ba-a65e-fc685d1ba899-c000.snappy.parquet.crc (stored 0%)\n",
            "  adding: bestModel/stages/09_OneHotEncoder_68b83f289aec/data/_SUCCESS (stored 0%)\n",
            "  adding: bestModel/stages/09_OneHotEncoder_68b83f289aec/data/._SUCCESS.crc (stored 0%)\n",
            "  adding: bestModel/stages/09_OneHotEncoder_68b83f289aec/metadata/ (stored 0%)\n",
            "  adding: bestModel/stages/09_OneHotEncoder_68b83f289aec/metadata/part-00000 (deflated 36%)\n",
            "  adding: bestModel/stages/09_OneHotEncoder_68b83f289aec/metadata/.part-00000.crc (stored 0%)\n",
            "  adding: bestModel/stages/09_OneHotEncoder_68b83f289aec/metadata/_SUCCESS (stored 0%)\n",
            "  adding: bestModel/stages/09_OneHotEncoder_68b83f289aec/metadata/._SUCCESS.crc (stored 0%)\n",
            "  adding: bestModel/stages/06_StringIndexer_e15553c8a33e/ (stored 0%)\n",
            "  adding: bestModel/stages/06_StringIndexer_e15553c8a33e/data/ (stored 0%)\n",
            "  adding: bestModel/stages/06_StringIndexer_e15553c8a33e/data/part-00000-f52a1bcd-a96c-4eb2-b9bf-898672896bea-c000.snappy.parquet (deflated 35%)\n",
            "  adding: bestModel/stages/06_StringIndexer_e15553c8a33e/data/.part-00000-f52a1bcd-a96c-4eb2-b9bf-898672896bea-c000.snappy.parquet.crc (stored 0%)\n",
            "  adding: bestModel/stages/06_StringIndexer_e15553c8a33e/data/_SUCCESS (stored 0%)\n",
            "  adding: bestModel/stages/06_StringIndexer_e15553c8a33e/data/._SUCCESS.crc (stored 0%)\n",
            "  adding: bestModel/stages/06_StringIndexer_e15553c8a33e/metadata/ (stored 0%)\n",
            "  adding: bestModel/stages/06_StringIndexer_e15553c8a33e/metadata/part-00000 (deflated 36%)\n",
            "  adding: bestModel/stages/06_StringIndexer_e15553c8a33e/metadata/.part-00000.crc (stored 0%)\n",
            "  adding: bestModel/stages/06_StringIndexer_e15553c8a33e/metadata/_SUCCESS (stored 0%)\n",
            "  adding: bestModel/stages/06_StringIndexer_e15553c8a33e/metadata/._SUCCESS.crc (stored 0%)\n",
            "  adding: bestModel/stages/01_IDF_c79ab5f5d675/ (stored 0%)\n",
            "  adding: bestModel/stages/01_IDF_c79ab5f5d675/data/ (stored 0%)\n",
            "  adding: bestModel/stages/01_IDF_c79ab5f5d675/data/part-00000-6db632e2-6559-4845-9ed7-9774a8f9a846-c000.snappy.parquet (deflated 51%)\n",
            "  adding: bestModel/stages/01_IDF_c79ab5f5d675/data/.part-00000-6db632e2-6559-4845-9ed7-9774a8f9a846-c000.snappy.parquet.crc (stored 0%)\n",
            "  adding: bestModel/stages/01_IDF_c79ab5f5d675/data/_SUCCESS (stored 0%)\n",
            "  adding: bestModel/stages/01_IDF_c79ab5f5d675/data/._SUCCESS.crc (stored 0%)\n",
            "  adding: bestModel/stages/01_IDF_c79ab5f5d675/metadata/ (stored 0%)\n",
            "  adding: bestModel/stages/01_IDF_c79ab5f5d675/metadata/part-00000 (deflated 31%)\n",
            "  adding: bestModel/stages/01_IDF_c79ab5f5d675/metadata/.part-00000.crc (stored 0%)\n",
            "  adding: bestModel/stages/01_IDF_c79ab5f5d675/metadata/_SUCCESS (stored 0%)\n",
            "  adding: bestModel/stages/01_IDF_c79ab5f5d675/metadata/._SUCCESS.crc (stored 0%)\n",
            "  adding: bestModel/stages/08_StringIndexer_5aa9ab1eaefe/ (stored 0%)\n",
            "  adding: bestModel/stages/08_StringIndexer_5aa9ab1eaefe/data/ (stored 0%)\n",
            "  adding: bestModel/stages/08_StringIndexer_5aa9ab1eaefe/data/.part-00000-3ad96eeb-8ba7-4bed-b5c1-8e0dbaf97394-c000.snappy.parquet.crc (stored 0%)\n",
            "  adding: bestModel/stages/08_StringIndexer_5aa9ab1eaefe/data/part-00000-3ad96eeb-8ba7-4bed-b5c1-8e0dbaf97394-c000.snappy.parquet (deflated 29%)\n",
            "  adding: bestModel/stages/08_StringIndexer_5aa9ab1eaefe/data/_SUCCESS (stored 0%)\n",
            "  adding: bestModel/stages/08_StringIndexer_5aa9ab1eaefe/data/._SUCCESS.crc (stored 0%)\n",
            "  adding: bestModel/stages/08_StringIndexer_5aa9ab1eaefe/metadata/ (stored 0%)\n",
            "  adding: bestModel/stages/08_StringIndexer_5aa9ab1eaefe/metadata/part-00000 (deflated 39%)\n",
            "  adding: bestModel/stages/08_StringIndexer_5aa9ab1eaefe/metadata/.part-00000.crc (stored 0%)\n",
            "  adding: bestModel/stages/08_StringIndexer_5aa9ab1eaefe/metadata/_SUCCESS (stored 0%)\n",
            "  adding: bestModel/stages/08_StringIndexer_5aa9ab1eaefe/metadata/._SUCCESS.crc (stored 0%)\n",
            "  adding: bestModel/stages/03_IDF_5538a28a2055/ (stored 0%)\n",
            "  adding: bestModel/stages/03_IDF_5538a28a2055/data/ (stored 0%)\n",
            "  adding: bestModel/stages/03_IDF_5538a28a2055/data/part-00000-794d26da-35cc-4aaf-91a0-81b7e9653ccc-c000.snappy.parquet (deflated 55%)\n",
            "  adding: bestModel/stages/03_IDF_5538a28a2055/data/.part-00000-794d26da-35cc-4aaf-91a0-81b7e9653ccc-c000.snappy.parquet.crc (stored 0%)\n",
            "  adding: bestModel/stages/03_IDF_5538a28a2055/data/_SUCCESS (stored 0%)\n",
            "  adding: bestModel/stages/03_IDF_5538a28a2055/data/._SUCCESS.crc (stored 0%)\n",
            "  adding: bestModel/stages/03_IDF_5538a28a2055/metadata/ (stored 0%)\n",
            "  adding: bestModel/stages/03_IDF_5538a28a2055/metadata/part-00000 (deflated 32%)\n",
            "  adding: bestModel/stages/03_IDF_5538a28a2055/metadata/.part-00000.crc (stored 0%)\n",
            "  adding: bestModel/stages/03_IDF_5538a28a2055/metadata/_SUCCESS (stored 0%)\n",
            "  adding: bestModel/stages/03_IDF_5538a28a2055/metadata/._SUCCESS.crc (stored 0%)\n",
            "  adding: bestModel/stages/07_OneHotEncoder_9ff0fd1dfcb5/ (stored 0%)\n",
            "  adding: bestModel/stages/07_OneHotEncoder_9ff0fd1dfcb5/data/ (stored 0%)\n",
            "  adding: bestModel/stages/07_OneHotEncoder_9ff0fd1dfcb5/data/part-00000-80ea5a7a-c6ec-44b5-9848-cb9391ca7402-c000.snappy.parquet (deflated 29%)\n",
            "  adding: bestModel/stages/07_OneHotEncoder_9ff0fd1dfcb5/data/.part-00000-80ea5a7a-c6ec-44b5-9848-cb9391ca7402-c000.snappy.parquet.crc (stored 0%)\n",
            "  adding: bestModel/stages/07_OneHotEncoder_9ff0fd1dfcb5/data/_SUCCESS (stored 0%)\n",
            "  adding: bestModel/stages/07_OneHotEncoder_9ff0fd1dfcb5/data/._SUCCESS.crc (stored 0%)\n",
            "  adding: bestModel/stages/07_OneHotEncoder_9ff0fd1dfcb5/metadata/ (stored 0%)\n",
            "  adding: bestModel/stages/07_OneHotEncoder_9ff0fd1dfcb5/metadata/part-00000 (deflated 35%)\n",
            "  adding: bestModel/stages/07_OneHotEncoder_9ff0fd1dfcb5/metadata/.part-00000.crc (stored 0%)\n",
            "  adding: bestModel/stages/07_OneHotEncoder_9ff0fd1dfcb5/metadata/_SUCCESS (stored 0%)\n",
            "  adding: bestModel/stages/07_OneHotEncoder_9ff0fd1dfcb5/metadata/._SUCCESS.crc (stored 0%)\n",
            "  adding: bestModel/stages/13_VectorAssembler_d10205d1f20f/ (stored 0%)\n",
            "  adding: bestModel/stages/13_VectorAssembler_d10205d1f20f/metadata/ (stored 0%)\n",
            "  adding: bestModel/stages/13_VectorAssembler_d10205d1f20f/metadata/part-00000 (deflated 36%)\n",
            "  adding: bestModel/stages/13_VectorAssembler_d10205d1f20f/metadata/.part-00000.crc (stored 0%)\n",
            "  adding: bestModel/stages/13_VectorAssembler_d10205d1f20f/metadata/_SUCCESS (stored 0%)\n",
            "  adding: bestModel/stages/13_VectorAssembler_d10205d1f20f/metadata/._SUCCESS.crc (stored 0%)\n",
            "  adding: bestModel/stages/12_IDF_ff322648f106/ (stored 0%)\n",
            "  adding: bestModel/stages/12_IDF_ff322648f106/data/ (stored 0%)\n",
            "  adding: bestModel/stages/12_IDF_ff322648f106/data/part-00000-94f2d10b-be3e-4b06-a664-7ebad10fad97-c000.snappy.parquet (deflated 50%)\n",
            "  adding: bestModel/stages/12_IDF_ff322648f106/data/.part-00000-94f2d10b-be3e-4b06-a664-7ebad10fad97-c000.snappy.parquet.crc (stored 0%)\n",
            "  adding: bestModel/stages/12_IDF_ff322648f106/data/_SUCCESS (stored 0%)\n",
            "  adding: bestModel/stages/12_IDF_ff322648f106/data/._SUCCESS.crc (stored 0%)\n",
            "  adding: bestModel/stages/12_IDF_ff322648f106/metadata/ (stored 0%)\n",
            "  adding: bestModel/stages/12_IDF_ff322648f106/metadata/part-00000 (deflated 32%)\n",
            "  adding: bestModel/stages/12_IDF_ff322648f106/metadata/.part-00000.crc (stored 0%)\n",
            "  adding: bestModel/stages/12_IDF_ff322648f106/metadata/_SUCCESS (stored 0%)\n",
            "  adding: bestModel/stages/12_IDF_ff322648f106/metadata/._SUCCESS.crc (stored 0%)\n",
            "  adding: bestModel/stages/05_IDF_779f3b4c9df2/ (stored 0%)\n",
            "  adding: bestModel/stages/05_IDF_779f3b4c9df2/data/ (stored 0%)\n",
            "  adding: bestModel/stages/05_IDF_779f3b4c9df2/data/part-00000-5447ce41-bee8-468f-a61d-6e23eef589f8-c000.snappy.parquet (deflated 51%)\n",
            "  adding: bestModel/stages/05_IDF_779f3b4c9df2/data/.part-00000-5447ce41-bee8-468f-a61d-6e23eef589f8-c000.snappy.parquet.crc (stored 0%)\n",
            "  adding: bestModel/stages/05_IDF_779f3b4c9df2/data/_SUCCESS (stored 0%)\n",
            "  adding: bestModel/stages/05_IDF_779f3b4c9df2/data/._SUCCESS.crc (stored 0%)\n",
            "  adding: bestModel/stages/05_IDF_779f3b4c9df2/metadata/ (stored 0%)\n",
            "  adding: bestModel/stages/05_IDF_779f3b4c9df2/metadata/part-00000 (deflated 31%)\n",
            "  adding: bestModel/stages/05_IDF_779f3b4c9df2/metadata/.part-00000.crc (stored 0%)\n",
            "  adding: bestModel/stages/05_IDF_779f3b4c9df2/metadata/_SUCCESS (stored 0%)\n",
            "  adding: bestModel/stages/05_IDF_779f3b4c9df2/metadata/._SUCCESS.crc (stored 0%)\n",
            "  adding: bestModel/stages/10_Tokenizer_86be89f54f7d/ (stored 0%)\n",
            "  adding: bestModel/stages/10_Tokenizer_86be89f54f7d/metadata/ (stored 0%)\n",
            "  adding: bestModel/stages/10_Tokenizer_86be89f54f7d/metadata/part-00000 (deflated 36%)\n",
            "  adding: bestModel/stages/10_Tokenizer_86be89f54f7d/metadata/.part-00000.crc (stored 0%)\n",
            "  adding: bestModel/stages/10_Tokenizer_86be89f54f7d/metadata/_SUCCESS (stored 0%)\n",
            "  adding: bestModel/stages/10_Tokenizer_86be89f54f7d/metadata/._SUCCESS.crc (stored 0%)\n",
            "  adding: bestModel/stages/02_CountVectorizer_f70b3e6432f0/ (stored 0%)\n",
            "  adding: bestModel/stages/02_CountVectorizer_f70b3e6432f0/data/ (stored 0%)\n",
            "  adding: bestModel/stages/02_CountVectorizer_f70b3e6432f0/data/part-00000-2e42eec4-4c4b-4f95-a8ad-3df24d61157b-c000.snappy.parquet (deflated 15%)\n",
            "  adding: bestModel/stages/02_CountVectorizer_f70b3e6432f0/data/.part-00000-2e42eec4-4c4b-4f95-a8ad-3df24d61157b-c000.snappy.parquet.crc (stored 0%)\n",
            "  adding: bestModel/stages/02_CountVectorizer_f70b3e6432f0/data/_SUCCESS (stored 0%)\n",
            "  adding: bestModel/stages/02_CountVectorizer_f70b3e6432f0/data/._SUCCESS.crc (stored 0%)\n",
            "  adding: bestModel/stages/02_CountVectorizer_f70b3e6432f0/metadata/ (stored 0%)\n",
            "  adding: bestModel/stages/02_CountVectorizer_f70b3e6432f0/metadata/part-00000 (deflated 36%)\n",
            "  adding: bestModel/stages/02_CountVectorizer_f70b3e6432f0/metadata/.part-00000.crc (stored 0%)\n",
            "  adding: bestModel/stages/02_CountVectorizer_f70b3e6432f0/metadata/_SUCCESS (stored 0%)\n",
            "  adding: bestModel/stages/02_CountVectorizer_f70b3e6432f0/metadata/._SUCCESS.crc (stored 0%)\n",
            "  adding: bestModel/stages/00_CountVectorizer_71b2cd9011f7/ (stored 0%)\n",
            "  adding: bestModel/stages/00_CountVectorizer_71b2cd9011f7/data/ (stored 0%)\n",
            "  adding: bestModel/stages/00_CountVectorizer_71b2cd9011f7/data/part-00000-fcd409d1-3561-448e-b2e9-7db21977d3b4-c000.snappy.parquet (deflated 25%)\n",
            "  adding: bestModel/stages/00_CountVectorizer_71b2cd9011f7/data/.part-00000-fcd409d1-3561-448e-b2e9-7db21977d3b4-c000.snappy.parquet.crc (stored 0%)\n",
            "  adding: bestModel/stages/00_CountVectorizer_71b2cd9011f7/data/_SUCCESS (stored 0%)\n",
            "  adding: bestModel/stages/00_CountVectorizer_71b2cd9011f7/data/._SUCCESS.crc (stored 0%)\n",
            "  adding: bestModel/stages/00_CountVectorizer_71b2cd9011f7/metadata/ (stored 0%)\n",
            "  adding: bestModel/stages/00_CountVectorizer_71b2cd9011f7/metadata/part-00000 (deflated 36%)\n",
            "  adding: bestModel/stages/00_CountVectorizer_71b2cd9011f7/metadata/.part-00000.crc (stored 0%)\n",
            "  adding: bestModel/stages/00_CountVectorizer_71b2cd9011f7/metadata/_SUCCESS (stored 0%)\n",
            "  adding: bestModel/stages/00_CountVectorizer_71b2cd9011f7/metadata/._SUCCESS.crc (stored 0%)\n",
            "  adding: bestModel/stages/11_CountVectorizer_f3d2dcdce725/ (stored 0%)\n",
            "  adding: bestModel/stages/11_CountVectorizer_f3d2dcdce725/data/ (stored 0%)\n",
            "  adding: bestModel/stages/11_CountVectorizer_f3d2dcdce725/data/.part-00000-72f76030-a83e-4837-baa2-a91b7ffba6d8-c000.snappy.parquet.crc (stored 0%)\n",
            "  adding: bestModel/stages/11_CountVectorizer_f3d2dcdce725/data/part-00000-72f76030-a83e-4837-baa2-a91b7ffba6d8-c000.snappy.parquet (deflated 23%)\n",
            "  adding: bestModel/stages/11_CountVectorizer_f3d2dcdce725/data/_SUCCESS (stored 0%)\n",
            "  adding: bestModel/stages/11_CountVectorizer_f3d2dcdce725/data/._SUCCESS.crc (stored 0%)\n",
            "  adding: bestModel/stages/11_CountVectorizer_f3d2dcdce725/metadata/ (stored 0%)\n",
            "  adding: bestModel/stages/11_CountVectorizer_f3d2dcdce725/metadata/part-00000 (deflated 36%)\n",
            "  adding: bestModel/stages/11_CountVectorizer_f3d2dcdce725/metadata/.part-00000.crc (stored 0%)\n",
            "  adding: bestModel/stages/11_CountVectorizer_f3d2dcdce725/metadata/_SUCCESS (stored 0%)\n",
            "  adding: bestModel/stages/11_CountVectorizer_f3d2dcdce725/metadata/._SUCCESS.crc (stored 0%)\n"
          ]
        }
      ],
      "source": [
        "!zip -u -r bestModel.zip bestModel"
      ]
    },
    {
      "cell_type": "code",
      "execution_count": null,
      "metadata": {
        "id": "XtSv6pTDLLiU"
      },
      "outputs": [],
      "source": [
        "pred=cvModel.transform(test)"
      ]
    },
    {
      "cell_type": "code",
      "execution_count": null,
      "metadata": {
        "colab": {
          "base_uri": "https://localhost:8080/"
        },
        "id": "_4r7xth3LLiU",
        "outputId": "6ae04d20-64ad-4334-9140-48b95ee905e3"
      },
      "outputs": [
        {
          "data": {
            "text/plain": [
              "0.9467532467532467"
            ]
          },
          "execution_count": 101,
          "metadata": {},
          "output_type": "execute_result"
        }
      ],
      "source": [
        "evaluator.evaluate(pred)"
      ]
    },
    {
      "cell_type": "markdown",
      "metadata": {
        "id": "kFT96PmCLLiV"
      },
      "source": [
        "# Final Steps\n",
        "Clean up your code, adding comments and renaming variables to make the code easier to read and maintain. Refer to the Spark Project Overview page and Data Scientist Capstone Project Rubric to make sure you are including all components of the capstone project and meet all expectations. Remember, this includes thorough documentation in a README file in a Github repository, as well as a web app or blog post."
      ]
    },
    {
      "cell_type": "code",
      "execution_count": null,
      "metadata": {
        "colab": {
          "background_save": true
        },
        "id": "HmbFK26-WtcO",
        "outputId": "6c63ba74-c8c5-466c-8459-1f299e8ab501"
      },
      "outputs": [
        {
          "name": "stdout",
          "output_type": "stream",
          "text": [
            "Setting default log level to \"WARN\".\n",
            "To adjust logging level use sc.setLogLevel(newLevel). For SparkR, use setLogLevel(newLevel).\n",
            "23/06/27 09:11:41 WARN NativeCodeLoader: Unable to load native-hadoop library for your platform... using builtin-java classes where applicable\n",
            "23/06/27 09:11:43 WARN Utils: Service 'SparkUI' could not bind on port 4040. Attempting port 4041.\n",
            "WARNING: An illegal reflective access operation has occurred\n",
            "WARNING: Illegal reflective access by org.apache.spark.util.SizeEstimator$ (file:/usr/local/lib/python3.10/dist-packages/pyspark/jars/spark-core_2.12-3.4.1.jar) to field java.math.BigInteger.mag\n",
            "WARNING: Please consider reporting this to the maintainers of org.apache.spark.util.SizeEstimator$\n",
            "WARNING: Use --illegal-access=warn to enable warnings of further illegal reflective access operations\n",
            "WARNING: All illegal access operations will be denied in a future release\n",
            "Running on local URL:  http://127.0.0.1:7860\n",
            "Running on public URL: https://0f39faaa66ef280a7d.gradio.live\n",
            "\n",
            "This share link expires in 72 hours. For free permanent hosting and GPU upgrades, run `gradio deploy` from Terminal to deploy to Spaces (https://huggingface.co/spaces)\n",
            "23/06/27 09:26:35 WARN DAGScheduler: Broadcasting large task binary with size 4.1 MiB\n",
            "23/06/27 12:03:51 WARN DAGScheduler: Broadcasting large task binary with size 4.1 MiB\n",
            "23/06/27 12:03:52 ERROR Executor: Exception in task 1.0 in stage 64.0 (TID 66)\n",
            "org.apache.spark.SparkException: [FAILED_EXECUTE_UDF] Failed to execute user defined function (StringIndexerModel$$Lambda$3515/0x00000008415b2040: (string) => double).\n",
            "\tat org.apache.spark.sql.errors.QueryExecutionErrors$.failedExecuteUserDefinedFunctionError(QueryExecutionErrors.scala:217)\n",
            "\tat org.apache.spark.sql.errors.QueryExecutionErrors.failedExecuteUserDefinedFunctionError(QueryExecutionErrors.scala)\n",
            "\tat org.apache.spark.sql.catalyst.expressions.GeneratedClass$GeneratedIteratorForCodegenStage1.processNext(Unknown Source)\n",
            "\tat org.apache.spark.sql.execution.BufferedRowIterator.hasNext(BufferedRowIterator.java:43)\n",
            "\tat org.apache.spark.sql.execution.WholeStageCodegenExec$$anon$1.hasNext(WholeStageCodegenExec.scala:760)\n",
            "\tat org.apache.spark.sql.execution.SparkPlan.$anonfun$getByteArrayRdd$1(SparkPlan.scala:388)\n",
            "\tat org.apache.spark.rdd.RDD.$anonfun$mapPartitionsInternal$2(RDD.scala:888)\n",
            "\tat org.apache.spark.rdd.RDD.$anonfun$mapPartitionsInternal$2$adapted(RDD.scala:888)\n",
            "\tat org.apache.spark.rdd.MapPartitionsRDD.compute(MapPartitionsRDD.scala:52)\n",
            "\tat org.apache.spark.rdd.RDD.computeOrReadCheckpoint(RDD.scala:364)\n",
            "\tat org.apache.spark.rdd.RDD.iterator(RDD.scala:328)\n",
            "\tat org.apache.spark.scheduler.ResultTask.runTask(ResultTask.scala:92)\n",
            "\tat org.apache.spark.TaskContext.runTaskWithListeners(TaskContext.scala:161)\n",
            "\tat org.apache.spark.scheduler.Task.run(Task.scala:139)\n",
            "\tat org.apache.spark.executor.Executor$TaskRunner.$anonfun$run$3(Executor.scala:554)\n",
            "\tat org.apache.spark.util.Utils$.tryWithSafeFinally(Utils.scala:1529)\n",
            "\tat org.apache.spark.executor.Executor$TaskRunner.run(Executor.scala:557)\n",
            "\tat java.base/java.util.concurrent.ThreadPoolExecutor.runWorker(ThreadPoolExecutor.java:1128)\n",
            "\tat java.base/java.util.concurrent.ThreadPoolExecutor$Worker.run(ThreadPoolExecutor.java:628)\n",
            "\tat java.base/java.lang.Thread.run(Thread.java:829)\n",
            "Caused by: org.apache.spark.SparkException: Unseen label: None. To handle unseen labels, set Param handleInvalid to keep.\n",
            "\tat org.apache.spark.ml.feature.StringIndexerModel.$anonfun$getIndexer$1(StringIndexer.scala:406)\n",
            "\tat org.apache.spark.ml.feature.StringIndexerModel.$anonfun$getIndexer$1$adapted(StringIndexer.scala:391)\n",
            "\t... 18 more\n",
            "23/06/27 12:03:52 WARN TaskSetManager: Lost task 1.0 in stage 64.0 (TID 66) (7457b600f8b8 executor driver): org.apache.spark.SparkException: [FAILED_EXECUTE_UDF] Failed to execute user defined function (StringIndexerModel$$Lambda$3515/0x00000008415b2040: (string) => double).\n",
            "\tat org.apache.spark.sql.errors.QueryExecutionErrors$.failedExecuteUserDefinedFunctionError(QueryExecutionErrors.scala:217)\n",
            "\tat org.apache.spark.sql.errors.QueryExecutionErrors.failedExecuteUserDefinedFunctionError(QueryExecutionErrors.scala)\n",
            "\tat org.apache.spark.sql.catalyst.expressions.GeneratedClass$GeneratedIteratorForCodegenStage1.processNext(Unknown Source)\n",
            "\tat org.apache.spark.sql.execution.BufferedRowIterator.hasNext(BufferedRowIterator.java:43)\n",
            "\tat org.apache.spark.sql.execution.WholeStageCodegenExec$$anon$1.hasNext(WholeStageCodegenExec.scala:760)\n",
            "\tat org.apache.spark.sql.execution.SparkPlan.$anonfun$getByteArrayRdd$1(SparkPlan.scala:388)\n",
            "\tat org.apache.spark.rdd.RDD.$anonfun$mapPartitionsInternal$2(RDD.scala:888)\n",
            "\tat org.apache.spark.rdd.RDD.$anonfun$mapPartitionsInternal$2$adapted(RDD.scala:888)\n",
            "\tat org.apache.spark.rdd.MapPartitionsRDD.compute(MapPartitionsRDD.scala:52)\n",
            "\tat org.apache.spark.rdd.RDD.computeOrReadCheckpoint(RDD.scala:364)\n",
            "\tat org.apache.spark.rdd.RDD.iterator(RDD.scala:328)\n",
            "\tat org.apache.spark.scheduler.ResultTask.runTask(ResultTask.scala:92)\n",
            "\tat org.apache.spark.TaskContext.runTaskWithListeners(TaskContext.scala:161)\n",
            "\tat org.apache.spark.scheduler.Task.run(Task.scala:139)\n",
            "\tat org.apache.spark.executor.Executor$TaskRunner.$anonfun$run$3(Executor.scala:554)\n",
            "\tat org.apache.spark.util.Utils$.tryWithSafeFinally(Utils.scala:1529)\n",
            "\tat org.apache.spark.executor.Executor$TaskRunner.run(Executor.scala:557)\n",
            "\tat java.base/java.util.concurrent.ThreadPoolExecutor.runWorker(ThreadPoolExecutor.java:1128)\n",
            "\tat java.base/java.util.concurrent.ThreadPoolExecutor$Worker.run(ThreadPoolExecutor.java:628)\n",
            "\tat java.base/java.lang.Thread.run(Thread.java:829)\n",
            "Caused by: org.apache.spark.SparkException: Unseen label: None. To handle unseen labels, set Param handleInvalid to keep.\n",
            "\tat org.apache.spark.ml.feature.StringIndexerModel.$anonfun$getIndexer$1(StringIndexer.scala:406)\n",
            "\tat org.apache.spark.ml.feature.StringIndexerModel.$anonfun$getIndexer$1$adapted(StringIndexer.scala:391)\n",
            "\t... 18 more\n",
            "\n",
            "23/06/27 12:03:52 ERROR TaskSetManager: Task 1 in stage 64.0 failed 1 times; aborting job\n",
            "Traceback (most recent call last):\n",
            "  File \"/usr/local/lib/python3.10/dist-packages/gradio/routes.py\", line 437, in run_predict\n",
            "    output = await app.get_blocks().process_api(\n",
            "  File \"/usr/local/lib/python3.10/dist-packages/gradio/blocks.py\", line 1352, in process_api\n",
            "    result = await self.call_function(\n",
            "  File \"/usr/local/lib/python3.10/dist-packages/gradio/blocks.py\", line 1077, in call_function\n",
            "    prediction = await anyio.to_thread.run_sync(\n",
            "  File \"/usr/local/lib/python3.10/dist-packages/anyio/to_thread.py\", line 33, in run_sync\n",
            "    return await get_asynclib().run_sync_in_worker_thread(\n",
            "  File \"/usr/local/lib/python3.10/dist-packages/anyio/_backends/_asyncio.py\", line 877, in run_sync_in_worker_thread\n",
            "    return await future\n",
            "  File \"/usr/local/lib/python3.10/dist-packages/anyio/_backends/_asyncio.py\", line 807, in run\n",
            "    result = context.run(func, *args)\n",
            "  File \"/content/web_app.py\", line 29, in predictor\n",
            "    pred=pipe.transform(d).collect()[0].probability\n",
            "  File \"/usr/local/lib/python3.10/dist-packages/pyspark/sql/dataframe.py\", line 1216, in collect\n",
            "    sock_info = self._jdf.collectToPython()\n",
            "  File \"/usr/local/lib/python3.10/dist-packages/py4j/java_gateway.py\", line 1322, in __call__\n",
            "    return_value = get_return_value(\n",
            "  File \"/usr/local/lib/python3.10/dist-packages/pyspark/errors/exceptions/captured.py\", line 169, in deco\n",
            "    return f(*a, **kw)\n",
            "  File \"/usr/local/lib/python3.10/dist-packages/py4j/protocol.py\", line 326, in get_return_value\n",
            "    raise Py4JJavaError(\n",
            "py4j.protocol.Py4JJavaError: An error occurred while calling o887.collectToPython.\n",
            ": org.apache.spark.SparkException: Job aborted due to stage failure: Task 1 in stage 64.0 failed 1 times, most recent failure: Lost task 1.0 in stage 64.0 (TID 66) (7457b600f8b8 executor driver): org.apache.spark.SparkException: [FAILED_EXECUTE_UDF] Failed to execute user defined function (StringIndexerModel$$Lambda$3515/0x00000008415b2040: (string) => double).\n",
            "\tat org.apache.spark.sql.errors.QueryExecutionErrors$.failedExecuteUserDefinedFunctionError(QueryExecutionErrors.scala:217)\n",
            "\tat org.apache.spark.sql.errors.QueryExecutionErrors.failedExecuteUserDefinedFunctionError(QueryExecutionErrors.scala)\n",
            "\tat org.apache.spark.sql.catalyst.expressions.GeneratedClass$GeneratedIteratorForCodegenStage1.processNext(Unknown Source)\n",
            "\tat org.apache.spark.sql.execution.BufferedRowIterator.hasNext(BufferedRowIterator.java:43)\n",
            "\tat org.apache.spark.sql.execution.WholeStageCodegenExec$$anon$1.hasNext(WholeStageCodegenExec.scala:760)\n",
            "\tat org.apache.spark.sql.execution.SparkPlan.$anonfun$getByteArrayRdd$1(SparkPlan.scala:388)\n",
            "\tat org.apache.spark.rdd.RDD.$anonfun$mapPartitionsInternal$2(RDD.scala:888)\n",
            "\tat org.apache.spark.rdd.RDD.$anonfun$mapPartitionsInternal$2$adapted(RDD.scala:888)\n",
            "\tat org.apache.spark.rdd.MapPartitionsRDD.compute(MapPartitionsRDD.scala:52)\n",
            "\tat org.apache.spark.rdd.RDD.computeOrReadCheckpoint(RDD.scala:364)\n",
            "\tat org.apache.spark.rdd.RDD.iterator(RDD.scala:328)\n",
            "\tat org.apache.spark.scheduler.ResultTask.runTask(ResultTask.scala:92)\n",
            "\tat org.apache.spark.TaskContext.runTaskWithListeners(TaskContext.scala:161)\n",
            "\tat org.apache.spark.scheduler.Task.run(Task.scala:139)\n",
            "\tat org.apache.spark.executor.Executor$TaskRunner.$anonfun$run$3(Executor.scala:554)\n",
            "\tat org.apache.spark.util.Utils$.tryWithSafeFinally(Utils.scala:1529)\n",
            "\tat org.apache.spark.executor.Executor$TaskRunner.run(Executor.scala:557)\n",
            "\tat java.base/java.util.concurrent.ThreadPoolExecutor.runWorker(ThreadPoolExecutor.java:1128)\n",
            "\tat java.base/java.util.concurrent.ThreadPoolExecutor$Worker.run(ThreadPoolExecutor.java:628)\n",
            "\tat java.base/java.lang.Thread.run(Thread.java:829)\n",
            "Caused by: org.apache.spark.SparkException: Unseen label: None. To handle unseen labels, set Param handleInvalid to keep.\n",
            "\tat org.apache.spark.ml.feature.StringIndexerModel.$anonfun$getIndexer$1(StringIndexer.scala:406)\n",
            "\tat org.apache.spark.ml.feature.StringIndexerModel.$anonfun$getIndexer$1$adapted(StringIndexer.scala:391)\n",
            "\t... 18 more\n",
            "\n",
            "Driver stacktrace:\n",
            "\tat org.apache.spark.scheduler.DAGScheduler.failJobAndIndependentStages(DAGScheduler.scala:2785)\n",
            "\tat org.apache.spark.scheduler.DAGScheduler.$anonfun$abortStage$2(DAGScheduler.scala:2721)\n",
            "\tat org.apache.spark.scheduler.DAGScheduler.$anonfun$abortStage$2$adapted(DAGScheduler.scala:2720)\n",
            "\tat scala.collection.mutable.ResizableArray.foreach(ResizableArray.scala:62)\n",
            "\tat scala.collection.mutable.ResizableArray.foreach$(ResizableArray.scala:55)\n",
            "\tat scala.collection.mutable.ArrayBuffer.foreach(ArrayBuffer.scala:49)\n",
            "\tat org.apache.spark.scheduler.DAGScheduler.abortStage(DAGScheduler.scala:2720)\n",
            "\tat org.apache.spark.scheduler.DAGScheduler.$anonfun$handleTaskSetFailed$1(DAGScheduler.scala:1206)\n",
            "\tat org.apache.spark.scheduler.DAGScheduler.$anonfun$handleTaskSetFailed$1$adapted(DAGScheduler.scala:1206)\n",
            "\tat scala.Option.foreach(Option.scala:407)\n",
            "\tat org.apache.spark.scheduler.DAGScheduler.handleTaskSetFailed(DAGScheduler.scala:1206)\n",
            "\tat org.apache.spark.scheduler.DAGSchedulerEventProcessLoop.doOnReceive(DAGScheduler.scala:2984)\n",
            "\tat org.apache.spark.scheduler.DAGSchedulerEventProcessLoop.onReceive(DAGScheduler.scala:2923)\n",
            "\tat org.apache.spark.scheduler.DAGSchedulerEventProcessLoop.onReceive(DAGScheduler.scala:2912)\n",
            "\tat org.apache.spark.util.EventLoop$$anon$1.run(EventLoop.scala:49)\n",
            "\tat org.apache.spark.scheduler.DAGScheduler.runJob(DAGScheduler.scala:971)\n",
            "\tat org.apache.spark.SparkContext.runJob(SparkContext.scala:2263)\n",
            "\tat org.apache.spark.SparkContext.runJob(SparkContext.scala:2284)\n",
            "\tat org.apache.spark.SparkContext.runJob(SparkContext.scala:2303)\n",
            "\tat org.apache.spark.SparkContext.runJob(SparkContext.scala:2328)\n",
            "\tat org.apache.spark.rdd.RDD.$anonfun$collect$1(RDD.scala:1019)\n",
            "\tat org.apache.spark.rdd.RDDOperationScope$.withScope(RDDOperationScope.scala:151)\n",
            "\tat org.apache.spark.rdd.RDDOperationScope$.withScope(RDDOperationScope.scala:112)\n",
            "\tat org.apache.spark.rdd.RDD.withScope(RDD.scala:405)\n",
            "\tat org.apache.spark.rdd.RDD.collect(RDD.scala:1018)\n",
            "\tat org.apache.spark.sql.execution.SparkPlan.executeCollect(SparkPlan.scala:448)\n",
            "\tat org.apache.spark.sql.Dataset.$anonfun$collectToPython$1(Dataset.scala:3997)\n",
            "\tat org.apache.spark.sql.Dataset.$anonfun$withAction$2(Dataset.scala:4167)\n",
            "\tat org.apache.spark.sql.execution.QueryExecution$.withInternalError(QueryExecution.scala:526)\n",
            "\tat org.apache.spark.sql.Dataset.$anonfun$withAction$1(Dataset.scala:4165)\n",
            "\tat org.apache.spark.sql.execution.SQLExecution$.$anonfun$withNewExecutionId$6(SQLExecution.scala:118)\n",
            "\tat org.apache.spark.sql.execution.SQLExecution$.withSQLConfPropagated(SQLExecution.scala:195)\n",
            "\tat org.apache.spark.sql.execution.SQLExecution$.$anonfun$withNewExecutionId$1(SQLExecution.scala:103)\n",
            "\tat org.apache.spark.sql.SparkSession.withActive(SparkSession.scala:827)\n",
            "\tat org.apache.spark.sql.execution.SQLExecution$.withNewExecutionId(SQLExecution.scala:65)\n",
            "\tat org.apache.spark.sql.Dataset.withAction(Dataset.scala:4165)\n",
            "\tat org.apache.spark.sql.Dataset.collectToPython(Dataset.scala:3994)\n",
            "\tat java.base/jdk.internal.reflect.NativeMethodAccessorImpl.invoke0(Native Method)\n",
            "\tat java.base/jdk.internal.reflect.NativeMethodAccessorImpl.invoke(NativeMethodAccessorImpl.java:62)\n",
            "\tat java.base/jdk.internal.reflect.DelegatingMethodAccessorImpl.invoke(DelegatingMethodAccessorImpl.java:43)\n",
            "\tat java.base/java.lang.reflect.Method.invoke(Method.java:566)\n",
            "\tat py4j.reflection.MethodInvoker.invoke(MethodInvoker.java:244)\n",
            "\tat py4j.reflection.ReflectionEngine.invoke(ReflectionEngine.java:374)\n",
            "\tat py4j.Gateway.invoke(Gateway.java:282)\n",
            "\tat py4j.commands.AbstractCommand.invokeMethod(AbstractCommand.java:132)\n",
            "\tat py4j.commands.CallCommand.execute(CallCommand.java:79)\n",
            "\tat py4j.ClientServerConnection.waitForCommands(ClientServerConnection.java:182)\n",
            "\tat py4j.ClientServerConnection.run(ClientServerConnection.java:106)\n",
            "\tat java.base/java.lang.Thread.run(Thread.java:829)\n",
            "Caused by: org.apache.spark.SparkException: [FAILED_EXECUTE_UDF] Failed to execute user defined function (StringIndexerModel$$Lambda$3515/0x00000008415b2040: (string) => double).\n",
            "\tat org.apache.spark.sql.errors.QueryExecutionErrors$.failedExecuteUserDefinedFunctionError(QueryExecutionErrors.scala:217)\n",
            "\tat org.apache.spark.sql.errors.QueryExecutionErrors.failedExecuteUserDefinedFunctionError(QueryExecutionErrors.scala)\n",
            "\tat org.apache.spark.sql.catalyst.expressions.GeneratedClass$GeneratedIteratorForCodegenStage1.processNext(Unknown Source)\n",
            "\tat org.apache.spark.sql.execution.BufferedRowIterator.hasNext(BufferedRowIterator.java:43)\n",
            "\tat org.apache.spark.sql.execution.WholeStageCodegenExec$$anon$1.hasNext(WholeStageCodegenExec.scala:760)\n",
            "\tat org.apache.spark.sql.execution.SparkPlan.$anonfun$getByteArrayRdd$1(SparkPlan.scala:388)\n",
            "\tat org.apache.spark.rdd.RDD.$anonfun$mapPartitionsInternal$2(RDD.scala:888)\n",
            "\tat org.apache.spark.rdd.RDD.$anonfun$mapPartitionsInternal$2$adapted(RDD.scala:888)\n",
            "\tat org.apache.spark.rdd.MapPartitionsRDD.compute(MapPartitionsRDD.scala:52)\n",
            "\tat org.apache.spark.rdd.RDD.computeOrReadCheckpoint(RDD.scala:364)\n",
            "\tat org.apache.spark.rdd.RDD.iterator(RDD.scala:328)\n",
            "\tat org.apache.spark.scheduler.ResultTask.runTask(ResultTask.scala:92)\n",
            "\tat org.apache.spark.TaskContext.runTaskWithListeners(TaskContext.scala:161)\n",
            "\tat org.apache.spark.scheduler.Task.run(Task.scala:139)\n",
            "\tat org.apache.spark.executor.Executor$TaskRunner.$anonfun$run$3(Executor.scala:554)\n",
            "\tat org.apache.spark.util.Utils$.tryWithSafeFinally(Utils.scala:1529)\n",
            "\tat org.apache.spark.executor.Executor$TaskRunner.run(Executor.scala:557)\n",
            "\tat java.base/java.util.concurrent.ThreadPoolExecutor.runWorker(ThreadPoolExecutor.java:1128)\n",
            "\tat java.base/java.util.concurrent.ThreadPoolExecutor$Worker.run(ThreadPoolExecutor.java:628)\n",
            "\t... 1 more\n",
            "Caused by: org.apache.spark.SparkException: Unseen label: None. To handle unseen labels, set Param handleInvalid to keep.\n",
            "\tat org.apache.spark.ml.feature.StringIndexerModel.$anonfun$getIndexer$1(StringIndexer.scala:406)\n",
            "\tat org.apache.spark.ml.feature.StringIndexerModel.$anonfun$getIndexer$1$adapted(StringIndexer.scala:391)\n",
            "\t... 18 more\n",
            "\n",
            "23/06/27 12:04:35 WARN DAGScheduler: Broadcasting large task binary with size 4.1 MiB\n",
            "23/06/27 12:04:53 WARN DAGScheduler: Broadcasting large task binary with size 4.1 MiB\n"
          ]
        }
      ],
      "source": [
        "!python web_app.py"
      ]
    }
  ],
  "metadata": {
    "colab": {
      "provenance": []
    },
    "kernelspec": {
      "display_name": "Python 3 (ipykernel)",
      "language": "python",
      "name": "python3"
    },
    "language_info": {
      "codemirror_mode": {
        "name": "ipython",
        "version": 3
      },
      "file_extension": ".py",
      "mimetype": "text/x-python",
      "name": "python",
      "nbconvert_exporter": "python",
      "pygments_lexer": "ipython3",
      "version": "3.10.11"
    }
  },
  "nbformat": 4,
  "nbformat_minor": 0
}